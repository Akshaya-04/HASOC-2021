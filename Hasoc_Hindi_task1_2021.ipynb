{
 "cells": [
  {
   "cell_type": "code",
   "execution_count": 1,
   "metadata": {},
   "outputs": [
    {
     "name": "stderr",
     "output_type": "stream",
     "text": [
      "[nltk_data] Downloading package punkt to\n",
      "[nltk_data]     C:\\Users\\win10\\AppData\\Roaming\\nltk_data...\n",
      "[nltk_data]   Package punkt is already up-to-date!\n",
      "[nltk_data] Downloading package averaged_perceptron_tagger to\n",
      "[nltk_data]     C:\\Users\\win10\\AppData\\Roaming\\nltk_data...\n",
      "[nltk_data]   Package averaged_perceptron_tagger is already up-to-\n",
      "[nltk_data]       date!\n",
      "[nltk_data] Downloading package wordnet to\n",
      "[nltk_data]     C:\\Users\\win10\\AppData\\Roaming\\nltk_data...\n",
      "[nltk_data]   Package wordnet is already up-to-date!\n"
     ]
    }
   ],
   "source": [
    "import pandas as pd\n",
    "import numpy as np\n",
    "#for text pre-processing\n",
    "import re, string\n",
    "import nltk\n",
    "from nltk.tokenize import word_tokenize\n",
    "from nltk.corpus import stopwords\n",
    "from nltk.tokenize import word_tokenize\n",
    "from nltk.stem import SnowballStemmer\n",
    "from nltk.corpus import wordnet\n",
    "from nltk.stem import WordNetLemmatizer\n",
    "nltk.download('punkt')\n",
    "nltk.download('averaged_perceptron_tagger')\n",
    "nltk.download('wordnet')\n",
    "#for model-building\n",
    "from sklearn.model_selection import train_test_split\n",
    "from sklearn.linear_model import LogisticRegression\n",
    "from sklearn.naive_bayes import MultinomialNB\n",
    "from sklearn.metrics import classification_report, f1_score, accuracy_score, confusion_matrix\n",
    "from sklearn.metrics import roc_curve, auc, roc_auc_score\n",
    "# bag of words\n",
    "from sklearn.feature_extraction.text import TfidfVectorizer\n",
    "from sklearn.feature_extraction.text import CountVectorizer\n",
    "#for word embedding\n",
    "import gensim\n",
    "from gensim.models import Word2Vec"
   ]
  },
  {
   "cell_type": "code",
   "execution_count": 2,
   "metadata": {},
   "outputs": [],
   "source": [
    "import numpy as np                  #linear algebra\n",
    "import pandas as pd                 # data processing, CSV file I/O (e.g. pd.read_csv)\n",
    "import matplotlib.pyplot as plt     #For Visualisation\n",
    "%matplotlib inline\n",
    "import seaborn as sns               #For better Visualisation\n",
    "from bs4 import BeautifulSoup       #For Text Parsing"
   ]
  },
  {
   "cell_type": "code",
   "execution_count": 3,
   "metadata": {},
   "outputs": [],
   "source": [
    "df = pd.read_csv('HASOC-Hindi2021(train).csv')"
   ]
  },
  {
   "cell_type": "code",
   "execution_count": 4,
   "metadata": {},
   "outputs": [
    {
     "data": {
      "text/html": [
       "<div>\n",
       "<style scoped>\n",
       "    .dataframe tbody tr th:only-of-type {\n",
       "        vertical-align: middle;\n",
       "    }\n",
       "\n",
       "    .dataframe tbody tr th {\n",
       "        vertical-align: top;\n",
       "    }\n",
       "\n",
       "    .dataframe thead th {\n",
       "        text-align: right;\n",
       "    }\n",
       "</style>\n",
       "<table border=\"1\" class=\"dataframe\">\n",
       "  <thead>\n",
       "    <tr style=\"text-align: right;\">\n",
       "      <th></th>\n",
       "      <th>Unnamed: 0</th>\n",
       "      <th>_id</th>\n",
       "      <th>tweet_id</th>\n",
       "      <th>text</th>\n",
       "      <th>task_1</th>\n",
       "      <th>task_2</th>\n",
       "    </tr>\n",
       "  </thead>\n",
       "  <tbody>\n",
       "    <tr>\n",
       "      <th>0</th>\n",
       "      <td>998</td>\n",
       "      <td>60c5d7495659ea5e55df0b7b</td>\n",
       "      <td>hi_hasoc_2021_998</td>\n",
       "      <td>@rssurjewala #Hindus DYING #HindusLivesMatter ...</td>\n",
       "      <td>NOT</td>\n",
       "      <td>NONE</td>\n",
       "    </tr>\n",
       "    <tr>\n",
       "      <th>1</th>\n",
       "      <td>4049</td>\n",
       "      <td>60c5d7495659ea5e55df1b73</td>\n",
       "      <td>hi_hasoc_2021_4049</td>\n",
       "      <td>सब लोग इतने पैसे डोनेट ही कर रहे हैं फिर भी आम...</td>\n",
       "      <td>NOT</td>\n",
       "      <td>NONE</td>\n",
       "    </tr>\n",
       "    <tr>\n",
       "      <th>2</th>\n",
       "      <td>1757</td>\n",
       "      <td>60c5d7495659ea5e55df0d1b</td>\n",
       "      <td>hi_hasoc_2021_1757</td>\n",
       "      <td>शेर-ए- सिवान शहाबुद्दीन साहब से रिश्ता क्या  ل...</td>\n",
       "      <td>NOT</td>\n",
       "      <td>NONE</td>\n",
       "    </tr>\n",
       "    <tr>\n",
       "      <th>3</th>\n",
       "      <td>5175</td>\n",
       "      <td>60c5d7495659ea5e55df0e45</td>\n",
       "      <td>hi_hasoc_2021_5178</td>\n",
       "      <td>@AskAnshul आसमानी किताब के नाजायज औलाद है।</td>\n",
       "      <td>HOF</td>\n",
       "      <td>OFFN</td>\n",
       "    </tr>\n",
       "    <tr>\n",
       "      <th>4</th>\n",
       "      <td>1825</td>\n",
       "      <td>60c5d7495659ea5e55df0ee1</td>\n",
       "      <td>hi_hasoc_2021_1825</td>\n",
       "      <td>@Shikha0222 इसे कहते हैं दोगला पंती जिस सपा की...</td>\n",
       "      <td>NOT</td>\n",
       "      <td>NONE</td>\n",
       "    </tr>\n",
       "  </tbody>\n",
       "</table>\n",
       "</div>"
      ],
      "text/plain": [
       "   Unnamed: 0                       _id            tweet_id  \\\n",
       "0         998  60c5d7495659ea5e55df0b7b   hi_hasoc_2021_998   \n",
       "1        4049  60c5d7495659ea5e55df1b73  hi_hasoc_2021_4049   \n",
       "2        1757  60c5d7495659ea5e55df0d1b  hi_hasoc_2021_1757   \n",
       "3        5175  60c5d7495659ea5e55df0e45  hi_hasoc_2021_5178   \n",
       "4        1825  60c5d7495659ea5e55df0ee1  hi_hasoc_2021_1825   \n",
       "\n",
       "                                                text task_1 task_2  \n",
       "0  @rssurjewala #Hindus DYING #HindusLivesMatter ...    NOT   NONE  \n",
       "1  सब लोग इतने पैसे डोनेट ही कर रहे हैं फिर भी आम...    NOT   NONE  \n",
       "2  शेर-ए- सिवान शहाबुद्दीन साहब से रिश्ता क्या  ل...    NOT   NONE  \n",
       "3         @AskAnshul आसमानी किताब के नाजायज औलाद है।    HOF   OFFN  \n",
       "4  @Shikha0222 इसे कहते हैं दोगला पंती जिस सपा की...    NOT   NONE  "
      ]
     },
     "execution_count": 4,
     "metadata": {},
     "output_type": "execute_result"
    }
   ],
   "source": [
    "df.head()"
   ]
  },
  {
   "cell_type": "markdown",
   "metadata": {},
   "source": [
    "# Class Distribution"
   ]
  },
  {
   "cell_type": "code",
   "execution_count": 5,
   "metadata": {},
   "outputs": [
    {
     "name": "stdout",
     "output_type": "stream",
     "text": [
      "NOT    3161\n",
      "HOF    1433\n",
      "Name: task_1, dtype: int64\n"
     ]
    },
    {
     "name": "stderr",
     "output_type": "stream",
     "text": [
      "C:\\Users\\win10\\anaconda3\\lib\\site-packages\\seaborn\\_decorators.py:36: FutureWarning: Pass the following variables as keyword args: x, y. From version 0.12, the only valid positional argument will be `data`, and passing other arguments without an explicit keyword will result in an error or misinterpretation.\n",
      "  warnings.warn(\n"
     ]
    },
    {
     "data": {
      "text/plain": [
       "<AxesSubplot:ylabel='task_1'>"
      ]
     },
     "execution_count": 5,
     "metadata": {},
     "output_type": "execute_result"
    },
    {
     "data": {
      "image/png": "[encoded data removed]",
      "text/plain": [
       "<Figure size 432x288 with 1 Axes>"
      ]
     },
     "metadata": {
      "needs_background": "light"
     },
     "output_type": "display_data"
    }
   ],
   "source": [
    "import seaborn as sns\n",
    "x=df['task_1'].value_counts()\n",
    "print(x)\n",
    "sns.barplot(x.index,x)"
   ]
  },
  {
   "cell_type": "code",
   "execution_count": 6,
   "metadata": {},
   "outputs": [
    {
     "data": {
      "text/plain": [
       "Unnamed: 0    0\n",
       "_id           0\n",
       "tweet_id      0\n",
       "text          0\n",
       "task_1        0\n",
       "task_2        0\n",
       "dtype: int64"
      ]
     },
     "execution_count": 6,
     "metadata": {},
     "output_type": "execute_result"
    }
   ],
   "source": [
    "df.isna().sum()"
   ]
  },
  {
   "cell_type": "code",
   "execution_count": 7,
   "metadata": {},
   "outputs": [
    {
     "data": {
      "text/plain": [
       "(4594, 6)"
      ]
     },
     "execution_count": 7,
     "metadata": {},
     "output_type": "execute_result"
    }
   ],
   "source": [
    "df.shape"
   ]
  },
  {
   "cell_type": "code",
   "execution_count": 8,
   "metadata": {},
   "outputs": [
    {
     "data": {
      "text/plain": [
       "Index(['Unnamed: 0', '_id', 'tweet_id', 'text', 'task_1', 'task_2'], dtype='object')"
      ]
     },
     "execution_count": 8,
     "metadata": {},
     "output_type": "execute_result"
    }
   ],
   "source": [
    "# Names Of columns in our dataset\n",
    "df.columns"
   ]
  },
  {
   "cell_type": "code",
   "execution_count": 9,
   "metadata": {},
   "outputs": [
    {
     "name": "stdout",
     "output_type": "stream",
     "text": [
      "<class 'pandas.core.frame.DataFrame'>\n",
      "RangeIndex: 4594 entries, 0 to 4593\n",
      "Data columns (total 6 columns):\n",
      " #   Column      Non-Null Count  Dtype \n",
      "---  ------      --------------  ----- \n",
      " 0   Unnamed: 0  4594 non-null   int64 \n",
      " 1   _id         4594 non-null   object\n",
      " 2   tweet_id    4594 non-null   object\n",
      " 3   text        4594 non-null   object\n",
      " 4   task_1      4594 non-null   object\n",
      " 5   task_2      4594 non-null   object\n",
      "dtypes: int64(1), object(5)\n",
      "memory usage: 215.5+ KB\n"
     ]
    }
   ],
   "source": [
    "# There are null values in location column\n",
    "df.info()"
   ]
  },
  {
   "cell_type": "code",
   "execution_count": 10,
   "metadata": {},
   "outputs": [
    {
     "data": {
      "text/plain": [
       "NOT    3161\n",
       "HOF    1433\n",
       "Name: task_1, dtype: int64"
      ]
     },
     "execution_count": 10,
     "metadata": {},
     "output_type": "execute_result"
    }
   ],
   "source": [
    "# There are 5 unique sentiment types in our dataset\n",
    "df['task_1'].value_counts()"
   ]
  },
  {
   "cell_type": "markdown",
   "metadata": {},
   "source": [
    "# Going deeper into tweet and sentiment."
   ]
  },
  {
   "cell_type": "code",
   "execution_count": 11,
   "metadata": {},
   "outputs": [
    {
     "data": {
      "text/html": [
       "<div>\n",
       "<style scoped>\n",
       "    .dataframe tbody tr th:only-of-type {\n",
       "        vertical-align: middle;\n",
       "    }\n",
       "\n",
       "    .dataframe tbody tr th {\n",
       "        vertical-align: top;\n",
       "    }\n",
       "\n",
       "    .dataframe thead th {\n",
       "        text-align: right;\n",
       "    }\n",
       "</style>\n",
       "<table border=\"1\" class=\"dataframe\">\n",
       "  <thead>\n",
       "    <tr style=\"text-align: right;\">\n",
       "      <th></th>\n",
       "      <th>Unnamed: 0</th>\n",
       "      <th>_id</th>\n",
       "      <th>tweet_id</th>\n",
       "      <th>text</th>\n",
       "      <th>task_1</th>\n",
       "      <th>task_2</th>\n",
       "    </tr>\n",
       "  </thead>\n",
       "  <tbody>\n",
       "    <tr>\n",
       "      <th>0</th>\n",
       "      <td>998</td>\n",
       "      <td>60c5d7495659ea5e55df0b7b</td>\n",
       "      <td>hi_hasoc_2021_998</td>\n",
       "      <td>@rssurjewala #Hindus DYING #HindusLivesMatter ...</td>\n",
       "      <td>NOT</td>\n",
       "      <td>NONE</td>\n",
       "    </tr>\n",
       "    <tr>\n",
       "      <th>1</th>\n",
       "      <td>4049</td>\n",
       "      <td>60c5d7495659ea5e55df1b73</td>\n",
       "      <td>hi_hasoc_2021_4049</td>\n",
       "      <td>सब लोग इतने पैसे डोनेट ही कर रहे हैं फिर भी आम...</td>\n",
       "      <td>NOT</td>\n",
       "      <td>NONE</td>\n",
       "    </tr>\n",
       "    <tr>\n",
       "      <th>2</th>\n",
       "      <td>1757</td>\n",
       "      <td>60c5d7495659ea5e55df0d1b</td>\n",
       "      <td>hi_hasoc_2021_1757</td>\n",
       "      <td>शेर-ए- सिवान शहाबुद्दीन साहब से रिश्ता क्या  ل...</td>\n",
       "      <td>NOT</td>\n",
       "      <td>NONE</td>\n",
       "    </tr>\n",
       "    <tr>\n",
       "      <th>4</th>\n",
       "      <td>1825</td>\n",
       "      <td>60c5d7495659ea5e55df0ee1</td>\n",
       "      <td>hi_hasoc_2021_1825</td>\n",
       "      <td>@Shikha0222 इसे कहते हैं दोगला पंती जिस सपा की...</td>\n",
       "      <td>NOT</td>\n",
       "      <td>NONE</td>\n",
       "    </tr>\n",
       "    <tr>\n",
       "      <th>8</th>\n",
       "      <td>3664</td>\n",
       "      <td>60c5d7495659ea5e55df1ad1</td>\n",
       "      <td>hi_hasoc_2021_3664</td>\n",
       "      <td>#MuddaGaramHai चुनाव नतीजों के बाद बंगाल में ज...</td>\n",
       "      <td>NOT</td>\n",
       "      <td>NONE</td>\n",
       "    </tr>\n",
       "    <tr>\n",
       "      <th>...</th>\n",
       "      <td>...</td>\n",
       "      <td>...</td>\n",
       "      <td>...</td>\n",
       "      <td>...</td>\n",
       "      <td>...</td>\n",
       "      <td>...</td>\n",
       "    </tr>\n",
       "    <tr>\n",
       "      <th>4588</th>\n",
       "      <td>3871</td>\n",
       "      <td>60c5d7495659ea5e55df1c93</td>\n",
       "      <td>hi_hasoc_2021_3871</td>\n",
       "      <td>@bachpanamitabh आज बंगाल, पुडुचेरी, तमिलनाडु, ...</td>\n",
       "      <td>NOT</td>\n",
       "      <td>NONE</td>\n",
       "    </tr>\n",
       "    <tr>\n",
       "      <th>4589</th>\n",
       "      <td>2481</td>\n",
       "      <td>60c5d7495659ea5e55df13ff</td>\n",
       "      <td>hi_hasoc_2021_2481</td>\n",
       "      <td>सिवान के पुर्व सांसद मरहुम मो सहाबुदीन के रहस्...</td>\n",
       "      <td>NOT</td>\n",
       "      <td>NONE</td>\n",
       "    </tr>\n",
       "    <tr>\n",
       "      <th>4590</th>\n",
       "      <td>3711</td>\n",
       "      <td>60c5d7495659ea5e55df1b13</td>\n",
       "      <td>hi_hasoc_2021_3711</td>\n",
       "      <td>वर्ष 1989-1990 के दौरान कश्मीर के हिंदुओं के स...</td>\n",
       "      <td>NOT</td>\n",
       "      <td>NONE</td>\n",
       "    </tr>\n",
       "    <tr>\n",
       "      <th>4591</th>\n",
       "      <td>3113</td>\n",
       "      <td>60c5d7495659ea5e55df1678</td>\n",
       "      <td>hi_hasoc_2021_3113</td>\n",
       "      <td>#किसानों_का_मोदी_को_धोबीपटका #ResignPMmodi htt...</td>\n",
       "      <td>NOT</td>\n",
       "      <td>NONE</td>\n",
       "    </tr>\n",
       "    <tr>\n",
       "      <th>4592</th>\n",
       "      <td>824</td>\n",
       "      <td>60c5d7495659ea5e55df091b</td>\n",
       "      <td>hi_hasoc_2021_824</td>\n",
       "      <td>@Ravishk356 @newslaundry @abhisar_sharma मोदी ...</td>\n",
       "      <td>NOT</td>\n",
       "      <td>NONE</td>\n",
       "    </tr>\n",
       "  </tbody>\n",
       "</table>\n",
       "<p>3161 rows × 6 columns</p>\n",
       "</div>"
      ],
      "text/plain": [
       "      Unnamed: 0                       _id            tweet_id  \\\n",
       "0            998  60c5d7495659ea5e55df0b7b   hi_hasoc_2021_998   \n",
       "1           4049  60c5d7495659ea5e55df1b73  hi_hasoc_2021_4049   \n",
       "2           1757  60c5d7495659ea5e55df0d1b  hi_hasoc_2021_1757   \n",
       "4           1825  60c5d7495659ea5e55df0ee1  hi_hasoc_2021_1825   \n",
       "8           3664  60c5d7495659ea5e55df1ad1  hi_hasoc_2021_3664   \n",
       "...          ...                       ...                 ...   \n",
       "4588        3871  60c5d7495659ea5e55df1c93  hi_hasoc_2021_3871   \n",
       "4589        2481  60c5d7495659ea5e55df13ff  hi_hasoc_2021_2481   \n",
       "4590        3711  60c5d7495659ea5e55df1b13  hi_hasoc_2021_3711   \n",
       "4591        3113  60c5d7495659ea5e55df1678  hi_hasoc_2021_3113   \n",
       "4592         824  60c5d7495659ea5e55df091b   hi_hasoc_2021_824   \n",
       "\n",
       "                                                   text task_1 task_2  \n",
       "0     @rssurjewala #Hindus DYING #HindusLivesMatter ...    NOT   NONE  \n",
       "1     सब लोग इतने पैसे डोनेट ही कर रहे हैं फिर भी आम...    NOT   NONE  \n",
       "2     शेर-ए- सिवान शहाबुद्दीन साहब से रिश्ता क्या  ل...    NOT   NONE  \n",
       "4     @Shikha0222 इसे कहते हैं दोगला पंती जिस सपा की...    NOT   NONE  \n",
       "8     #MuddaGaramHai चुनाव नतीजों के बाद बंगाल में ज...    NOT   NONE  \n",
       "...                                                 ...    ...    ...  \n",
       "4588  @bachpanamitabh आज बंगाल, पुडुचेरी, तमिलनाडु, ...    NOT   NONE  \n",
       "4589  सिवान के पुर्व सांसद मरहुम मो सहाबुदीन के रहस्...    NOT   NONE  \n",
       "4590  वर्ष 1989-1990 के दौरान कश्मीर के हिंदुओं के स...    NOT   NONE  \n",
       "4591  #किसानों_का_मोदी_को_धोबीपटका #ResignPMmodi htt...    NOT   NONE  \n",
       "4592  @Ravishk356 @newslaundry @abhisar_sharma मोदी ...    NOT   NONE  \n",
       "\n",
       "[3161 rows x 6 columns]"
      ]
     },
     "execution_count": 11,
     "metadata": {},
     "output_type": "execute_result"
    }
   ],
   "source": [
    "df[df['task_1']=='NOT']"
   ]
  },
  {
   "cell_type": "code",
   "execution_count": 12,
   "metadata": {},
   "outputs": [
    {
     "data": {
      "text/html": [
       "<div>\n",
       "<style scoped>\n",
       "    .dataframe tbody tr th:only-of-type {\n",
       "        vertical-align: middle;\n",
       "    }\n",
       "\n",
       "    .dataframe tbody tr th {\n",
       "        vertical-align: top;\n",
       "    }\n",
       "\n",
       "    .dataframe thead th {\n",
       "        text-align: right;\n",
       "    }\n",
       "</style>\n",
       "<table border=\"1\" class=\"dataframe\">\n",
       "  <thead>\n",
       "    <tr style=\"text-align: right;\">\n",
       "      <th></th>\n",
       "      <th>Unnamed: 0</th>\n",
       "      <th>_id</th>\n",
       "      <th>tweet_id</th>\n",
       "      <th>text</th>\n",
       "      <th>task_1</th>\n",
       "      <th>task_2</th>\n",
       "    </tr>\n",
       "  </thead>\n",
       "  <tbody>\n",
       "    <tr>\n",
       "      <th>3</th>\n",
       "      <td>5175</td>\n",
       "      <td>60c5d7495659ea5e55df0e45</td>\n",
       "      <td>hi_hasoc_2021_5178</td>\n",
       "      <td>@AskAnshul आसमानी किताब के नाजायज औलाद है।</td>\n",
       "      <td>HOF</td>\n",
       "      <td>OFFN</td>\n",
       "    </tr>\n",
       "    <tr>\n",
       "      <th>5</th>\n",
       "      <td>5407</td>\n",
       "      <td>60c5d7495659ea5e55df13af</td>\n",
       "      <td>hi_hasoc_2021_5410</td>\n",
       "      <td>@Sandeep_News_24 बिहार की आम जनता को बहुत ही न...</td>\n",
       "      <td>HOF</td>\n",
       "      <td>HATE</td>\n",
       "    </tr>\n",
       "    <tr>\n",
       "      <th>6</th>\n",
       "      <td>5848</td>\n",
       "      <td>60c5d7495659ea5e55df1b22</td>\n",
       "      <td>hi_hasoc_2021_5852</td>\n",
       "      <td>यही तेरी असलियत है कि चोरी रोज करेगा खेत मे ले...</td>\n",
       "      <td>HOF</td>\n",
       "      <td>OFFN</td>\n",
       "    </tr>\n",
       "    <tr>\n",
       "      <th>7</th>\n",
       "      <td>5761</td>\n",
       "      <td>60c5d7495659ea5e55df1c1c</td>\n",
       "      <td>hi_hasoc_2021_5765</td>\n",
       "      <td>भोजपुरी का 2 टके का सिंगर किसी के लड़की का नाम...</td>\n",
       "      <td>HOF</td>\n",
       "      <td>HATE</td>\n",
       "    </tr>\n",
       "    <tr>\n",
       "      <th>9</th>\n",
       "      <td>3331</td>\n",
       "      <td>60c5d7495659ea5e55df1701</td>\n",
       "      <td>hi_hasoc_2021_3331</td>\n",
       "      <td>@anushka_s2 मूर्ख लड़की</td>\n",
       "      <td>HOF</td>\n",
       "      <td>OFFN</td>\n",
       "    </tr>\n",
       "    <tr>\n",
       "      <th>...</th>\n",
       "      <td>...</td>\n",
       "      <td>...</td>\n",
       "      <td>...</td>\n",
       "      <td>...</td>\n",
       "      <td>...</td>\n",
       "      <td>...</td>\n",
       "    </tr>\n",
       "    <tr>\n",
       "      <th>4574</th>\n",
       "      <td>4652</td>\n",
       "      <td>60c5d7495659ea5e55df0a2d</td>\n",
       "      <td>hi_hasoc_2021_4653</td>\n",
       "      <td>अब दाढ़ी कटवायेगा  या झोला उठाकर हिमालय पर जाय...</td>\n",
       "      <td>HOF</td>\n",
       "      <td>OFFN</td>\n",
       "    </tr>\n",
       "    <tr>\n",
       "      <th>4576</th>\n",
       "      <td>5237</td>\n",
       "      <td>60c5d7495659ea5e55df123d</td>\n",
       "      <td>hi_hasoc_2021_5240</td>\n",
       "      <td>वो वैसे भी अरबों की नाजायज औलाद है। https://t....</td>\n",
       "      <td>HOF</td>\n",
       "      <td>OFFN</td>\n",
       "    </tr>\n",
       "    <tr>\n",
       "      <th>4582</th>\n",
       "      <td>5698</td>\n",
       "      <td>60c5d7495659ea5e55df16f4</td>\n",
       "      <td>hi_hasoc_2021_5701</td>\n",
       "      <td>तेरे नाम का तो में कुत्ता भी ना पलू  कुत्तों क...</td>\n",
       "      <td>HOF</td>\n",
       "      <td>OFFN</td>\n",
       "    </tr>\n",
       "    <tr>\n",
       "      <th>4583</th>\n",
       "      <td>3405</td>\n",
       "      <td>60c5d7495659ea5e55df1992</td>\n",
       "      <td>hi_hasoc_2021_3405</td>\n",
       "      <td>I think we should stop saying anything about K...</td>\n",
       "      <td>HOF</td>\n",
       "      <td>OFFN</td>\n",
       "    </tr>\n",
       "    <tr>\n",
       "      <th>4593</th>\n",
       "      <td>4309</td>\n",
       "      <td>60c5d7495659ea5e55df06c9</td>\n",
       "      <td>hi_hasoc_2021_4310</td>\n",
       "      <td>बिहार के लोगों इन झूठे मक्कार राजनेताओं का चहर...</td>\n",
       "      <td>HOF</td>\n",
       "      <td>OFFN</td>\n",
       "    </tr>\n",
       "  </tbody>\n",
       "</table>\n",
       "<p>1433 rows × 6 columns</p>\n",
       "</div>"
      ],
      "text/plain": [
       "      Unnamed: 0                       _id            tweet_id  \\\n",
       "3           5175  60c5d7495659ea5e55df0e45  hi_hasoc_2021_5178   \n",
       "5           5407  60c5d7495659ea5e55df13af  hi_hasoc_2021_5410   \n",
       "6           5848  60c5d7495659ea5e55df1b22  hi_hasoc_2021_5852   \n",
       "7           5761  60c5d7495659ea5e55df1c1c  hi_hasoc_2021_5765   \n",
       "9           3331  60c5d7495659ea5e55df1701  hi_hasoc_2021_3331   \n",
       "...          ...                       ...                 ...   \n",
       "4574        4652  60c5d7495659ea5e55df0a2d  hi_hasoc_2021_4653   \n",
       "4576        5237  60c5d7495659ea5e55df123d  hi_hasoc_2021_5240   \n",
       "4582        5698  60c5d7495659ea5e55df16f4  hi_hasoc_2021_5701   \n",
       "4583        3405  60c5d7495659ea5e55df1992  hi_hasoc_2021_3405   \n",
       "4593        4309  60c5d7495659ea5e55df06c9  hi_hasoc_2021_4310   \n",
       "\n",
       "                                                   text task_1 task_2  \n",
       "3            @AskAnshul आसमानी किताब के नाजायज औलाद है।    HOF   OFFN  \n",
       "5     @Sandeep_News_24 बिहार की आम जनता को बहुत ही न...    HOF   HATE  \n",
       "6     यही तेरी असलियत है कि चोरी रोज करेगा खेत मे ले...    HOF   OFFN  \n",
       "7     भोजपुरी का 2 टके का सिंगर किसी के लड़की का नाम...    HOF   HATE  \n",
       "9                               @anushka_s2 मूर्ख लड़की    HOF   OFFN  \n",
       "...                                                 ...    ...    ...  \n",
       "4574  अब दाढ़ी कटवायेगा  या झोला उठाकर हिमालय पर जाय...    HOF   OFFN  \n",
       "4576  वो वैसे भी अरबों की नाजायज औलाद है। https://t....    HOF   OFFN  \n",
       "4582  तेरे नाम का तो में कुत्ता भी ना पलू  कुत्तों क...    HOF   OFFN  \n",
       "4583  I think we should stop saying anything about K...    HOF   OFFN  \n",
       "4593  बिहार के लोगों इन झूठे मक्कार राजनेताओं का चहर...    HOF   OFFN  \n",
       "\n",
       "[1433 rows x 6 columns]"
      ]
     },
     "execution_count": 12,
     "metadata": {},
     "output_type": "execute_result"
    }
   ],
   "source": [
    "df[df['task_1']=='HOF']"
   ]
  },
  {
   "cell_type": "code",
   "execution_count": 13,
   "metadata": {},
   "outputs": [
    {
     "data": {
      "text/plain": [
       "0       False\n",
       "1       False\n",
       "2       False\n",
       "3       False\n",
       "4       False\n",
       "        ...  \n",
       "4589    False\n",
       "4590    False\n",
       "4591    False\n",
       "4592    False\n",
       "4593    False\n",
       "Name: task_1, Length: 4594, dtype: bool"
      ]
     },
     "execution_count": 13,
     "metadata": {},
     "output_type": "execute_result"
    }
   ],
   "source": [
    "pd.isnull(df[\"task_1\"])"
   ]
  },
  {
   "cell_type": "code",
   "execution_count": 14,
   "metadata": {},
   "outputs": [
    {
     "name": "stdout",
     "output_type": "stream",
     "text": [
      "Shape of the DataFrame: (4594, 6)\n"
     ]
    },
    {
     "data": {
      "text/html": [
       "<div>\n",
       "<style scoped>\n",
       "    .dataframe tbody tr th:only-of-type {\n",
       "        vertical-align: middle;\n",
       "    }\n",
       "\n",
       "    .dataframe tbody tr th {\n",
       "        vertical-align: top;\n",
       "    }\n",
       "\n",
       "    .dataframe thead th {\n",
       "        text-align: right;\n",
       "    }\n",
       "</style>\n",
       "<table border=\"1\" class=\"dataframe\">\n",
       "  <thead>\n",
       "    <tr style=\"text-align: right;\">\n",
       "      <th></th>\n",
       "      <th>Unnamed: 0</th>\n",
       "      <th>_id</th>\n",
       "      <th>tweet_id</th>\n",
       "      <th>text</th>\n",
       "      <th>task_1</th>\n",
       "      <th>task_2</th>\n",
       "    </tr>\n",
       "  </thead>\n",
       "  <tbody>\n",
       "    <tr>\n",
       "      <th>2990</th>\n",
       "      <td>4166</td>\n",
       "      <td>60c5d7495659ea5e55df1ce1</td>\n",
       "      <td>hi_hasoc_2021_4166</td>\n",
       "      <td>\"MODI MEANS TERROR\"  #नरेंद्र_मोदी_ग्लोबल_पप्प...</td>\n",
       "      <td>HOF</td>\n",
       "      <td>OFFN</td>\n",
       "    </tr>\n",
       "    <tr>\n",
       "      <th>327</th>\n",
       "      <td>1640</td>\n",
       "      <td>60c5d7495659ea5e55df1033</td>\n",
       "      <td>hi_hasoc_2021_1640</td>\n",
       "      <td>यह सभ तो बिकाऊ है यह क्या बोलेंगे  #BengalBurn...</td>\n",
       "      <td>NOT</td>\n",
       "      <td>NONE</td>\n",
       "    </tr>\n",
       "    <tr>\n",
       "      <th>113</th>\n",
       "      <td>561</td>\n",
       "      <td>60c5d7495659ea5e55df0804</td>\n",
       "      <td>hi_hasoc_2021_561</td>\n",
       "      <td>हमारे उम्मीदवार का यह दुर्दशा किया है टोलाबाज ...</td>\n",
       "      <td>HOF</td>\n",
       "      <td>HATE</td>\n",
       "    </tr>\n",
       "    <tr>\n",
       "      <th>1262</th>\n",
       "      <td>1221</td>\n",
       "      <td>60c5d7495659ea5e55df0c96</td>\n",
       "      <td>hi_hasoc_2021_1221</td>\n",
       "      <td>Keep this rage.  Drag modi in the streets and ...</td>\n",
       "      <td>HOF</td>\n",
       "      <td>OFFN</td>\n",
       "    </tr>\n",
       "    <tr>\n",
       "      <th>1893</th>\n",
       "      <td>2071</td>\n",
       "      <td>60c5d7495659ea5e55df1260</td>\n",
       "      <td>hi_hasoc_2021_2071</td>\n",
       "      <td>पूर्व सांसद को अपने घर की जमीन पर दफन होने भी ...</td>\n",
       "      <td>NOT</td>\n",
       "      <td>NONE</td>\n",
       "    </tr>\n",
       "  </tbody>\n",
       "</table>\n",
       "</div>"
      ],
      "text/plain": [
       "      Unnamed: 0                       _id            tweet_id  \\\n",
       "2990        4166  60c5d7495659ea5e55df1ce1  hi_hasoc_2021_4166   \n",
       "327         1640  60c5d7495659ea5e55df1033  hi_hasoc_2021_1640   \n",
       "113          561  60c5d7495659ea5e55df0804   hi_hasoc_2021_561   \n",
       "1262        1221  60c5d7495659ea5e55df0c96  hi_hasoc_2021_1221   \n",
       "1893        2071  60c5d7495659ea5e55df1260  hi_hasoc_2021_2071   \n",
       "\n",
       "                                                   text task_1 task_2  \n",
       "2990  \"MODI MEANS TERROR\"  #नरेंद्र_मोदी_ग्लोबल_पप्प...    HOF   OFFN  \n",
       "327   यह सभ तो बिकाऊ है यह क्या बोलेंगे  #BengalBurn...    NOT   NONE  \n",
       "113   हमारे उम्मीदवार का यह दुर्दशा किया है टोलाबाज ...    HOF   HATE  \n",
       "1262  Keep this rage.  Drag modi in the streets and ...    HOF   OFFN  \n",
       "1893  पूर्व सांसद को अपने घर की जमीन पर दफन होने भी ...    NOT   NONE  "
      ]
     },
     "execution_count": 14,
     "metadata": {},
     "output_type": "execute_result"
    }
   ],
   "source": [
    "print(\"Shape of the DataFrame:\",df.shape)\n",
    "df.sample(5)"
   ]
  },
  {
   "cell_type": "code",
   "execution_count": 15,
   "metadata": {},
   "outputs": [],
   "source": [
    "def custom_encoder(df):\n",
    "    df.replace(to_replace =\"NOT\", value =0, inplace=True)\n",
    "    df.replace(to_replace =\"HOF\", value =1, inplace=True)\n",
    "    "
   ]
  },
  {
   "cell_type": "code",
   "execution_count": 16,
   "metadata": {},
   "outputs": [],
   "source": [
    "custom_encoder(df['task_1'])"
   ]
  },
  {
   "cell_type": "code",
   "execution_count": 17,
   "metadata": {},
   "outputs": [
    {
     "name": "stdout",
     "output_type": "stream",
     "text": [
      "[0 1]\n"
     ]
    }
   ],
   "source": [
    "task1_unique = df['task_1'].unique()\n",
    "print(task1_unique)"
   ]
  },
  {
   "cell_type": "markdown",
   "metadata": {},
   "source": [
    "# Word Count"
   ]
  },
  {
   "cell_type": "code",
   "execution_count": 18,
   "metadata": {},
   "outputs": [
    {
     "name": "stdout",
     "output_type": "stream",
     "text": [
      "28.568736915561757\n",
      "25.137931034482758\n"
     ]
    }
   ],
   "source": [
    "df['word_count'] = df['text'].apply(lambda x: len(str(x).split()))\n",
    "print(df[df['task_1']==1]['word_count'].mean()) #Hate and Offensive\n",
    "print(df[df['task_1']==0]['word_count'].mean()) #Non-Hate-Offensive"
   ]
  },
  {
   "cell_type": "markdown",
   "metadata": {},
   "source": [
    "# Character Count"
   ]
  },
  {
   "cell_type": "code",
   "execution_count": 19,
   "metadata": {},
   "outputs": [
    {
     "name": "stdout",
     "output_type": "stream",
     "text": [
      "176.7997208653175\n",
      "180.59253400822524\n"
     ]
    }
   ],
   "source": [
    "df['char_count'] = df['text'].apply(lambda x: len(str(x)))\n",
    "print(df[df['task_1']==1]['char_count'].mean()) #Hate and Offensive\n",
    "print(df[df['task_1']==0]['char_count'].mean()) #Non-Hate-Offensive\n"
   ]
  },
  {
   "cell_type": "markdown",
   "metadata": {},
   "source": [
    "# Unique Word Count"
   ]
  },
  {
   "cell_type": "code",
   "execution_count": 20,
   "metadata": {},
   "outputs": [
    {
     "name": "stdout",
     "output_type": "stream",
     "text": [
      "25.808094905792046\n",
      "23.091743119266056\n"
     ]
    }
   ],
   "source": [
    "df['unique_word_count'] = df['text'].apply(lambda x: len(set(str(x).split())))\n",
    "print(df[df['task_1']==1]['unique_word_count'].mean()) #Hate and Offensive\n",
    "print(df[df['task_1']==0]['unique_word_count'].mean()) #Non-Hate-Offensive"
   ]
  },
  {
   "cell_type": "markdown",
   "metadata": {},
   "source": [
    "# Plotting word-count per tweet"
   ]
  },
  {
   "cell_type": "code",
   "execution_count": 21,
   "metadata": {},
   "outputs": [
    {
     "data": {
      "image/png": "[encoded data removed]",
      "text/plain": [
       "<Figure size 720x288 with 2 Axes>"
      ]
     },
     "metadata": {
      "needs_background": "light"
     },
     "output_type": "display_data"
    }
   ],
   "source": [
    "%matplotlib inline\n",
    "from matplotlib import pyplot as plt\n",
    "fig,(ax1,ax2)=plt.subplots(1,2,figsize=(10,4))\n",
    "train_words=df[df['task_1']==1]['word_count']\n",
    "ax1.hist(train_words,color='red')\n",
    "ax1.set_title('Hate and Offensive')\n",
    "train_words=df[df['task_1']==0]['word_count']\n",
    "ax2.hist(train_words,color='green')\n",
    "ax2.set_title('Non-Hate-Offensive')\n",
    "fig.suptitle('Words per tweet')\n",
    "plt.show()"
   ]
  },
  {
   "cell_type": "markdown",
   "metadata": {},
   "source": [
    "# Common text preprocessing"
   ]
  },
  {
   "cell_type": "code",
   "execution_count": 22,
   "metadata": {},
   "outputs": [],
   "source": [
    "#convert to lowercase, strip and remove punctuations\n",
    "def preprocess(text):\n",
    "    text = text.lower() \n",
    "    text=text.strip()  \n",
    "    text=re.compile('<.*?>').sub('', text) \n",
    "    text = re.compile('[%s]' % re.escape(string.punctuation)).sub(' ', text)  \n",
    "    text = re.sub('\\s+', ' ', text)  \n",
    "    text = re.sub(r'\\[[0-9]*\\]',' ',text) \n",
    "    text=re.sub(r'[^\\w\\s]', '', str(text).lower().strip())\n",
    "    text = re.sub(r'\\d',' ',text) \n",
    "    text = re.sub(r'\\s+',' ',text) \n",
    "    return text\n",
    "\n",
    " \n",
    "# STOPWORD REMOVAL\n",
    "def stopword(string):\n",
    "    a= [i for i in string.split() if i not in stopwords.words('english')]\n",
    "    return ' '.join(a)\n",
    "#LEMMATIZATION\n",
    "# Initialize the lemmatizer\n",
    "wl = WordNetLemmatizer()\n",
    " \n",
    "# This is a helper function to map NTLK position tags\n",
    "def get_wordnet_pos(tag):\n",
    "    if tag.startswith('J'):\n",
    "        return wordnet.ADJ\n",
    "    elif tag.startswith('V'):\n",
    "        return wordnet.VERB\n",
    "    elif tag.startswith('N'):\n",
    "        return wordnet.NOUN\n",
    "    elif tag.startswith('R'):\n",
    "        return wordnet.ADV\n",
    "    else:\n",
    "        return wordnet.NOUN\n",
    "# Tokenize the sentence\n",
    "def lemmatizer(string):\n",
    "    word_pos_tags = nltk.pos_tag(word_tokenize(string)) # Get position tags\n",
    "    a=[wl.lemmatize(tag[0], get_wordnet_pos(tag[1])) for idx, tag in enumerate(word_pos_tags)] # Map the position tag and lemmatize the word/token\n",
    "    return \" \".join(a)\n",
    "    \n",
    "  \n"
   ]
  },
  {
   "cell_type": "code",
   "execution_count": 23,
   "metadata": {},
   "outputs": [
    {
     "data": {
      "text/html": [
       "<div>\n",
       "<style scoped>\n",
       "    .dataframe tbody tr th:only-of-type {\n",
       "        vertical-align: middle;\n",
       "    }\n",
       "\n",
       "    .dataframe tbody tr th {\n",
       "        vertical-align: top;\n",
       "    }\n",
       "\n",
       "    .dataframe thead th {\n",
       "        text-align: right;\n",
       "    }\n",
       "</style>\n",
       "<table border=\"1\" class=\"dataframe\">\n",
       "  <thead>\n",
       "    <tr style=\"text-align: right;\">\n",
       "      <th></th>\n",
       "      <th>Unnamed: 0</th>\n",
       "      <th>_id</th>\n",
       "      <th>tweet_id</th>\n",
       "      <th>text</th>\n",
       "      <th>task_1</th>\n",
       "      <th>task_2</th>\n",
       "      <th>word_count</th>\n",
       "      <th>char_count</th>\n",
       "      <th>unique_word_count</th>\n",
       "    </tr>\n",
       "  </thead>\n",
       "  <tbody>\n",
       "    <tr>\n",
       "      <th>0</th>\n",
       "      <td>998</td>\n",
       "      <td>60c5d7495659ea5e55df0b7b</td>\n",
       "      <td>hi_hasoc_2021_998</td>\n",
       "      <td>@rssurjewala #Hindus DYING #HindusLivesMatter ...</td>\n",
       "      <td>0</td>\n",
       "      <td>NONE</td>\n",
       "      <td>24</td>\n",
       "      <td>265</td>\n",
       "      <td>24</td>\n",
       "    </tr>\n",
       "    <tr>\n",
       "      <th>1</th>\n",
       "      <td>4049</td>\n",
       "      <td>60c5d7495659ea5e55df1b73</td>\n",
       "      <td>hi_hasoc_2021_4049</td>\n",
       "      <td>सब लोग इतने पैसे डोनेट ही कर रहे हैं फिर भी आम...</td>\n",
       "      <td>0</td>\n",
       "      <td>NONE</td>\n",
       "      <td>38</td>\n",
       "      <td>212</td>\n",
       "      <td>35</td>\n",
       "    </tr>\n",
       "    <tr>\n",
       "      <th>2</th>\n",
       "      <td>1757</td>\n",
       "      <td>60c5d7495659ea5e55df0d1b</td>\n",
       "      <td>hi_hasoc_2021_1757</td>\n",
       "      <td>शेर-ए- सिवान शहाबुद्दीन साहब से रिश्ता क्या  ل...</td>\n",
       "      <td>0</td>\n",
       "      <td>NONE</td>\n",
       "      <td>15</td>\n",
       "      <td>99</td>\n",
       "      <td>14</td>\n",
       "    </tr>\n",
       "    <tr>\n",
       "      <th>3</th>\n",
       "      <td>5175</td>\n",
       "      <td>60c5d7495659ea5e55df0e45</td>\n",
       "      <td>hi_hasoc_2021_5178</td>\n",
       "      <td>@AskAnshul आसमानी किताब के नाजायज औलाद है।</td>\n",
       "      <td>1</td>\n",
       "      <td>OFFN</td>\n",
       "      <td>7</td>\n",
       "      <td>42</td>\n",
       "      <td>7</td>\n",
       "    </tr>\n",
       "    <tr>\n",
       "      <th>4</th>\n",
       "      <td>1825</td>\n",
       "      <td>60c5d7495659ea5e55df0ee1</td>\n",
       "      <td>hi_hasoc_2021_1825</td>\n",
       "      <td>@Shikha0222 इसे कहते हैं दोगला पंती जिस सपा की...</td>\n",
       "      <td>0</td>\n",
       "      <td>NONE</td>\n",
       "      <td>33</td>\n",
       "      <td>144</td>\n",
       "      <td>31</td>\n",
       "    </tr>\n",
       "  </tbody>\n",
       "</table>\n",
       "</div>"
      ],
      "text/plain": [
       "   Unnamed: 0                       _id            tweet_id  \\\n",
       "0         998  60c5d7495659ea5e55df0b7b   hi_hasoc_2021_998   \n",
       "1        4049  60c5d7495659ea5e55df1b73  hi_hasoc_2021_4049   \n",
       "2        1757  60c5d7495659ea5e55df0d1b  hi_hasoc_2021_1757   \n",
       "3        5175  60c5d7495659ea5e55df0e45  hi_hasoc_2021_5178   \n",
       "4        1825  60c5d7495659ea5e55df0ee1  hi_hasoc_2021_1825   \n",
       "\n",
       "                                                text  task_1 task_2  \\\n",
       "0  @rssurjewala #Hindus DYING #HindusLivesMatter ...       0   NONE   \n",
       "1  सब लोग इतने पैसे डोनेट ही कर रहे हैं फिर भी आम...       0   NONE   \n",
       "2  शेर-ए- सिवान शहाबुद्दीन साहब से रिश्ता क्या  ل...       0   NONE   \n",
       "3         @AskAnshul आसमानी किताब के नाजायज औलाद है।       1   OFFN   \n",
       "4  @Shikha0222 इसे कहते हैं दोगला पंती जिस सपा की...       0   NONE   \n",
       "\n",
       "   word_count  char_count  unique_word_count  \n",
       "0          24         265                 24  \n",
       "1          38         212                 35  \n",
       "2          15          99                 14  \n",
       "3           7          42                  7  \n",
       "4          33         144                 31  "
      ]
     },
     "execution_count": 23,
     "metadata": {},
     "output_type": "execute_result"
    }
   ],
   "source": [
    "df.head()"
   ]
  },
  {
   "cell_type": "code",
   "execution_count": 24,
   "metadata": {},
   "outputs": [
    {
     "data": {
      "text/html": [
       "<div>\n",
       "<style scoped>\n",
       "    .dataframe tbody tr th:only-of-type {\n",
       "        vertical-align: middle;\n",
       "    }\n",
       "\n",
       "    .dataframe tbody tr th {\n",
       "        vertical-align: top;\n",
       "    }\n",
       "\n",
       "    .dataframe thead th {\n",
       "        text-align: right;\n",
       "    }\n",
       "</style>\n",
       "<table border=\"1\" class=\"dataframe\">\n",
       "  <thead>\n",
       "    <tr style=\"text-align: right;\">\n",
       "      <th></th>\n",
       "      <th>Unnamed: 0</th>\n",
       "      <th>_id</th>\n",
       "      <th>tweet_id</th>\n",
       "      <th>text</th>\n",
       "      <th>task_1</th>\n",
       "      <th>task_2</th>\n",
       "      <th>word_count</th>\n",
       "      <th>char_count</th>\n",
       "      <th>unique_word_count</th>\n",
       "      <th>clean_text</th>\n",
       "    </tr>\n",
       "  </thead>\n",
       "  <tbody>\n",
       "    <tr>\n",
       "      <th>0</th>\n",
       "      <td>998</td>\n",
       "      <td>60c5d7495659ea5e55df0b7b</td>\n",
       "      <td>hi_hasoc_2021_998</td>\n",
       "      <td>@rssurjewala #Hindus DYING #HindusLivesMatter ...</td>\n",
       "      <td>0</td>\n",
       "      <td>NONE</td>\n",
       "      <td>24</td>\n",
       "      <td>265</td>\n",
       "      <td>24</td>\n",
       "      <td>rssurjewala hindu die hinduslivesmatter kindat...</td>\n",
       "    </tr>\n",
       "    <tr>\n",
       "      <th>1</th>\n",
       "      <td>4049</td>\n",
       "      <td>60c5d7495659ea5e55df1b73</td>\n",
       "      <td>hi_hasoc_2021_4049</td>\n",
       "      <td>सब लोग इतने पैसे डोनेट ही कर रहे हैं फिर भी आम...</td>\n",
       "      <td>0</td>\n",
       "      <td>NONE</td>\n",
       "      <td>38</td>\n",
       "      <td>212</td>\n",
       "      <td>35</td>\n",
       "      <td>सब लग इतन पस डनट ह कर रह ह फर भ आम आदम क सलडर ...</td>\n",
       "    </tr>\n",
       "    <tr>\n",
       "      <th>2</th>\n",
       "      <td>1757</td>\n",
       "      <td>60c5d7495659ea5e55df0d1b</td>\n",
       "      <td>hi_hasoc_2021_1757</td>\n",
       "      <td>शेर-ए- सिवान शहाबुद्दीन साहब से रिश्ता क्या  ل...</td>\n",
       "      <td>0</td>\n",
       "      <td>NONE</td>\n",
       "      <td>15</td>\n",
       "      <td>99</td>\n",
       "      <td>14</td>\n",
       "      <td>शर ए सवन शहबददन सहब स रशत कय لا إله إلا الله م...</td>\n",
       "    </tr>\n",
       "    <tr>\n",
       "      <th>3</th>\n",
       "      <td>5175</td>\n",
       "      <td>60c5d7495659ea5e55df0e45</td>\n",
       "      <td>hi_hasoc_2021_5178</td>\n",
       "      <td>@AskAnshul आसमानी किताब के नाजायज औलाद है।</td>\n",
       "      <td>1</td>\n",
       "      <td>OFFN</td>\n",
       "      <td>7</td>\n",
       "      <td>42</td>\n",
       "      <td>7</td>\n",
       "      <td>askanshul आसमन कतब क नजयज औलद ह</td>\n",
       "    </tr>\n",
       "    <tr>\n",
       "      <th>4</th>\n",
       "      <td>1825</td>\n",
       "      <td>60c5d7495659ea5e55df0ee1</td>\n",
       "      <td>hi_hasoc_2021_1825</td>\n",
       "      <td>@Shikha0222 इसे कहते हैं दोगला पंती जिस सपा की...</td>\n",
       "      <td>0</td>\n",
       "      <td>NONE</td>\n",
       "      <td>33</td>\n",
       "      <td>144</td>\n",
       "      <td>31</td>\n",
       "      <td>shikha इस कहत ह दगल पत जस सप क दम पर स क सफर क...</td>\n",
       "    </tr>\n",
       "  </tbody>\n",
       "</table>\n",
       "</div>"
      ],
      "text/plain": [
       "   Unnamed: 0                       _id            tweet_id  \\\n",
       "0         998  60c5d7495659ea5e55df0b7b   hi_hasoc_2021_998   \n",
       "1        4049  60c5d7495659ea5e55df1b73  hi_hasoc_2021_4049   \n",
       "2        1757  60c5d7495659ea5e55df0d1b  hi_hasoc_2021_1757   \n",
       "3        5175  60c5d7495659ea5e55df0e45  hi_hasoc_2021_5178   \n",
       "4        1825  60c5d7495659ea5e55df0ee1  hi_hasoc_2021_1825   \n",
       "\n",
       "                                                text  task_1 task_2  \\\n",
       "0  @rssurjewala #Hindus DYING #HindusLivesMatter ...       0   NONE   \n",
       "1  सब लोग इतने पैसे डोनेट ही कर रहे हैं फिर भी आम...       0   NONE   \n",
       "2  शेर-ए- सिवान शहाबुद्दीन साहब से रिश्ता क्या  ل...       0   NONE   \n",
       "3         @AskAnshul आसमानी किताब के नाजायज औलाद है।       1   OFFN   \n",
       "4  @Shikha0222 इसे कहते हैं दोगला पंती जिस सपा की...       0   NONE   \n",
       "\n",
       "   word_count  char_count  unique_word_count  \\\n",
       "0          24         265                 24   \n",
       "1          38         212                 35   \n",
       "2          15          99                 14   \n",
       "3           7          42                  7   \n",
       "4          33         144                 31   \n",
       "\n",
       "                                          clean_text  \n",
       "0  rssurjewala hindu die hinduslivesmatter kindat...  \n",
       "1  सब लग इतन पस डनट ह कर रह ह फर भ आम आदम क सलडर ...  \n",
       "2  शर ए सवन शहबददन सहब स रशत कय لا إله إلا الله م...  \n",
       "3                    askanshul आसमन कतब क नजयज औलद ह  \n",
       "4  shikha इस कहत ह दगल पत जस सप क दम पर स क सफर क...  "
      ]
     },
     "execution_count": 24,
     "metadata": {},
     "output_type": "execute_result"
    }
   ],
   "source": [
    "#FINAL PREPROCESSING\n",
    "def finalpreprocess(string):\n",
    "    return lemmatizer(stopword(preprocess(string)))\n",
    "df['clean_text'] = df['text'].apply(lambda x: finalpreprocess(x))\n",
    "df.head()"
   ]
  },
  {
   "cell_type": "markdown",
   "metadata": {},
   "source": [
    "# Vectorization"
   ]
  },
  {
   "cell_type": "code",
   "execution_count": 25,
   "metadata": {},
   "outputs": [
    {
     "name": "stderr",
     "output_type": "stream",
     "text": [
      "<ipython-input-25-06dbae151de9>:4: DeprecationWarning: Call to deprecated `syn0` (Attribute will be removed in 4.0.0, use self.vectors instead).\n",
      "  w2v = dict(zip(model.wv.index2word, model.wv.syn0))  #combination of word and its vector\n"
     ]
    }
   ],
   "source": [
    "df['clean_text_tok']=[nltk.word_tokenize(i) for i in df['clean_text']] #convert preprocessed sentence to tokenized sentence\n",
    "model = Word2Vec(df['clean_text_tok'],min_count=1)  \n",
    "\n",
    "w2v = dict(zip(model.wv.index2word, model.wv.syn0))  #combination of word and its vector\n",
    "\n",
    "#for converting sentence to vectors/numbers from word vectors result by Word2Vec\n",
    "class MeanEmbeddingVectorizer(object):\n",
    "    def __init__(self, word2vec):\n",
    "        self.word2vec = word2vec\n",
    "        self.dim = len(next(iter(word2vec.values())))\n",
    "\n",
    "    def fit(self, X, y):\n",
    "        return self\n",
    "\n",
    "    def transform(self, X):\n",
    "        return np.array([\n",
    "            np.mean([self.word2vec[w] for w in words if w in self.word2vec]\n",
    "                    or [np.zeros(self.dim)], axis=0)\n",
    "            for words in X\n",
    "        ])"
   ]
  },
  {
   "cell_type": "markdown",
   "metadata": {},
   "source": [
    "# Splitting of Trainning dataset into Test and Train"
   ]
  },
  {
   "cell_type": "code",
   "execution_count": 26,
   "metadata": {},
   "outputs": [],
   "source": [
    "#SPLITTING THE TRAINING DATASET INTO TRAINING AND VALIDATION\n",
    " \n",
    "X_train, X_val, y_train, y_val = train_test_split(df[\"clean_text\"],\n",
    "                                                  df[\"task_1\"],\n",
    "                                                  test_size=0.2,\n",
    "                                                  shuffle=True)\n",
    "X_train_tok= [nltk.word_tokenize(i) for i in X_train]  #for word2vec\n",
    "X_val_tok= [nltk.word_tokenize(i) for i in X_val]      #for word2vec\n",
    "\n",
    "tfidf_vectorizer = TfidfVectorizer(use_idf=True)\n",
    "X_train_vectors_tfidf = tfidf_vectorizer.fit_transform(X_train) #tfidf runs on non-tokenized sentences unlike word2vec\n",
    "\n",
    "X_val_vectors_tfidf = tfidf_vectorizer.transform(X_val)  \n",
    "\n",
    "#Word2vec\n",
    "# Fit and transform\n",
    "modelw = MeanEmbeddingVectorizer(w2v)\n",
    "X_train_vectors_w2v = modelw.transform(X_train_tok)\n",
    "X_val_vectors_w2v = modelw.transform(X_val_tok)"
   ]
  },
  {
   "cell_type": "markdown",
   "metadata": {},
   "source": [
    "# Building ML Model"
   ]
  },
  {
   "cell_type": "markdown",
   "metadata": {},
   "source": [
    "# Logistic Regression(tf-idf)"
   ]
  },
  {
   "cell_type": "code",
   "execution_count": 27,
   "metadata": {},
   "outputs": [
    {
     "name": "stdout",
     "output_type": "stream",
     "text": [
      "              precision    recall  f1-score   support\n",
      "\n",
      "           0       0.81      0.91      0.86       615\n",
      "           1       0.76      0.56      0.65       304\n",
      "\n",
      "    accuracy                           0.80       919\n",
      "   macro avg       0.79      0.74      0.75       919\n",
      "weighted avg       0.79      0.80      0.79       919\n",
      "\n",
      "Confusion Matrix: [[562  53]\n",
      " [133 171]]\n",
      "AUC: 0.8395913564398801\n"
     ]
    }
   ],
   "source": [
    "#FITTING THE CLASSIFICATION MODEL using Logistic Regression(tf-idf)\n",
    "\n",
    "lr_tfidf=LogisticRegression(solver = 'liblinear', C=10, penalty = 'l2')\n",
    "lr_tfidf.fit(X_train_vectors_tfidf, y_train)  #model\n",
    "\n",
    "#Predict y value for test dataset\n",
    "y_predict = lr_tfidf.predict(X_val_vectors_tfidf)\n",
    "y_prob = lr_tfidf.predict_proba(X_val_vectors_tfidf)[:,1]\n",
    " \n",
    "\n",
    "print(classification_report(y_val,y_predict))\n",
    "print('Confusion Matrix:',confusion_matrix(y_val, y_predict))\n",
    " \n",
    "fpr, tpr, thresholds = roc_curve(y_val, y_prob)\n",
    "roc_auc = auc(fpr, tpr)\n",
    "print('AUC:', roc_auc) "
   ]
  },
  {
   "cell_type": "markdown",
   "metadata": {},
   "source": [
    "# Naive Bayes"
   ]
  },
  {
   "cell_type": "code",
   "execution_count": 28,
   "metadata": {},
   "outputs": [
    {
     "name": "stdout",
     "output_type": "stream",
     "text": [
      "              precision    recall  f1-score   support\n",
      "\n",
      "           0       0.71      0.99      0.83       615\n",
      "           1       0.89      0.18      0.30       304\n",
      "\n",
      "    accuracy                           0.72       919\n",
      "   macro avg       0.80      0.58      0.56       919\n",
      "weighted avg       0.77      0.72      0.65       919\n",
      "\n",
      "Confusion Matrix: [[608   7]\n",
      " [249  55]]\n",
      "AUC: 0.8362270004278989\n"
     ]
    }
   ],
   "source": [
    "nb_tfidf = MultinomialNB()\n",
    "nb_tfidf.fit(X_train_vectors_tfidf, y_train)  #model\n",
    "\n",
    "#Predict y value for test dataset\n",
    "y_predict = nb_tfidf.predict(X_val_vectors_tfidf)\n",
    "y_prob = nb_tfidf.predict_proba(X_val_vectors_tfidf)[:,1]\n",
    " \n",
    "\n",
    "print(classification_report(y_val,y_predict))\n",
    "print('Confusion Matrix:',confusion_matrix(y_val, y_predict))\n",
    " \n",
    "fpr, tpr, thresholds = roc_curve(y_val, y_prob)\n",
    "roc_auc = auc(fpr, tpr)\n",
    "print('AUC:', roc_auc)  "
   ]
  },
  {
   "cell_type": "markdown",
   "metadata": {},
   "source": [
    "# Logistic Regression (W2v)"
   ]
  },
  {
   "cell_type": "code",
   "execution_count": 29,
   "metadata": {},
   "outputs": [
    {
     "name": "stdout",
     "output_type": "stream",
     "text": [
      "              precision    recall  f1-score   support\n",
      "\n",
      "           0       0.72      0.94      0.81       615\n",
      "           1       0.67      0.25      0.37       304\n",
      "\n",
      "    accuracy                           0.71       919\n",
      "   macro avg       0.69      0.60      0.59       919\n",
      "weighted avg       0.70      0.71      0.67       919\n",
      "\n",
      "Confusion Matrix: [[577  38]\n",
      " [227  77]]\n",
      "AUC: 0.7536317928968763\n"
     ]
    }
   ],
   "source": [
    "#FITTING THE CLASSIFICATION MODEL using Logistic Regression (W2v)\n",
    "lr_w2v=LogisticRegression(solver = 'liblinear', C=10, penalty = 'l2')\n",
    "lr_w2v.fit(X_train_vectors_w2v, y_train)  #model\n",
    "\n",
    "#Predict y value for test dataset\n",
    "y_predict = lr_w2v.predict(X_val_vectors_w2v)\n",
    "y_prob = lr_w2v.predict_proba(X_val_vectors_w2v)[:,1]\n",
    " \n",
    "\n",
    "print(classification_report(y_val,y_predict))\n",
    "print('Confusion Matrix:',confusion_matrix(y_val, y_predict))\n",
    " \n",
    "fpr, tpr, thresholds = roc_curve(y_val, y_prob)\n",
    "roc_auc = auc(fpr, tpr)\n",
    "print('AUC:', roc_auc) "
   ]
  },
  {
   "cell_type": "markdown",
   "metadata": {},
   "source": [
    "# Testing Model on Test Dataset"
   ]
  },
  {
   "cell_type": "code",
   "execution_count": 30,
   "metadata": {},
   "outputs": [
    {
     "name": "stdout",
     "output_type": "stream",
     "text": [
      "                         id          tweet_id  \\\n",
      "0  60c5d7495659ea5e55df0546   hi_hasoc_2021_5   \n",
      "1  60c5d7495659ea5e55df0591   hi_hasoc_2021_7   \n",
      "2  60c5d7495659ea5e55df0622  hi_hasoc_2021_12   \n",
      "3  60c5d7495659ea5e55df0666  hi_hasoc_2021_13   \n",
      "4  60c5d7495659ea5e55df067b  hi_hasoc_2021_15   \n",
      "\n",
      "                                                text  \\\n",
      "0  @hemantmkpandya @news24tvchannel @Aloksharmaai...   \n",
      "1  वोडाफोन ने एक कुत्ता पाला था बहुत फेमस हुआ   फ...   \n",
      "2  घंटे दीमक ने जाकर 70 साल के मज़बूत पेड़ को 7 स...   \n",
      "3  @dmfatehpur हमारे ग्राम पंचायत सिधांव जिला फते...   \n",
      "4  यह मुझे चैन क्यों नहीं पड़ता एक ही शख़्स था जह...   \n",
      "\n",
      "                                          clean_text  predict_prob  target  \n",
      "0  hemantmkpandya news tvchannel aloksharmaaicc m...      0.794025       1  \n",
      "1   वडफन न एक कतत पल थ बहत फमस हआ फर मकश अबन क शक चढ      0.940451       1  \n",
      "2  घट दमक न जकर सल क मजबत पड क सल म खखल कर दय res...      0.089722       0  \n",
      "3  dmfatehpur हमर गरम पचयत सधव जल फतहपर उ पर म तल...      0.555279       1  \n",
      "4  यह मझ चन कय नह पडत एक ह शखस थ जहन म कय justice...      0.072085       0  \n"
     ]
    }
   ],
   "source": [
    "#Testing it on new dataset with the best model Logistic Regression\n",
    "df_test=pd.read_csv('HASOC_Hindi_2021_Test.csv')  #reading the data\n",
    "df_test['clean_text'] = df_test['text'].apply(lambda x: finalpreprocess(x)) #preprocess the data\n",
    "X_test=df_test['clean_text'] \n",
    "X_vector=tfidf_vectorizer.transform(X_test) #converting X_test to vector\n",
    "y_predict = lr_tfidf.predict(X_vector)      #use the trained model on X_vector\n",
    "y_prob = lr_tfidf.predict_proba(X_vector)[:,1]\n",
    "df_test['predict_prob']= y_prob\n",
    "df_test['target']= y_predict\n",
    "print(df_test.head())\n",
    "final=df_test[['id','tweet_id','target']].reset_index(drop=True)\n",
    "final.to_csv('submission2.csv')"
   ]
  },
  {
   "cell_type": "code",
   "execution_count": 31,
   "metadata": {},
   "outputs": [
    {
     "name": "stdout",
     "output_type": "stream",
     "text": [
      "                         id          tweet_id  \\\n",
      "0  60c5d7495659ea5e55df0546   hi_hasoc_2021_5   \n",
      "1  60c5d7495659ea5e55df0591   hi_hasoc_2021_7   \n",
      "2  60c5d7495659ea5e55df0622  hi_hasoc_2021_12   \n",
      "3  60c5d7495659ea5e55df0666  hi_hasoc_2021_13   \n",
      "4  60c5d7495659ea5e55df067b  hi_hasoc_2021_15   \n",
      "\n",
      "                                                text  \\\n",
      "0  @hemantmkpandya @news24tvchannel @Aloksharmaai...   \n",
      "1  वोडाफोन ने एक कुत्ता पाला था बहुत फेमस हुआ   फ...   \n",
      "2  घंटे दीमक ने जाकर 70 साल के मज़बूत पेड़ को 7 स...   \n",
      "3  @dmfatehpur हमारे ग्राम पंचायत सिधांव जिला फते...   \n",
      "4  यह मुझे चैन क्यों नहीं पड़ता एक ही शख़्स था जह...   \n",
      "\n",
      "                                          clean_text  predict_prob  task_1  \n",
      "0  hemantmkpandya news tvchannel aloksharmaaicc m...      0.468789       0  \n",
      "1   वडफन न एक कतत पल थ बहत फमस हआ फर मकश अबन क शक चढ      0.424923       0  \n",
      "2  घट दमक न जकर सल क मजबत पड क सल म खखल कर दय res...      0.146670       0  \n",
      "3  dmfatehpur हमर गरम पचयत सधव जल फतहपर उ पर म तल...      0.248796       0  \n",
      "4  यह मझ चन कय नह पडत एक ह शखस थ जहन म कय justice...      0.098840       0  \n"
     ]
    }
   ],
   "source": [
    "#Naive bayes\n",
    "df_test=pd.read_csv('HASOC_Hindi_2021_Test.csv')  #reading the data\n",
    "df_test['clean_text'] = df_test['text'].apply(lambda x: finalpreprocess(x)) #preprocess the data\n",
    "X_test=df_test['clean_text'] \n",
    "X_vector=tfidf_vectorizer.transform(X_test) #converting X_test to vector\n",
    "y_predict = nb_tfidf.predict(X_vector)      #use the trained model on X_vector\n",
    "y_prob = nb_tfidf.predict_proba(X_vector)[:,1]\n",
    "df_test['predict_prob']= y_prob\n",
    "df_test['task_1']= y_predict\n",
    "print(df_test.head())\n",
    "final=df_test[['tweet_id','task_1']].reset_index(drop=True)\n",
    "final.to_csv('naive-bayes.csv')"
   ]
  },
  {
   "cell_type": "code",
   "execution_count": null,
   "metadata": {},
   "outputs": [],
   "source": []
  }
 ],
 "metadata": {
  "kernelspec": {
   "display_name": "Python 3",
   "language": "python",
   "name": "python3"
  },
  "language_info": {
   "codemirror_mode": {
    "name": "ipython",
    "version": 3
   },
   "file_extension": ".py",
   "mimetype": "text/x-python",
   "name": "python",
   "nbconvert_exporter": "python",
   "pygments_lexer": "ipython3",
   "version": "3.8.5"
  }
 },
 "nbformat": 4,
 "nbformat_minor": 4
}
