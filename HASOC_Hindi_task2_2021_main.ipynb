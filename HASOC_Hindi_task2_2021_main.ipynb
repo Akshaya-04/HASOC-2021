{
 "cells": [
  {
   "cell_type": "markdown",
   "metadata": {},
   "source": [
    "## import pandas as pd\n",
    "import numpy as np\n",
    "#for text pre-processing\n",
    "import re, string\n",
    "import nltk\n",
    "from nltk.tokenize import word_tokenize\n",
    "from nltk.corpus import stopwords\n",
    "from nltk.tokenize import word_tokenize\n",
    "from nltk.stem import SnowballStemmer\n",
    "from nltk.corpus import wordnet\n",
    "from nltk.stem import WordNetLemmatizer\n",
    "nltk.download('punkt')\n",
    "nltk.download('averaged_perceptron_tagger')\n",
    "nltk.download('wordnet')\n",
    "#for model-building\n",
    "from sklearn.model_selection import train_test_split\n",
    "from sklearn.linear_model import LogisticRegression\n",
    "from sklearn.naive_bayes import MultinomialNB\n",
    "from sklearn.metrics import classification_report, f1_score, accuracy_score, confusion_matrix\n",
    "from sklearn.metrics import roc_curve, auc, roc_auc_score\n",
    "# bag of words\n",
    "from sklearn.feature_extraction.text import TfidfVectorizer\n",
    "from sklearn.feature_extraction.text import CountVectorizer\n",
    "#for word embedding\n",
    "import gensim\n",
    "from gensim.models import Word2Vec"
   ]
  },
  {
   "cell_type": "code",
   "execution_count": 2,
   "metadata": {},
   "outputs": [],
   "source": [
    "import numpy as np                  #linear algebra\n",
    "import pandas as pd                 # data processing, CSV file I/O (e.g. pd.read_csv)\n",
    "import matplotlib.pyplot as plt     #For Visualisation\n",
    "%matplotlib inline\n",
    "import seaborn as sns               #For better Visualisation\n",
    "from bs4 import BeautifulSoup       #For Text Parsing"
   ]
  },
  {
   "cell_type": "code",
   "execution_count": 3,
   "metadata": {},
   "outputs": [],
   "source": [
    "df = pd.read_csv('HASOC-Hindi2021(train).csv')"
   ]
  },
  {
   "cell_type": "code",
   "execution_count": 4,
   "metadata": {},
   "outputs": [
    {
     "data": {
      "text/html": [
       "<div>\n",
       "<style scoped>\n",
       "    .dataframe tbody tr th:only-of-type {\n",
       "        vertical-align: middle;\n",
       "    }\n",
       "\n",
       "    .dataframe tbody tr th {\n",
       "        vertical-align: top;\n",
       "    }\n",
       "\n",
       "    .dataframe thead th {\n",
       "        text-align: right;\n",
       "    }\n",
       "</style>\n",
       "<table border=\"1\" class=\"dataframe\">\n",
       "  <thead>\n",
       "    <tr style=\"text-align: right;\">\n",
       "      <th></th>\n",
       "      <th>Unnamed: 0</th>\n",
       "      <th>_id</th>\n",
       "      <th>tweet_id</th>\n",
       "      <th>text</th>\n",
       "      <th>task_1</th>\n",
       "      <th>task_2</th>\n",
       "    </tr>\n",
       "  </thead>\n",
       "  <tbody>\n",
       "    <tr>\n",
       "      <th>0</th>\n",
       "      <td>998</td>\n",
       "      <td>60c5d7495659ea5e55df0b7b</td>\n",
       "      <td>hi_hasoc_2021_998</td>\n",
       "      <td>@rssurjewala #Hindus DYING #HindusLivesMatter ...</td>\n",
       "      <td>NOT</td>\n",
       "      <td>NONE</td>\n",
       "    </tr>\n",
       "    <tr>\n",
       "      <th>1</th>\n",
       "      <td>4049</td>\n",
       "      <td>60c5d7495659ea5e55df1b73</td>\n",
       "      <td>hi_hasoc_2021_4049</td>\n",
       "      <td>सब लोग इतने पैसे डोनेट ही कर रहे हैं फिर भी आम...</td>\n",
       "      <td>NOT</td>\n",
       "      <td>NONE</td>\n",
       "    </tr>\n",
       "    <tr>\n",
       "      <th>2</th>\n",
       "      <td>1757</td>\n",
       "      <td>60c5d7495659ea5e55df0d1b</td>\n",
       "      <td>hi_hasoc_2021_1757</td>\n",
       "      <td>शेर-ए- सिवान शहाबुद्दीन साहब से रिश्ता क्या  ل...</td>\n",
       "      <td>NOT</td>\n",
       "      <td>NONE</td>\n",
       "    </tr>\n",
       "    <tr>\n",
       "      <th>3</th>\n",
       "      <td>5175</td>\n",
       "      <td>60c5d7495659ea5e55df0e45</td>\n",
       "      <td>hi_hasoc_2021_5178</td>\n",
       "      <td>@AskAnshul आसमानी किताब के नाजायज औलाद है।</td>\n",
       "      <td>HOF</td>\n",
       "      <td>OFFN</td>\n",
       "    </tr>\n",
       "    <tr>\n",
       "      <th>4</th>\n",
       "      <td>1825</td>\n",
       "      <td>60c5d7495659ea5e55df0ee1</td>\n",
       "      <td>hi_hasoc_2021_1825</td>\n",
       "      <td>@Shikha0222 इसे कहते हैं दोगला पंती जिस सपा की...</td>\n",
       "      <td>NOT</td>\n",
       "      <td>NONE</td>\n",
       "    </tr>\n",
       "  </tbody>\n",
       "</table>\n",
       "</div>"
      ],
      "text/plain": [
       "   Unnamed: 0                       _id            tweet_id  \\\n",
       "0         998  60c5d7495659ea5e55df0b7b   hi_hasoc_2021_998   \n",
       "1        4049  60c5d7495659ea5e55df1b73  hi_hasoc_2021_4049   \n",
       "2        1757  60c5d7495659ea5e55df0d1b  hi_hasoc_2021_1757   \n",
       "3        5175  60c5d7495659ea5e55df0e45  hi_hasoc_2021_5178   \n",
       "4        1825  60c5d7495659ea5e55df0ee1  hi_hasoc_2021_1825   \n",
       "\n",
       "                                                text task_1 task_2  \n",
       "0  @rssurjewala #Hindus DYING #HindusLivesMatter ...    NOT   NONE  \n",
       "1  सब लोग इतने पैसे डोनेट ही कर रहे हैं फिर भी आम...    NOT   NONE  \n",
       "2  शेर-ए- सिवान शहाबुद्दीन साहब से रिश्ता क्या  ل...    NOT   NONE  \n",
       "3         @AskAnshul आसमानी किताब के नाजायज औलाद है।    HOF   OFFN  \n",
       "4  @Shikha0222 इसे कहते हैं दोगला पंती जिस सपा की...    NOT   NONE  "
      ]
     },
     "execution_count": 4,
     "metadata": {},
     "output_type": "execute_result"
    }
   ],
   "source": [
    "df.head()"
   ]
  },
  {
   "cell_type": "markdown",
   "metadata": {},
   "source": [
    "# Class Distribution"
   ]
  },
  {
   "cell_type": "code",
   "execution_count": 5,
   "metadata": {},
   "outputs": [
    {
     "name": "stdout",
     "output_type": "stream",
     "text": [
      "NONE    3161\n",
      "OFFN     654\n",
      "HATE     566\n",
      "PRFN     213\n",
      "Name: task_2, dtype: int64\n"
     ]
    },
    {
     "name": "stderr",
     "output_type": "stream",
     "text": [
      "C:\\Users\\win10\\anaconda3\\lib\\site-packages\\seaborn\\_decorators.py:36: FutureWarning: Pass the following variables as keyword args: x, y. From version 0.12, the only valid positional argument will be `data`, and passing other arguments without an explicit keyword will result in an error or misinterpretation.\n",
      "  warnings.warn(\n"
     ]
    },
    {
     "data": {
      "text/plain": [
       "<AxesSubplot:ylabel='task_2'>"
      ]
     },
     "execution_count": 5,
     "metadata": {},
     "output_type": "execute_result"
    },
    {
     "data": {
      "image/png": "[encoded data removed]",
      "text/plain": [
       "<Figure size 432x288 with 1 Axes>"
      ]
     },
     "metadata": {
      "needs_background": "light"
     },
     "output_type": "display_data"
    }
   ],
   "source": [
    "import seaborn as sns\n",
    "x=df['task_2'].value_counts()\n",
    "print(x)\n",
    "sns.barplot(x.index,x)"
   ]
  },
  {
   "cell_type": "code",
   "execution_count": 6,
   "metadata": {},
   "outputs": [
    {
     "data": {
      "text/plain": [
       "Unnamed: 0    0\n",
       "_id           0\n",
       "tweet_id      0\n",
       "text          0\n",
       "task_1        0\n",
       "task_2        0\n",
       "dtype: int64"
      ]
     },
     "execution_count": 6,
     "metadata": {},
     "output_type": "execute_result"
    }
   ],
   "source": [
    "df.isna().sum()"
   ]
  },
  {
   "cell_type": "code",
   "execution_count": 7,
   "metadata": {},
   "outputs": [
    {
     "data": {
      "text/plain": [
       "(4594, 6)"
      ]
     },
     "execution_count": 7,
     "metadata": {},
     "output_type": "execute_result"
    }
   ],
   "source": [
    "df.shape"
   ]
  },
  {
   "cell_type": "code",
   "execution_count": 8,
   "metadata": {},
   "outputs": [
    {
     "data": {
      "text/plain": [
       "Index(['Unnamed: 0', '_id', 'tweet_id', 'text', 'task_1', 'task_2'], dtype='object')"
      ]
     },
     "execution_count": 8,
     "metadata": {},
     "output_type": "execute_result"
    }
   ],
   "source": [
    "# Names Of columns in our dataset\n",
    "df.columns"
   ]
  },
  {
   "cell_type": "code",
   "execution_count": 9,
   "metadata": {},
   "outputs": [
    {
     "name": "stdout",
     "output_type": "stream",
     "text": [
      "<class 'pandas.core.frame.DataFrame'>\n",
      "RangeIndex: 4594 entries, 0 to 4593\n",
      "Data columns (total 6 columns):\n",
      " #   Column      Non-Null Count  Dtype \n",
      "---  ------      --------------  ----- \n",
      " 0   Unnamed: 0  4594 non-null   int64 \n",
      " 1   _id         4594 non-null   object\n",
      " 2   tweet_id    4594 non-null   object\n",
      " 3   text        4594 non-null   object\n",
      " 4   task_1      4594 non-null   object\n",
      " 5   task_2      4594 non-null   object\n",
      "dtypes: int64(1), object(5)\n",
      "memory usage: 215.5+ KB\n"
     ]
    }
   ],
   "source": [
    "# There are null values in location column\n",
    "df.info()"
   ]
  },
  {
   "cell_type": "code",
   "execution_count": 10,
   "metadata": {},
   "outputs": [
    {
     "data": {
      "text/plain": [
       "NONE    3161\n",
       "OFFN     654\n",
       "HATE     566\n",
       "PRFN     213\n",
       "Name: task_2, dtype: int64"
      ]
     },
     "execution_count": 10,
     "metadata": {},
     "output_type": "execute_result"
    }
   ],
   "source": [
    "# There are 5 unique sentiment types in our dataset\n",
    "df['task_2'].value_counts()"
   ]
  },
  {
   "cell_type": "markdown",
   "metadata": {},
   "source": [
    "# Specific to tweet and sentiment."
   ]
  },
  {
   "cell_type": "code",
   "execution_count": 11,
   "metadata": {},
   "outputs": [
    {
     "data": {
      "text/html": [
       "<div>\n",
       "<style scoped>\n",
       "    .dataframe tbody tr th:only-of-type {\n",
       "        vertical-align: middle;\n",
       "    }\n",
       "\n",
       "    .dataframe tbody tr th {\n",
       "        vertical-align: top;\n",
       "    }\n",
       "\n",
       "    .dataframe thead th {\n",
       "        text-align: right;\n",
       "    }\n",
       "</style>\n",
       "<table border=\"1\" class=\"dataframe\">\n",
       "  <thead>\n",
       "    <tr style=\"text-align: right;\">\n",
       "      <th></th>\n",
       "      <th>Unnamed: 0</th>\n",
       "      <th>_id</th>\n",
       "      <th>tweet_id</th>\n",
       "      <th>text</th>\n",
       "      <th>task_1</th>\n",
       "      <th>task_2</th>\n",
       "    </tr>\n",
       "  </thead>\n",
       "  <tbody>\n",
       "    <tr>\n",
       "      <th>0</th>\n",
       "      <td>998</td>\n",
       "      <td>60c5d7495659ea5e55df0b7b</td>\n",
       "      <td>hi_hasoc_2021_998</td>\n",
       "      <td>@rssurjewala #Hindus DYING #HindusLivesMatter ...</td>\n",
       "      <td>NOT</td>\n",
       "      <td>NONE</td>\n",
       "    </tr>\n",
       "    <tr>\n",
       "      <th>1</th>\n",
       "      <td>4049</td>\n",
       "      <td>60c5d7495659ea5e55df1b73</td>\n",
       "      <td>hi_hasoc_2021_4049</td>\n",
       "      <td>सब लोग इतने पैसे डोनेट ही कर रहे हैं फिर भी आम...</td>\n",
       "      <td>NOT</td>\n",
       "      <td>NONE</td>\n",
       "    </tr>\n",
       "    <tr>\n",
       "      <th>2</th>\n",
       "      <td>1757</td>\n",
       "      <td>60c5d7495659ea5e55df0d1b</td>\n",
       "      <td>hi_hasoc_2021_1757</td>\n",
       "      <td>शेर-ए- सिवान शहाबुद्दीन साहब से रिश्ता क्या  ل...</td>\n",
       "      <td>NOT</td>\n",
       "      <td>NONE</td>\n",
       "    </tr>\n",
       "    <tr>\n",
       "      <th>4</th>\n",
       "      <td>1825</td>\n",
       "      <td>60c5d7495659ea5e55df0ee1</td>\n",
       "      <td>hi_hasoc_2021_1825</td>\n",
       "      <td>@Shikha0222 इसे कहते हैं दोगला पंती जिस सपा की...</td>\n",
       "      <td>NOT</td>\n",
       "      <td>NONE</td>\n",
       "    </tr>\n",
       "    <tr>\n",
       "      <th>8</th>\n",
       "      <td>3664</td>\n",
       "      <td>60c5d7495659ea5e55df1ad1</td>\n",
       "      <td>hi_hasoc_2021_3664</td>\n",
       "      <td>#MuddaGaramHai चुनाव नतीजों के बाद बंगाल में ज...</td>\n",
       "      <td>NOT</td>\n",
       "      <td>NONE</td>\n",
       "    </tr>\n",
       "    <tr>\n",
       "      <th>...</th>\n",
       "      <td>...</td>\n",
       "      <td>...</td>\n",
       "      <td>...</td>\n",
       "      <td>...</td>\n",
       "      <td>...</td>\n",
       "      <td>...</td>\n",
       "    </tr>\n",
       "    <tr>\n",
       "      <th>4588</th>\n",
       "      <td>3871</td>\n",
       "      <td>60c5d7495659ea5e55df1c93</td>\n",
       "      <td>hi_hasoc_2021_3871</td>\n",
       "      <td>@bachpanamitabh आज बंगाल, पुडुचेरी, तमिलनाडु, ...</td>\n",
       "      <td>NOT</td>\n",
       "      <td>NONE</td>\n",
       "    </tr>\n",
       "    <tr>\n",
       "      <th>4589</th>\n",
       "      <td>2481</td>\n",
       "      <td>60c5d7495659ea5e55df13ff</td>\n",
       "      <td>hi_hasoc_2021_2481</td>\n",
       "      <td>सिवान के पुर्व सांसद मरहुम मो सहाबुदीन के रहस्...</td>\n",
       "      <td>NOT</td>\n",
       "      <td>NONE</td>\n",
       "    </tr>\n",
       "    <tr>\n",
       "      <th>4590</th>\n",
       "      <td>3711</td>\n",
       "      <td>60c5d7495659ea5e55df1b13</td>\n",
       "      <td>hi_hasoc_2021_3711</td>\n",
       "      <td>वर्ष 1989-1990 के दौरान कश्मीर के हिंदुओं के स...</td>\n",
       "      <td>NOT</td>\n",
       "      <td>NONE</td>\n",
       "    </tr>\n",
       "    <tr>\n",
       "      <th>4591</th>\n",
       "      <td>3113</td>\n",
       "      <td>60c5d7495659ea5e55df1678</td>\n",
       "      <td>hi_hasoc_2021_3113</td>\n",
       "      <td>#किसानों_का_मोदी_को_धोबीपटका #ResignPMmodi htt...</td>\n",
       "      <td>NOT</td>\n",
       "      <td>NONE</td>\n",
       "    </tr>\n",
       "    <tr>\n",
       "      <th>4592</th>\n",
       "      <td>824</td>\n",
       "      <td>60c5d7495659ea5e55df091b</td>\n",
       "      <td>hi_hasoc_2021_824</td>\n",
       "      <td>@Ravishk356 @newslaundry @abhisar_sharma मोदी ...</td>\n",
       "      <td>NOT</td>\n",
       "      <td>NONE</td>\n",
       "    </tr>\n",
       "  </tbody>\n",
       "</table>\n",
       "<p>3161 rows × 6 columns</p>\n",
       "</div>"
      ],
      "text/plain": [
       "      Unnamed: 0                       _id            tweet_id  \\\n",
       "0            998  60c5d7495659ea5e55df0b7b   hi_hasoc_2021_998   \n",
       "1           4049  60c5d7495659ea5e55df1b73  hi_hasoc_2021_4049   \n",
       "2           1757  60c5d7495659ea5e55df0d1b  hi_hasoc_2021_1757   \n",
       "4           1825  60c5d7495659ea5e55df0ee1  hi_hasoc_2021_1825   \n",
       "8           3664  60c5d7495659ea5e55df1ad1  hi_hasoc_2021_3664   \n",
       "...          ...                       ...                 ...   \n",
       "4588        3871  60c5d7495659ea5e55df1c93  hi_hasoc_2021_3871   \n",
       "4589        2481  60c5d7495659ea5e55df13ff  hi_hasoc_2021_2481   \n",
       "4590        3711  60c5d7495659ea5e55df1b13  hi_hasoc_2021_3711   \n",
       "4591        3113  60c5d7495659ea5e55df1678  hi_hasoc_2021_3113   \n",
       "4592         824  60c5d7495659ea5e55df091b   hi_hasoc_2021_824   \n",
       "\n",
       "                                                   text task_1 task_2  \n",
       "0     @rssurjewala #Hindus DYING #HindusLivesMatter ...    NOT   NONE  \n",
       "1     सब लोग इतने पैसे डोनेट ही कर रहे हैं फिर भी आम...    NOT   NONE  \n",
       "2     शेर-ए- सिवान शहाबुद्दीन साहब से रिश्ता क्या  ل...    NOT   NONE  \n",
       "4     @Shikha0222 इसे कहते हैं दोगला पंती जिस सपा की...    NOT   NONE  \n",
       "8     #MuddaGaramHai चुनाव नतीजों के बाद बंगाल में ज...    NOT   NONE  \n",
       "...                                                 ...    ...    ...  \n",
       "4588  @bachpanamitabh आज बंगाल, पुडुचेरी, तमिलनाडु, ...    NOT   NONE  \n",
       "4589  सिवान के पुर्व सांसद मरहुम मो सहाबुदीन के रहस्...    NOT   NONE  \n",
       "4590  वर्ष 1989-1990 के दौरान कश्मीर के हिंदुओं के स...    NOT   NONE  \n",
       "4591  #किसानों_का_मोदी_को_धोबीपटका #ResignPMmodi htt...    NOT   NONE  \n",
       "4592  @Ravishk356 @newslaundry @abhisar_sharma मोदी ...    NOT   NONE  \n",
       "\n",
       "[3161 rows x 6 columns]"
      ]
     },
     "execution_count": 11,
     "metadata": {},
     "output_type": "execute_result"
    }
   ],
   "source": [
    "df[df['task_2']=='NONE']"
   ]
  },
  {
   "cell_type": "code",
   "execution_count": 12,
   "metadata": {},
   "outputs": [
    {
     "data": {
      "text/html": [
       "<div>\n",
       "<style scoped>\n",
       "    .dataframe tbody tr th:only-of-type {\n",
       "        vertical-align: middle;\n",
       "    }\n",
       "\n",
       "    .dataframe tbody tr th {\n",
       "        vertical-align: top;\n",
       "    }\n",
       "\n",
       "    .dataframe thead th {\n",
       "        text-align: right;\n",
       "    }\n",
       "</style>\n",
       "<table border=\"1\" class=\"dataframe\">\n",
       "  <thead>\n",
       "    <tr style=\"text-align: right;\">\n",
       "      <th></th>\n",
       "      <th>Unnamed: 0</th>\n",
       "      <th>_id</th>\n",
       "      <th>tweet_id</th>\n",
       "      <th>text</th>\n",
       "      <th>task_1</th>\n",
       "      <th>task_2</th>\n",
       "    </tr>\n",
       "  </thead>\n",
       "  <tbody>\n",
       "    <tr>\n",
       "      <th>3</th>\n",
       "      <td>5175</td>\n",
       "      <td>60c5d7495659ea5e55df0e45</td>\n",
       "      <td>hi_hasoc_2021_5178</td>\n",
       "      <td>@AskAnshul आसमानी किताब के नाजायज औलाद है।</td>\n",
       "      <td>HOF</td>\n",
       "      <td>OFFN</td>\n",
       "    </tr>\n",
       "    <tr>\n",
       "      <th>6</th>\n",
       "      <td>5848</td>\n",
       "      <td>60c5d7495659ea5e55df1b22</td>\n",
       "      <td>hi_hasoc_2021_5852</td>\n",
       "      <td>यही तेरी असलियत है कि चोरी रोज करेगा खेत मे ले...</td>\n",
       "      <td>HOF</td>\n",
       "      <td>OFFN</td>\n",
       "    </tr>\n",
       "    <tr>\n",
       "      <th>9</th>\n",
       "      <td>3331</td>\n",
       "      <td>60c5d7495659ea5e55df1701</td>\n",
       "      <td>hi_hasoc_2021_3331</td>\n",
       "      <td>@anushka_s2 मूर्ख लड़की</td>\n",
       "      <td>HOF</td>\n",
       "      <td>OFFN</td>\n",
       "    </tr>\n",
       "    <tr>\n",
       "      <th>12</th>\n",
       "      <td>4872</td>\n",
       "      <td>60c5d7495659ea5e55df0d5f</td>\n",
       "      <td>hi_hasoc_2021_4875</td>\n",
       "      <td>What a shameless guy !! दोगला !! https://t.co/...</td>\n",
       "      <td>HOF</td>\n",
       "      <td>OFFN</td>\n",
       "    </tr>\n",
       "    <tr>\n",
       "      <th>15</th>\n",
       "      <td>6026</td>\n",
       "      <td>60c5d7495659ea5e55df1bbe</td>\n",
       "      <td>hi_hasoc_2021_6031</td>\n",
       "      <td>@Dr_Uditraj अमेरिका में तुम जैसे लोग दोगला राज...</td>\n",
       "      <td>HOF</td>\n",
       "      <td>OFFN</td>\n",
       "    </tr>\n",
       "    <tr>\n",
       "      <th>...</th>\n",
       "      <td>...</td>\n",
       "      <td>...</td>\n",
       "      <td>...</td>\n",
       "      <td>...</td>\n",
       "      <td>...</td>\n",
       "      <td>...</td>\n",
       "    </tr>\n",
       "    <tr>\n",
       "      <th>4574</th>\n",
       "      <td>4652</td>\n",
       "      <td>60c5d7495659ea5e55df0a2d</td>\n",
       "      <td>hi_hasoc_2021_4653</td>\n",
       "      <td>अब दाढ़ी कटवायेगा  या झोला उठाकर हिमालय पर जाय...</td>\n",
       "      <td>HOF</td>\n",
       "      <td>OFFN</td>\n",
       "    </tr>\n",
       "    <tr>\n",
       "      <th>4576</th>\n",
       "      <td>5237</td>\n",
       "      <td>60c5d7495659ea5e55df123d</td>\n",
       "      <td>hi_hasoc_2021_5240</td>\n",
       "      <td>वो वैसे भी अरबों की नाजायज औलाद है। https://t....</td>\n",
       "      <td>HOF</td>\n",
       "      <td>OFFN</td>\n",
       "    </tr>\n",
       "    <tr>\n",
       "      <th>4582</th>\n",
       "      <td>5698</td>\n",
       "      <td>60c5d7495659ea5e55df16f4</td>\n",
       "      <td>hi_hasoc_2021_5701</td>\n",
       "      <td>तेरे नाम का तो में कुत्ता भी ना पलू  कुत्तों क...</td>\n",
       "      <td>HOF</td>\n",
       "      <td>OFFN</td>\n",
       "    </tr>\n",
       "    <tr>\n",
       "      <th>4583</th>\n",
       "      <td>3405</td>\n",
       "      <td>60c5d7495659ea5e55df1992</td>\n",
       "      <td>hi_hasoc_2021_3405</td>\n",
       "      <td>I think we should stop saying anything about K...</td>\n",
       "      <td>HOF</td>\n",
       "      <td>OFFN</td>\n",
       "    </tr>\n",
       "    <tr>\n",
       "      <th>4593</th>\n",
       "      <td>4309</td>\n",
       "      <td>60c5d7495659ea5e55df06c9</td>\n",
       "      <td>hi_hasoc_2021_4310</td>\n",
       "      <td>बिहार के लोगों इन झूठे मक्कार राजनेताओं का चहर...</td>\n",
       "      <td>HOF</td>\n",
       "      <td>OFFN</td>\n",
       "    </tr>\n",
       "  </tbody>\n",
       "</table>\n",
       "<p>654 rows × 6 columns</p>\n",
       "</div>"
      ],
      "text/plain": [
       "      Unnamed: 0                       _id            tweet_id  \\\n",
       "3           5175  60c5d7495659ea5e55df0e45  hi_hasoc_2021_5178   \n",
       "6           5848  60c5d7495659ea5e55df1b22  hi_hasoc_2021_5852   \n",
       "9           3331  60c5d7495659ea5e55df1701  hi_hasoc_2021_3331   \n",
       "12          4872  60c5d7495659ea5e55df0d5f  hi_hasoc_2021_4875   \n",
       "15          6026  60c5d7495659ea5e55df1bbe  hi_hasoc_2021_6031   \n",
       "...          ...                       ...                 ...   \n",
       "4574        4652  60c5d7495659ea5e55df0a2d  hi_hasoc_2021_4653   \n",
       "4576        5237  60c5d7495659ea5e55df123d  hi_hasoc_2021_5240   \n",
       "4582        5698  60c5d7495659ea5e55df16f4  hi_hasoc_2021_5701   \n",
       "4583        3405  60c5d7495659ea5e55df1992  hi_hasoc_2021_3405   \n",
       "4593        4309  60c5d7495659ea5e55df06c9  hi_hasoc_2021_4310   \n",
       "\n",
       "                                                   text task_1 task_2  \n",
       "3            @AskAnshul आसमानी किताब के नाजायज औलाद है।    HOF   OFFN  \n",
       "6     यही तेरी असलियत है कि चोरी रोज करेगा खेत मे ले...    HOF   OFFN  \n",
       "9                               @anushka_s2 मूर्ख लड़की    HOF   OFFN  \n",
       "12    What a shameless guy !! दोगला !! https://t.co/...    HOF   OFFN  \n",
       "15    @Dr_Uditraj अमेरिका में तुम जैसे लोग दोगला राज...    HOF   OFFN  \n",
       "...                                                 ...    ...    ...  \n",
       "4574  अब दाढ़ी कटवायेगा  या झोला उठाकर हिमालय पर जाय...    HOF   OFFN  \n",
       "4576  वो वैसे भी अरबों की नाजायज औलाद है। https://t....    HOF   OFFN  \n",
       "4582  तेरे नाम का तो में कुत्ता भी ना पलू  कुत्तों क...    HOF   OFFN  \n",
       "4583  I think we should stop saying anything about K...    HOF   OFFN  \n",
       "4593  बिहार के लोगों इन झूठे मक्कार राजनेताओं का चहर...    HOF   OFFN  \n",
       "\n",
       "[654 rows x 6 columns]"
      ]
     },
     "execution_count": 12,
     "metadata": {},
     "output_type": "execute_result"
    }
   ],
   "source": [
    "df[df['task_2']=='OFFN']"
   ]
  },
  {
   "cell_type": "code",
   "execution_count": 13,
   "metadata": {},
   "outputs": [
    {
     "data": {
      "text/html": [
       "<div>\n",
       "<style scoped>\n",
       "    .dataframe tbody tr th:only-of-type {\n",
       "        vertical-align: middle;\n",
       "    }\n",
       "\n",
       "    .dataframe tbody tr th {\n",
       "        vertical-align: top;\n",
       "    }\n",
       "\n",
       "    .dataframe thead th {\n",
       "        text-align: right;\n",
       "    }\n",
       "</style>\n",
       "<table border=\"1\" class=\"dataframe\">\n",
       "  <thead>\n",
       "    <tr style=\"text-align: right;\">\n",
       "      <th></th>\n",
       "      <th>Unnamed: 0</th>\n",
       "      <th>_id</th>\n",
       "      <th>tweet_id</th>\n",
       "      <th>text</th>\n",
       "      <th>task_1</th>\n",
       "      <th>task_2</th>\n",
       "    </tr>\n",
       "  </thead>\n",
       "  <tbody>\n",
       "    <tr>\n",
       "      <th>5</th>\n",
       "      <td>5407</td>\n",
       "      <td>60c5d7495659ea5e55df13af</td>\n",
       "      <td>hi_hasoc_2021_5410</td>\n",
       "      <td>@Sandeep_News_24 बिहार की आम जनता को बहुत ही न...</td>\n",
       "      <td>HOF</td>\n",
       "      <td>HATE</td>\n",
       "    </tr>\n",
       "    <tr>\n",
       "      <th>7</th>\n",
       "      <td>5761</td>\n",
       "      <td>60c5d7495659ea5e55df1c1c</td>\n",
       "      <td>hi_hasoc_2021_5765</td>\n",
       "      <td>भोजपुरी का 2 टके का सिंगर किसी के लड़की का नाम...</td>\n",
       "      <td>HOF</td>\n",
       "      <td>HATE</td>\n",
       "    </tr>\n",
       "    <tr>\n",
       "      <th>14</th>\n",
       "      <td>5113</td>\n",
       "      <td>60c5d7495659ea5e55df0e67</td>\n",
       "      <td>hi_hasoc_2021_5116</td>\n",
       "      <td>वर्तमान स्थिति में मुझे लगता है कि हमारे राष्ट...</td>\n",
       "      <td>HOF</td>\n",
       "      <td>HATE</td>\n",
       "    </tr>\n",
       "    <tr>\n",
       "      <th>18</th>\n",
       "      <td>4608</td>\n",
       "      <td>60c5d7495659ea5e55df0bca</td>\n",
       "      <td>hi_hasoc_2021_4609</td>\n",
       "      <td>@Kavi_Ghar सवाल यह नही कि वो मुझे वेश्या कहता ...</td>\n",
       "      <td>HOF</td>\n",
       "      <td>HATE</td>\n",
       "    </tr>\n",
       "    <tr>\n",
       "      <th>31</th>\n",
       "      <td>4287</td>\n",
       "      <td>60c5d7495659ea5e55df0647</td>\n",
       "      <td>hi_hasoc_2021_4287</td>\n",
       "      <td>अगर जरा भी ज़मीर बचा है और जरा भी साहब से मोहब...</td>\n",
       "      <td>HOF</td>\n",
       "      <td>HATE</td>\n",
       "    </tr>\n",
       "    <tr>\n",
       "      <th>...</th>\n",
       "      <td>...</td>\n",
       "      <td>...</td>\n",
       "      <td>...</td>\n",
       "      <td>...</td>\n",
       "      <td>...</td>\n",
       "      <td>...</td>\n",
       "    </tr>\n",
       "    <tr>\n",
       "      <th>4541</th>\n",
       "      <td>4408</td>\n",
       "      <td>60c5d7495659ea5e55df0568</td>\n",
       "      <td>hi_hasoc_2021_4409</td>\n",
       "      <td>@drramansingh @bhupeshbaghel चावल चोर ज्ञान ना...</td>\n",
       "      <td>HOF</td>\n",
       "      <td>HATE</td>\n",
       "    </tr>\n",
       "    <tr>\n",
       "      <th>4557</th>\n",
       "      <td>4458</td>\n",
       "      <td>60c5d7495659ea5e55df06f4</td>\n",
       "      <td>hi_hasoc_2021_4459</td>\n",
       "      <td>\"भूल गया बलात्कारी,   ये काली की धरती है।  अन्...</td>\n",
       "      <td>HOF</td>\n",
       "      <td>HATE</td>\n",
       "    </tr>\n",
       "    <tr>\n",
       "      <th>4558</th>\n",
       "      <td>4255</td>\n",
       "      <td>60c5d7495659ea5e55df060d</td>\n",
       "      <td>hi_hasoc_2021_4255</td>\n",
       "      <td>बिहार के लोगों इन झूठे मक्कार राजनेताओं का चहर...</td>\n",
       "      <td>HOF</td>\n",
       "      <td>HATE</td>\n",
       "    </tr>\n",
       "    <tr>\n",
       "      <th>4565</th>\n",
       "      <td>4921</td>\n",
       "      <td>60c5d7495659ea5e55df0ea7</td>\n",
       "      <td>hi_hasoc_2021_4924</td>\n",
       "      <td>अब गांडीव 🏹 उठाने का समय आ गया है प्रभु @naren...</td>\n",
       "      <td>HOF</td>\n",
       "      <td>HATE</td>\n",
       "    </tr>\n",
       "    <tr>\n",
       "      <th>4567</th>\n",
       "      <td>4960</td>\n",
       "      <td>60c5d7495659ea5e55df0f04</td>\n",
       "      <td>hi_hasoc_2021_4963</td>\n",
       "      <td>@LuvDatta_INC आज ‘साहेब’ का TV चैनलों को नया फ...</td>\n",
       "      <td>HOF</td>\n",
       "      <td>HATE</td>\n",
       "    </tr>\n",
       "  </tbody>\n",
       "</table>\n",
       "<p>566 rows × 6 columns</p>\n",
       "</div>"
      ],
      "text/plain": [
       "      Unnamed: 0                       _id            tweet_id  \\\n",
       "5           5407  60c5d7495659ea5e55df13af  hi_hasoc_2021_5410   \n",
       "7           5761  60c5d7495659ea5e55df1c1c  hi_hasoc_2021_5765   \n",
       "14          5113  60c5d7495659ea5e55df0e67  hi_hasoc_2021_5116   \n",
       "18          4608  60c5d7495659ea5e55df0bca  hi_hasoc_2021_4609   \n",
       "31          4287  60c5d7495659ea5e55df0647  hi_hasoc_2021_4287   \n",
       "...          ...                       ...                 ...   \n",
       "4541        4408  60c5d7495659ea5e55df0568  hi_hasoc_2021_4409   \n",
       "4557        4458  60c5d7495659ea5e55df06f4  hi_hasoc_2021_4459   \n",
       "4558        4255  60c5d7495659ea5e55df060d  hi_hasoc_2021_4255   \n",
       "4565        4921  60c5d7495659ea5e55df0ea7  hi_hasoc_2021_4924   \n",
       "4567        4960  60c5d7495659ea5e55df0f04  hi_hasoc_2021_4963   \n",
       "\n",
       "                                                   text task_1 task_2  \n",
       "5     @Sandeep_News_24 बिहार की आम जनता को बहुत ही न...    HOF   HATE  \n",
       "7     भोजपुरी का 2 टके का सिंगर किसी के लड़की का नाम...    HOF   HATE  \n",
       "14    वर्तमान स्थिति में मुझे लगता है कि हमारे राष्ट...    HOF   HATE  \n",
       "18    @Kavi_Ghar सवाल यह नही कि वो मुझे वेश्या कहता ...    HOF   HATE  \n",
       "31    अगर जरा भी ज़मीर बचा है और जरा भी साहब से मोहब...    HOF   HATE  \n",
       "...                                                 ...    ...    ...  \n",
       "4541  @drramansingh @bhupeshbaghel चावल चोर ज्ञान ना...    HOF   HATE  \n",
       "4557  \"भूल गया बलात्कारी,   ये काली की धरती है।  अन्...    HOF   HATE  \n",
       "4558  बिहार के लोगों इन झूठे मक्कार राजनेताओं का चहर...    HOF   HATE  \n",
       "4565  अब गांडीव 🏹 उठाने का समय आ गया है प्रभु @naren...    HOF   HATE  \n",
       "4567  @LuvDatta_INC आज ‘साहेब’ का TV चैनलों को नया फ...    HOF   HATE  \n",
       "\n",
       "[566 rows x 6 columns]"
      ]
     },
     "execution_count": 13,
     "metadata": {},
     "output_type": "execute_result"
    }
   ],
   "source": [
    "df[df['task_2']=='HATE']"
   ]
  },
  {
   "cell_type": "code",
   "execution_count": 14,
   "metadata": {},
   "outputs": [
    {
     "data": {
      "text/html": [
       "<div>\n",
       "<style scoped>\n",
       "    .dataframe tbody tr th:only-of-type {\n",
       "        vertical-align: middle;\n",
       "    }\n",
       "\n",
       "    .dataframe tbody tr th {\n",
       "        vertical-align: top;\n",
       "    }\n",
       "\n",
       "    .dataframe thead th {\n",
       "        text-align: right;\n",
       "    }\n",
       "</style>\n",
       "<table border=\"1\" class=\"dataframe\">\n",
       "  <thead>\n",
       "    <tr style=\"text-align: right;\">\n",
       "      <th></th>\n",
       "      <th>Unnamed: 0</th>\n",
       "      <th>_id</th>\n",
       "      <th>tweet_id</th>\n",
       "      <th>text</th>\n",
       "      <th>task_1</th>\n",
       "      <th>task_2</th>\n",
       "    </tr>\n",
       "  </thead>\n",
       "  <tbody>\n",
       "    <tr>\n",
       "      <th>104</th>\n",
       "      <td>3444</td>\n",
       "      <td>60c5d7495659ea5e55df18e6</td>\n",
       "      <td>hi_hasoc_2021_3444</td>\n",
       "      <td>धवन मदरचोद ज़िंदा है मर गया 😁😁😁</td>\n",
       "      <td>HOF</td>\n",
       "      <td>PRFN</td>\n",
       "    </tr>\n",
       "    <tr>\n",
       "      <th>107</th>\n",
       "      <td>5712</td>\n",
       "      <td>60c5d7495659ea5e55df16b3</td>\n",
       "      <td>hi_hasoc_2021_5715</td>\n",
       "      <td>@PANKAJPARASHAR_ कुत्ता हरामज़ादा कहीं का</td>\n",
       "      <td>HOF</td>\n",
       "      <td>PRFN</td>\n",
       "    </tr>\n",
       "    <tr>\n",
       "      <th>117</th>\n",
       "      <td>1077</td>\n",
       "      <td>60c5d7495659ea5e55df0ae6</td>\n",
       "      <td>hi_hasoc_2021_1077</td>\n",
       "      <td>योगी जी.  इस BSDK वाले की सुरक्षा मे दो राफेल ...</td>\n",
       "      <td>HOF</td>\n",
       "      <td>PRFN</td>\n",
       "    </tr>\n",
       "    <tr>\n",
       "      <th>157</th>\n",
       "      <td>5180</td>\n",
       "      <td>60c5d7495659ea5e55df0f7a</td>\n",
       "      <td>hi_hasoc_2021_5183</td>\n",
       "      <td>व्हाट ए मदरचोद कौम मुसल्मान https://t.co/QKetp...</td>\n",
       "      <td>HOF</td>\n",
       "      <td>PRFN</td>\n",
       "    </tr>\n",
       "    <tr>\n",
       "      <th>163</th>\n",
       "      <td>3420</td>\n",
       "      <td>60c5d7495659ea5e55df1abc</td>\n",
       "      <td>hi_hasoc_2021_3420</td>\n",
       "      <td>@84239Katiyar100 @RakeshTikaitBKU तेरी मा का भ...</td>\n",
       "      <td>HOF</td>\n",
       "      <td>PRFN</td>\n",
       "    </tr>\n",
       "    <tr>\n",
       "      <th>...</th>\n",
       "      <td>...</td>\n",
       "      <td>...</td>\n",
       "      <td>...</td>\n",
       "      <td>...</td>\n",
       "      <td>...</td>\n",
       "      <td>...</td>\n",
       "    </tr>\n",
       "    <tr>\n",
       "      <th>4521</th>\n",
       "      <td>5551</td>\n",
       "      <td>60c5d7495659ea5e55df17d8</td>\n",
       "      <td>hi_hasoc_2021_5554</td>\n",
       "      <td>@BJP4India’s poll strategy in #Bengal: “पहले ह...</td>\n",
       "      <td>HOF</td>\n",
       "      <td>PRFN</td>\n",
       "    </tr>\n",
       "    <tr>\n",
       "      <th>4527</th>\n",
       "      <td>5473</td>\n",
       "      <td>60c5d7495659ea5e55df1660</td>\n",
       "      <td>hi_hasoc_2021_5476</td>\n",
       "      <td>सेकुलर, लिबरल होने की बात करने वाले राहुल गाँध...</td>\n",
       "      <td>HOF</td>\n",
       "      <td>PRFN</td>\n",
       "    </tr>\n",
       "    <tr>\n",
       "      <th>4536</th>\n",
       "      <td>5054</td>\n",
       "      <td>60c5d7495659ea5e55df0dd7</td>\n",
       "      <td>hi_hasoc_2021_5057</td>\n",
       "      <td>@nshuklain    जी का अकाउंट क्यों सस्पेंड कर दि...</td>\n",
       "      <td>HOF</td>\n",
       "      <td>PRFN</td>\n",
       "    </tr>\n",
       "    <tr>\n",
       "      <th>4572</th>\n",
       "      <td>3218</td>\n",
       "      <td>60c5d7495659ea5e55df17f7</td>\n",
       "      <td>hi_hasoc_2021_3218</td>\n",
       "      <td>@KanganaTeam भारत आकडे भी गिनो डायन....😠  हराम...</td>\n",
       "      <td>HOF</td>\n",
       "      <td>PRFN</td>\n",
       "    </tr>\n",
       "    <tr>\n",
       "      <th>4573</th>\n",
       "      <td>5450</td>\n",
       "      <td>60c5d7495659ea5e55df15df</td>\n",
       "      <td>hi_hasoc_2021_5453</td>\n",
       "      <td>@RahulGandhi अगर तुम्हे ब्लू टिक पसंद नही है  ...</td>\n",
       "      <td>HOF</td>\n",
       "      <td>PRFN</td>\n",
       "    </tr>\n",
       "  </tbody>\n",
       "</table>\n",
       "<p>213 rows × 6 columns</p>\n",
       "</div>"
      ],
      "text/plain": [
       "      Unnamed: 0                       _id            tweet_id  \\\n",
       "104         3444  60c5d7495659ea5e55df18e6  hi_hasoc_2021_3444   \n",
       "107         5712  60c5d7495659ea5e55df16b3  hi_hasoc_2021_5715   \n",
       "117         1077  60c5d7495659ea5e55df0ae6  hi_hasoc_2021_1077   \n",
       "157         5180  60c5d7495659ea5e55df0f7a  hi_hasoc_2021_5183   \n",
       "163         3420  60c5d7495659ea5e55df1abc  hi_hasoc_2021_3420   \n",
       "...          ...                       ...                 ...   \n",
       "4521        5551  60c5d7495659ea5e55df17d8  hi_hasoc_2021_5554   \n",
       "4527        5473  60c5d7495659ea5e55df1660  hi_hasoc_2021_5476   \n",
       "4536        5054  60c5d7495659ea5e55df0dd7  hi_hasoc_2021_5057   \n",
       "4572        3218  60c5d7495659ea5e55df17f7  hi_hasoc_2021_3218   \n",
       "4573        5450  60c5d7495659ea5e55df15df  hi_hasoc_2021_5453   \n",
       "\n",
       "                                                   text task_1 task_2  \n",
       "104                     धवन मदरचोद ज़िंदा है मर गया 😁😁😁    HOF   PRFN  \n",
       "107           @PANKAJPARASHAR_ कुत्ता हरामज़ादा कहीं का    HOF   PRFN  \n",
       "117   योगी जी.  इस BSDK वाले की सुरक्षा मे दो राफेल ...    HOF   PRFN  \n",
       "157   व्हाट ए मदरचोद कौम मुसल्मान https://t.co/QKetp...    HOF   PRFN  \n",
       "163   @84239Katiyar100 @RakeshTikaitBKU तेरी मा का भ...    HOF   PRFN  \n",
       "...                                                 ...    ...    ...  \n",
       "4521  @BJP4India’s poll strategy in #Bengal: “पहले ह...    HOF   PRFN  \n",
       "4527  सेकुलर, लिबरल होने की बात करने वाले राहुल गाँध...    HOF   PRFN  \n",
       "4536  @nshuklain    जी का अकाउंट क्यों सस्पेंड कर दि...    HOF   PRFN  \n",
       "4572  @KanganaTeam भारत आकडे भी गिनो डायन....😠  हराम...    HOF   PRFN  \n",
       "4573  @RahulGandhi अगर तुम्हे ब्लू टिक पसंद नही है  ...    HOF   PRFN  \n",
       "\n",
       "[213 rows x 6 columns]"
      ]
     },
     "execution_count": 14,
     "metadata": {},
     "output_type": "execute_result"
    }
   ],
   "source": [
    "df[df['task_2']=='PRFN']"
   ]
  },
  {
   "cell_type": "code",
   "execution_count": 15,
   "metadata": {},
   "outputs": [
    {
     "data": {
      "text/plain": [
       "0       False\n",
       "1       False\n",
       "2       False\n",
       "3       False\n",
       "4       False\n",
       "        ...  \n",
       "4589    False\n",
       "4590    False\n",
       "4591    False\n",
       "4592    False\n",
       "4593    False\n",
       "Name: task_2, Length: 4594, dtype: bool"
      ]
     },
     "execution_count": 15,
     "metadata": {},
     "output_type": "execute_result"
    }
   ],
   "source": [
    "pd.isnull(df[\"task_2\"])"
   ]
  },
  {
   "cell_type": "code",
   "execution_count": 16,
   "metadata": {},
   "outputs": [
    {
     "name": "stdout",
     "output_type": "stream",
     "text": [
      "Shape of the DataFrame: (4594, 6)\n"
     ]
    },
    {
     "data": {
      "text/html": [
       "<div>\n",
       "<style scoped>\n",
       "    .dataframe tbody tr th:only-of-type {\n",
       "        vertical-align: middle;\n",
       "    }\n",
       "\n",
       "    .dataframe tbody tr th {\n",
       "        vertical-align: top;\n",
       "    }\n",
       "\n",
       "    .dataframe thead th {\n",
       "        text-align: right;\n",
       "    }\n",
       "</style>\n",
       "<table border=\"1\" class=\"dataframe\">\n",
       "  <thead>\n",
       "    <tr style=\"text-align: right;\">\n",
       "      <th></th>\n",
       "      <th>Unnamed: 0</th>\n",
       "      <th>_id</th>\n",
       "      <th>tweet_id</th>\n",
       "      <th>text</th>\n",
       "      <th>task_1</th>\n",
       "      <th>task_2</th>\n",
       "    </tr>\n",
       "  </thead>\n",
       "  <tbody>\n",
       "    <tr>\n",
       "      <th>4267</th>\n",
       "      <td>2508</td>\n",
       "      <td>60c5d7495659ea5e55df13c4</td>\n",
       "      <td>hi_hasoc_2021_2508</td>\n",
       "      <td>चीन ने अपनी इकॉनमी बढ़ाने के लिए अपने लैब में ...</td>\n",
       "      <td>NOT</td>\n",
       "      <td>NONE</td>\n",
       "    </tr>\n",
       "    <tr>\n",
       "      <th>2217</th>\n",
       "      <td>3905</td>\n",
       "      <td>60c5d7495659ea5e55df1a24</td>\n",
       "      <td>hi_hasoc_2021_3905</td>\n",
       "      <td>अबकी बार 300 पार इसलिए नहीं किया था कि ऐसी बीभ...</td>\n",
       "      <td>NOT</td>\n",
       "      <td>NONE</td>\n",
       "    </tr>\n",
       "    <tr>\n",
       "      <th>3639</th>\n",
       "      <td>4753</td>\n",
       "      <td>60c5d7495659ea5e55df0b25</td>\n",
       "      <td>hi_hasoc_2021_4754</td>\n",
       "      <td>@ndtvindia मोदी तुम इस्तीफा दो हम तुम्हारे साथ...</td>\n",
       "      <td>NOT</td>\n",
       "      <td>NONE</td>\n",
       "    </tr>\n",
       "    <tr>\n",
       "      <th>2697</th>\n",
       "      <td>2574</td>\n",
       "      <td>60c5d7495659ea5e55df1491</td>\n",
       "      <td>hi_hasoc_2021_2574</td>\n",
       "      <td>@indiafirst_19 मी काही पण करील मदरचोद तू कोण स...</td>\n",
       "      <td>HOF</td>\n",
       "      <td>PRFN</td>\n",
       "    </tr>\n",
       "    <tr>\n",
       "      <th>3198</th>\n",
       "      <td>51</td>\n",
       "      <td>60c5d7495659ea5e55df0626</td>\n",
       "      <td>hi_hasoc_2021_51</td>\n",
       "      <td>#SuperSpreaderModi #ModiDisas...</td>\n",
       "      <td>NOT</td>\n",
       "      <td>NONE</td>\n",
       "    </tr>\n",
       "  </tbody>\n",
       "</table>\n",
       "</div>"
      ],
      "text/plain": [
       "      Unnamed: 0                       _id            tweet_id  \\\n",
       "4267        2508  60c5d7495659ea5e55df13c4  hi_hasoc_2021_2508   \n",
       "2217        3905  60c5d7495659ea5e55df1a24  hi_hasoc_2021_3905   \n",
       "3639        4753  60c5d7495659ea5e55df0b25  hi_hasoc_2021_4754   \n",
       "2697        2574  60c5d7495659ea5e55df1491  hi_hasoc_2021_2574   \n",
       "3198          51  60c5d7495659ea5e55df0626    hi_hasoc_2021_51   \n",
       "\n",
       "                                                   text task_1 task_2  \n",
       "4267  चीन ने अपनी इकॉनमी बढ़ाने के लिए अपने लैब में ...    NOT   NONE  \n",
       "2217  अबकी बार 300 पार इसलिए नहीं किया था कि ऐसी बीभ...    NOT   NONE  \n",
       "3639  @ndtvindia मोदी तुम इस्तीफा दो हम तुम्हारे साथ...    NOT   NONE  \n",
       "2697  @indiafirst_19 मी काही पण करील मदरचोद तू कोण स...    HOF   PRFN  \n",
       "3198                   #SuperSpreaderModi #ModiDisas...    NOT   NONE  "
      ]
     },
     "execution_count": 16,
     "metadata": {},
     "output_type": "execute_result"
    }
   ],
   "source": [
    "print(\"Shape of the DataFrame:\",df.shape)\n",
    "df.sample(5)"
   ]
  },
  {
   "cell_type": "code",
   "execution_count": 17,
   "metadata": {},
   "outputs": [],
   "source": [
    "def custom_encoder(df):\n",
    "    df.replace(to_replace =\"NONE\", value =0, inplace=True)\n",
    "    df.replace(to_replace =\"OFFN\", value =1, inplace=True)\n",
    "    df.replace(to_replace =\"HATE\", value =2, inplace=True)\n",
    "    df.replace(to_replace =\"PRFN\", value =3, inplace=True)"
   ]
  },
  {
   "cell_type": "code",
   "execution_count": 18,
   "metadata": {},
   "outputs": [],
   "source": [
    "custom_encoder(df['task_2'])"
   ]
  },
  {
   "cell_type": "code",
   "execution_count": 19,
   "metadata": {},
   "outputs": [
    {
     "name": "stdout",
     "output_type": "stream",
     "text": [
      "[0 1 2 3]\n"
     ]
    }
   ],
   "source": [
    "task1_unique = df['task_2'].unique()\n",
    "print(task1_unique)"
   ]
  },
  {
   "cell_type": "markdown",
   "metadata": {},
   "source": [
    "# Word Count"
   ]
  },
  {
   "cell_type": "code",
   "execution_count": 20,
   "metadata": {},
   "outputs": [
    {
     "name": "stdout",
     "output_type": "stream",
     "text": [
      "25.137931034482758\n",
      "26.587155963302752\n",
      "32.91519434628975\n",
      "23.103286384976524\n"
     ]
    }
   ],
   "source": [
    "df['word_count'] = df['text'].apply(lambda x: len(str(x).split()))\n",
    "print(df[df['task_2']==0]['word_count'].mean()) #NONE\n",
    "print(df[df['task_2']==1]['word_count'].mean()) #OFFN\n",
    "print(df[df['task_2']==2]['word_count'].mean()) #HATE\n",
    "print(df[df['task_2']==3]['word_count'].mean()) #PRFN"
   ]
  },
  {
   "cell_type": "markdown",
   "metadata": {},
   "source": [
    "# Character Count"
   ]
  },
  {
   "cell_type": "code",
   "execution_count": 21,
   "metadata": {},
   "outputs": [
    {
     "name": "stdout",
     "output_type": "stream",
     "text": [
      "180.59253400822524\n",
      "166.62996941896026\n",
      "204.35865724381625\n",
      "134.79342723004694\n"
     ]
    }
   ],
   "source": [
    "df['char_count'] = df['text'].apply(lambda x: len(str(x)))\n",
    "print(df[df['task_2']==0]['char_count'].mean()) #NONE\n",
    "print(df[df['task_2']==1]['char_count'].mean()) #OFFN\n",
    "print(df[df['task_2']==2]['char_count'].mean()) #HATE\n",
    "print(df[df['task_2']==3]['char_count'].mean()) #PRFN"
   ]
  },
  {
   "cell_type": "markdown",
   "metadata": {},
   "source": [
    "# Unique Word Count"
   ]
  },
  {
   "cell_type": "code",
   "execution_count": 22,
   "metadata": {},
   "outputs": [
    {
     "name": "stdout",
     "output_type": "stream",
     "text": [
      "23.091743119266056\n",
      "24.13914373088685\n",
      "29.58303886925795\n",
      "20.901408450704224\n"
     ]
    }
   ],
   "source": [
    "df['unique_word_count'] = df['text'].apply(lambda x: len(set(str(x).split())))\n",
    "print(df[df['task_2']==0]['unique_word_count'].mean()) #NONE\n",
    "print(df[df['task_2']==1]['unique_word_count'].mean()) #OFFN\n",
    "print(df[df['task_2']==2]['unique_word_count'].mean()) #HATE\n",
    "print(df[df['task_2']==3]['unique_word_count'].mean()) #PRFN"
   ]
  },
  {
   "cell_type": "markdown",
   "metadata": {},
   "source": [
    "# Plotting word-count per tweet"
   ]
  },
  {
   "cell_type": "code",
   "execution_count": 23,
   "metadata": {},
   "outputs": [
    {
     "data": {
      "image/png": "[encoded data removed]",
      "text/plain": [
       "<Figure size 720x288 with 2 Axes>"
      ]
     },
     "metadata": {
      "needs_background": "light"
     },
     "output_type": "display_data"
    }
   ],
   "source": [
    "%matplotlib inline\n",
    "from matplotlib import pyplot as plt\n",
    "fig,(ax1,ax2)=plt.subplots(1,2,figsize=(10,4))\n",
    "\n",
    "train_words=df[df['task_2']==0]['word_count']\n",
    "ax1.hist(train_words,color='red')\n",
    "ax1.set_title('NONE')\n",
    "\n",
    "train_words=df[df['task_2']==1]['word_count']\n",
    "ax2.hist(train_words,color='blue')\n",
    "ax2.set_title('Offensive')\n",
    "\n",
    "fig.suptitle('Words per tweet')\n",
    "plt.show()"
   ]
  },
  {
   "cell_type": "code",
   "execution_count": 24,
   "metadata": {},
   "outputs": [
    {
     "data": {
      "image/png": "[encoded data removed]",
      "text/plain": [
       "<Figure size 720x288 with 2 Axes>"
      ]
     },
     "metadata": {
      "needs_background": "light"
     },
     "output_type": "display_data"
    }
   ],
   "source": [
    "%matplotlib inline\n",
    "from matplotlib import pyplot as plt\n",
    "fig,(ax1,ax2)=plt.subplots(1,2,figsize=(10,4))\n",
    "\n",
    "train_words=df[df['task_2']==3]['word_count']\n",
    "ax1.hist(train_words,color='green')\n",
    "ax1.set_title('Hate')\n",
    "\n",
    "train_words=df[df['task_2']==4]['word_count']\n",
    "ax2.hist(train_words,color='orange')\n",
    "ax2.set_title('Profane')\n",
    "\n",
    "fig.suptitle('Words per tweet')\n",
    "plt.show()"
   ]
  },
  {
   "cell_type": "markdown",
   "metadata": {},
   "source": [
    "# Common text preprocessing"
   ]
  },
  {
   "cell_type": "code",
   "execution_count": 25,
   "metadata": {},
   "outputs": [],
   "source": [
    "#convert to lowercase, strip and remove punctuations\n",
    "def preprocess(text):\n",
    "    text = text.lower() \n",
    "    text=text.strip()  \n",
    "    text=re.compile('<.*?>').sub('', text) \n",
    "    text = re.compile('[%s]' % re.escape(string.punctuation)).sub(' ', text)  \n",
    "    text = re.sub('\\s+', ' ', text)  \n",
    "    text = re.sub(r'\\[[0-9]*\\]',' ',text) \n",
    "    text=re.sub(r'[^\\w\\s]', '', str(text).lower().strip())\n",
    "    text = re.sub(r'\\d',' ',text) \n",
    "    text = re.sub(r'\\s+',' ',text) \n",
    "    return text\n",
    "\n",
    " \n",
    "# STOPWORD REMOVAL\n",
    "def stopword(string):\n",
    "    a= [i for i in string.split() if i not in stopwords.words('english')]\n",
    "    return ' '.join(a)\n",
    "#LEMMATIZATION\n",
    "# Initialize the lemmatizer\n",
    "wl = WordNetLemmatizer()\n",
    " \n",
    "# This is a helper function to map NTLK position tags\n",
    "def get_wordnet_pos(tag):\n",
    "    if tag.startswith('J'):\n",
    "        return wordnet.ADJ\n",
    "    elif tag.startswith('V'):\n",
    "        return wordnet.VERB\n",
    "    elif tag.startswith('N'):\n",
    "        return wordnet.NOUN\n",
    "    elif tag.startswith('R'):\n",
    "        return wordnet.ADV\n",
    "    else:\n",
    "        return wordnet.NOUN\n",
    "# Tokenize the sentence\n",
    "def lemmatizer(string):\n",
    "    word_pos_tags = nltk.pos_tag(word_tokenize(string)) # Get position tags\n",
    "    a=[wl.lemmatize(tag[0], get_wordnet_pos(tag[1])) for idx, tag in enumerate(word_pos_tags)] # Map the position tag and lemmatize the word/token\n",
    "    return \" \".join(a)\n",
    "    \n",
    "  \n"
   ]
  },
  {
   "cell_type": "code",
   "execution_count": 26,
   "metadata": {},
   "outputs": [
    {
     "data": {
      "text/html": [
       "<div>\n",
       "<style scoped>\n",
       "    .dataframe tbody tr th:only-of-type {\n",
       "        vertical-align: middle;\n",
       "    }\n",
       "\n",
       "    .dataframe tbody tr th {\n",
       "        vertical-align: top;\n",
       "    }\n",
       "\n",
       "    .dataframe thead th {\n",
       "        text-align: right;\n",
       "    }\n",
       "</style>\n",
       "<table border=\"1\" class=\"dataframe\">\n",
       "  <thead>\n",
       "    <tr style=\"text-align: right;\">\n",
       "      <th></th>\n",
       "      <th>Unnamed: 0</th>\n",
       "      <th>_id</th>\n",
       "      <th>tweet_id</th>\n",
       "      <th>text</th>\n",
       "      <th>task_1</th>\n",
       "      <th>task_2</th>\n",
       "      <th>word_count</th>\n",
       "      <th>char_count</th>\n",
       "      <th>unique_word_count</th>\n",
       "    </tr>\n",
       "  </thead>\n",
       "  <tbody>\n",
       "    <tr>\n",
       "      <th>0</th>\n",
       "      <td>998</td>\n",
       "      <td>60c5d7495659ea5e55df0b7b</td>\n",
       "      <td>hi_hasoc_2021_998</td>\n",
       "      <td>@rssurjewala #Hindus DYING #HindusLivesMatter ...</td>\n",
       "      <td>NOT</td>\n",
       "      <td>0</td>\n",
       "      <td>24</td>\n",
       "      <td>265</td>\n",
       "      <td>24</td>\n",
       "    </tr>\n",
       "    <tr>\n",
       "      <th>1</th>\n",
       "      <td>4049</td>\n",
       "      <td>60c5d7495659ea5e55df1b73</td>\n",
       "      <td>hi_hasoc_2021_4049</td>\n",
       "      <td>सब लोग इतने पैसे डोनेट ही कर रहे हैं फिर भी आम...</td>\n",
       "      <td>NOT</td>\n",
       "      <td>0</td>\n",
       "      <td>38</td>\n",
       "      <td>212</td>\n",
       "      <td>35</td>\n",
       "    </tr>\n",
       "    <tr>\n",
       "      <th>2</th>\n",
       "      <td>1757</td>\n",
       "      <td>60c5d7495659ea5e55df0d1b</td>\n",
       "      <td>hi_hasoc_2021_1757</td>\n",
       "      <td>शेर-ए- सिवान शहाबुद्दीन साहब से रिश्ता क्या  ل...</td>\n",
       "      <td>NOT</td>\n",
       "      <td>0</td>\n",
       "      <td>15</td>\n",
       "      <td>99</td>\n",
       "      <td>14</td>\n",
       "    </tr>\n",
       "    <tr>\n",
       "      <th>3</th>\n",
       "      <td>5175</td>\n",
       "      <td>60c5d7495659ea5e55df0e45</td>\n",
       "      <td>hi_hasoc_2021_5178</td>\n",
       "      <td>@AskAnshul आसमानी किताब के नाजायज औलाद है।</td>\n",
       "      <td>HOF</td>\n",
       "      <td>1</td>\n",
       "      <td>7</td>\n",
       "      <td>42</td>\n",
       "      <td>7</td>\n",
       "    </tr>\n",
       "    <tr>\n",
       "      <th>4</th>\n",
       "      <td>1825</td>\n",
       "      <td>60c5d7495659ea5e55df0ee1</td>\n",
       "      <td>hi_hasoc_2021_1825</td>\n",
       "      <td>@Shikha0222 इसे कहते हैं दोगला पंती जिस सपा की...</td>\n",
       "      <td>NOT</td>\n",
       "      <td>0</td>\n",
       "      <td>33</td>\n",
       "      <td>144</td>\n",
       "      <td>31</td>\n",
       "    </tr>\n",
       "  </tbody>\n",
       "</table>\n",
       "</div>"
      ],
      "text/plain": [
       "   Unnamed: 0                       _id            tweet_id  \\\n",
       "0         998  60c5d7495659ea5e55df0b7b   hi_hasoc_2021_998   \n",
       "1        4049  60c5d7495659ea5e55df1b73  hi_hasoc_2021_4049   \n",
       "2        1757  60c5d7495659ea5e55df0d1b  hi_hasoc_2021_1757   \n",
       "3        5175  60c5d7495659ea5e55df0e45  hi_hasoc_2021_5178   \n",
       "4        1825  60c5d7495659ea5e55df0ee1  hi_hasoc_2021_1825   \n",
       "\n",
       "                                                text task_1  task_2  \\\n",
       "0  @rssurjewala #Hindus DYING #HindusLivesMatter ...    NOT       0   \n",
       "1  सब लोग इतने पैसे डोनेट ही कर रहे हैं फिर भी आम...    NOT       0   \n",
       "2  शेर-ए- सिवान शहाबुद्दीन साहब से रिश्ता क्या  ل...    NOT       0   \n",
       "3         @AskAnshul आसमानी किताब के नाजायज औलाद है।    HOF       1   \n",
       "4  @Shikha0222 इसे कहते हैं दोगला पंती जिस सपा की...    NOT       0   \n",
       "\n",
       "   word_count  char_count  unique_word_count  \n",
       "0          24         265                 24  \n",
       "1          38         212                 35  \n",
       "2          15          99                 14  \n",
       "3           7          42                  7  \n",
       "4          33         144                 31  "
      ]
     },
     "execution_count": 26,
     "metadata": {},
     "output_type": "execute_result"
    }
   ],
   "source": [
    "df.head()"
   ]
  },
  {
   "cell_type": "code",
   "execution_count": 27,
   "metadata": {},
   "outputs": [
    {
     "data": {
      "text/html": [
       "<div>\n",
       "<style scoped>\n",
       "    .dataframe tbody tr th:only-of-type {\n",
       "        vertical-align: middle;\n",
       "    }\n",
       "\n",
       "    .dataframe tbody tr th {\n",
       "        vertical-align: top;\n",
       "    }\n",
       "\n",
       "    .dataframe thead th {\n",
       "        text-align: right;\n",
       "    }\n",
       "</style>\n",
       "<table border=\"1\" class=\"dataframe\">\n",
       "  <thead>\n",
       "    <tr style=\"text-align: right;\">\n",
       "      <th></th>\n",
       "      <th>Unnamed: 0</th>\n",
       "      <th>_id</th>\n",
       "      <th>tweet_id</th>\n",
       "      <th>text</th>\n",
       "      <th>task_1</th>\n",
       "      <th>task_2</th>\n",
       "      <th>word_count</th>\n",
       "      <th>char_count</th>\n",
       "      <th>unique_word_count</th>\n",
       "      <th>clean_text</th>\n",
       "    </tr>\n",
       "  </thead>\n",
       "  <tbody>\n",
       "    <tr>\n",
       "      <th>0</th>\n",
       "      <td>998</td>\n",
       "      <td>60c5d7495659ea5e55df0b7b</td>\n",
       "      <td>hi_hasoc_2021_998</td>\n",
       "      <td>@rssurjewala #Hindus DYING #HindusLivesMatter ...</td>\n",
       "      <td>NOT</td>\n",
       "      <td>0</td>\n",
       "      <td>24</td>\n",
       "      <td>265</td>\n",
       "      <td>24</td>\n",
       "      <td>rssurjewala hindu die hinduslivesmatter kindat...</td>\n",
       "    </tr>\n",
       "    <tr>\n",
       "      <th>1</th>\n",
       "      <td>4049</td>\n",
       "      <td>60c5d7495659ea5e55df1b73</td>\n",
       "      <td>hi_hasoc_2021_4049</td>\n",
       "      <td>सब लोग इतने पैसे डोनेट ही कर रहे हैं फिर भी आम...</td>\n",
       "      <td>NOT</td>\n",
       "      <td>0</td>\n",
       "      <td>38</td>\n",
       "      <td>212</td>\n",
       "      <td>35</td>\n",
       "      <td>सब लग इतन पस डनट ह कर रह ह फर भ आम आदम क सलडर ...</td>\n",
       "    </tr>\n",
       "    <tr>\n",
       "      <th>2</th>\n",
       "      <td>1757</td>\n",
       "      <td>60c5d7495659ea5e55df0d1b</td>\n",
       "      <td>hi_hasoc_2021_1757</td>\n",
       "      <td>शेर-ए- सिवान शहाबुद्दीन साहब से रिश्ता क्या  ل...</td>\n",
       "      <td>NOT</td>\n",
       "      <td>0</td>\n",
       "      <td>15</td>\n",
       "      <td>99</td>\n",
       "      <td>14</td>\n",
       "      <td>शर ए सवन शहबददन सहब स रशत कय لا إله إلا الله م...</td>\n",
       "    </tr>\n",
       "    <tr>\n",
       "      <th>3</th>\n",
       "      <td>5175</td>\n",
       "      <td>60c5d7495659ea5e55df0e45</td>\n",
       "      <td>hi_hasoc_2021_5178</td>\n",
       "      <td>@AskAnshul आसमानी किताब के नाजायज औलाद है।</td>\n",
       "      <td>HOF</td>\n",
       "      <td>1</td>\n",
       "      <td>7</td>\n",
       "      <td>42</td>\n",
       "      <td>7</td>\n",
       "      <td>askanshul आसमन कतब क नजयज औलद ह</td>\n",
       "    </tr>\n",
       "    <tr>\n",
       "      <th>4</th>\n",
       "      <td>1825</td>\n",
       "      <td>60c5d7495659ea5e55df0ee1</td>\n",
       "      <td>hi_hasoc_2021_1825</td>\n",
       "      <td>@Shikha0222 इसे कहते हैं दोगला पंती जिस सपा की...</td>\n",
       "      <td>NOT</td>\n",
       "      <td>0</td>\n",
       "      <td>33</td>\n",
       "      <td>144</td>\n",
       "      <td>31</td>\n",
       "      <td>shikha इस कहत ह दगल पत जस सप क दम पर स क सफर क...</td>\n",
       "    </tr>\n",
       "  </tbody>\n",
       "</table>\n",
       "</div>"
      ],
      "text/plain": [
       "   Unnamed: 0                       _id            tweet_id  \\\n",
       "0         998  60c5d7495659ea5e55df0b7b   hi_hasoc_2021_998   \n",
       "1        4049  60c5d7495659ea5e55df1b73  hi_hasoc_2021_4049   \n",
       "2        1757  60c5d7495659ea5e55df0d1b  hi_hasoc_2021_1757   \n",
       "3        5175  60c5d7495659ea5e55df0e45  hi_hasoc_2021_5178   \n",
       "4        1825  60c5d7495659ea5e55df0ee1  hi_hasoc_2021_1825   \n",
       "\n",
       "                                                text task_1  task_2  \\\n",
       "0  @rssurjewala #Hindus DYING #HindusLivesMatter ...    NOT       0   \n",
       "1  सब लोग इतने पैसे डोनेट ही कर रहे हैं फिर भी आम...    NOT       0   \n",
       "2  शेर-ए- सिवान शहाबुद्दीन साहब से रिश्ता क्या  ل...    NOT       0   \n",
       "3         @AskAnshul आसमानी किताब के नाजायज औलाद है।    HOF       1   \n",
       "4  @Shikha0222 इसे कहते हैं दोगला पंती जिस सपा की...    NOT       0   \n",
       "\n",
       "   word_count  char_count  unique_word_count  \\\n",
       "0          24         265                 24   \n",
       "1          38         212                 35   \n",
       "2          15          99                 14   \n",
       "3           7          42                  7   \n",
       "4          33         144                 31   \n",
       "\n",
       "                                          clean_text  \n",
       "0  rssurjewala hindu die hinduslivesmatter kindat...  \n",
       "1  सब लग इतन पस डनट ह कर रह ह फर भ आम आदम क सलडर ...  \n",
       "2  शर ए सवन शहबददन सहब स रशत कय لا إله إلا الله م...  \n",
       "3                    askanshul आसमन कतब क नजयज औलद ह  \n",
       "4  shikha इस कहत ह दगल पत जस सप क दम पर स क सफर क...  "
      ]
     },
     "execution_count": 27,
     "metadata": {},
     "output_type": "execute_result"
    }
   ],
   "source": [
    "#FINAL PREPROCESSING\n",
    "def finalpreprocess(string):\n",
    "    return lemmatizer(stopword(preprocess(string)))\n",
    "df['clean_text'] = df['text'].apply(lambda x: finalpreprocess(x))\n",
    "df.head()"
   ]
  },
  {
   "cell_type": "code",
   "execution_count": 28,
   "metadata": {},
   "outputs": [],
   "source": [
    "new_df = df[['clean_text','task_2']]"
   ]
  },
  {
   "cell_type": "code",
   "execution_count": 29,
   "metadata": {},
   "outputs": [
    {
     "data": {
      "text/html": [
       "<div>\n",
       "<style scoped>\n",
       "    .dataframe tbody tr th:only-of-type {\n",
       "        vertical-align: middle;\n",
       "    }\n",
       "\n",
       "    .dataframe tbody tr th {\n",
       "        vertical-align: top;\n",
       "    }\n",
       "\n",
       "    .dataframe thead th {\n",
       "        text-align: right;\n",
       "    }\n",
       "</style>\n",
       "<table border=\"1\" class=\"dataframe\">\n",
       "  <thead>\n",
       "    <tr style=\"text-align: right;\">\n",
       "      <th></th>\n",
       "      <th>clean_text</th>\n",
       "      <th>task_2</th>\n",
       "    </tr>\n",
       "  </thead>\n",
       "  <tbody>\n",
       "    <tr>\n",
       "      <th>0</th>\n",
       "      <td>rssurjewala hindu die hinduslivesmatter kindat...</td>\n",
       "      <td>0</td>\n",
       "    </tr>\n",
       "    <tr>\n",
       "      <th>1</th>\n",
       "      <td>सब लग इतन पस डनट ह कर रह ह फर भ आम आदम क सलडर ...</td>\n",
       "      <td>0</td>\n",
       "    </tr>\n",
       "    <tr>\n",
       "      <th>2</th>\n",
       "      <td>शर ए सवन शहबददन सहब स रशत कय لا إله إلا الله م...</td>\n",
       "      <td>0</td>\n",
       "    </tr>\n",
       "    <tr>\n",
       "      <th>3</th>\n",
       "      <td>askanshul आसमन कतब क नजयज औलद ह</td>\n",
       "      <td>1</td>\n",
       "    </tr>\n",
       "    <tr>\n",
       "      <th>4</th>\n",
       "      <td>shikha इस कहत ह दगल पत जस सप क दम पर स क सफर क...</td>\n",
       "      <td>0</td>\n",
       "    </tr>\n",
       "  </tbody>\n",
       "</table>\n",
       "</div>"
      ],
      "text/plain": [
       "                                          clean_text  task_2\n",
       "0  rssurjewala hindu die hinduslivesmatter kindat...       0\n",
       "1  सब लग इतन पस डनट ह कर रह ह फर भ आम आदम क सलडर ...       0\n",
       "2  शर ए सवन शहबददन सहब स रशत कय لا إله إلا الله م...       0\n",
       "3                    askanshul आसमन कतब क नजयज औलद ह       1\n",
       "4  shikha इस कहत ह दगल पत जस सप क दम पर स क सफर क...       0"
      ]
     },
     "execution_count": 29,
     "metadata": {},
     "output_type": "execute_result"
    }
   ],
   "source": [
    "new_df.head()"
   ]
  },
  {
   "cell_type": "code",
   "execution_count": 30,
   "metadata": {},
   "outputs": [
    {
     "data": {
      "text/plain": [
       "0    3161\n",
       "1     654\n",
       "2     566\n",
       "3     213\n",
       "Name: task_2, dtype: int64"
      ]
     },
     "execution_count": 30,
     "metadata": {},
     "output_type": "execute_result"
    }
   ],
   "source": [
    "df['task_2'].value_counts()"
   ]
  },
  {
   "cell_type": "code",
   "execution_count": 31,
   "metadata": {},
   "outputs": [
    {
     "name": "stderr",
     "output_type": "stream",
     "text": [
      "<ipython-input-31-6f281371d216>:2: SettingWithCopyWarning: \n",
      "A value is trying to be set on a copy of a slice from a DataFrame.\n",
      "Try using .loc[row_indexer,col_indexer] = value instead\n",
      "\n",
      "See the caveats in the documentation: https://pandas.pydata.org/pandas-docs/stable/user_guide/indexing.html#returning-a-view-versus-a-copy\n",
      "  new_df[\"clean_text\"] = new_df[\"clean_text\"].str.lower()#.str.split()\n"
     ]
    },
    {
     "data": {
      "text/html": [
       "<div>\n",
       "<style scoped>\n",
       "    .dataframe tbody tr th:only-of-type {\n",
       "        vertical-align: middle;\n",
       "    }\n",
       "\n",
       "    .dataframe tbody tr th {\n",
       "        vertical-align: top;\n",
       "    }\n",
       "\n",
       "    .dataframe thead th {\n",
       "        text-align: right;\n",
       "    }\n",
       "</style>\n",
       "<table border=\"1\" class=\"dataframe\">\n",
       "  <thead>\n",
       "    <tr style=\"text-align: right;\">\n",
       "      <th></th>\n",
       "      <th>clean_text</th>\n",
       "      <th>task_2</th>\n",
       "    </tr>\n",
       "  </thead>\n",
       "  <tbody>\n",
       "    <tr>\n",
       "      <th>0</th>\n",
       "      <td>rssurjewala hindu die hinduslivesmatter kindat...</td>\n",
       "      <td>0</td>\n",
       "    </tr>\n",
       "    <tr>\n",
       "      <th>1</th>\n",
       "      <td>सब लग इतन पस डनट ह कर रह ह फर भ आम आदम क सलडर ...</td>\n",
       "      <td>0</td>\n",
       "    </tr>\n",
       "    <tr>\n",
       "      <th>2</th>\n",
       "      <td>शर ए सवन शहबददन सहब स रशत कय لا إله إلا الله م...</td>\n",
       "      <td>0</td>\n",
       "    </tr>\n",
       "    <tr>\n",
       "      <th>3</th>\n",
       "      <td>askanshul आसमन कतब क नजयज औलद ह</td>\n",
       "      <td>1</td>\n",
       "    </tr>\n",
       "    <tr>\n",
       "      <th>4</th>\n",
       "      <td>shikha इस कहत ह दगल पत जस सप क दम पर स क सफर क...</td>\n",
       "      <td>0</td>\n",
       "    </tr>\n",
       "  </tbody>\n",
       "</table>\n",
       "</div>"
      ],
      "text/plain": [
       "                                          clean_text  task_2\n",
       "0  rssurjewala hindu die hinduslivesmatter kindat...       0\n",
       "1  सब लग इतन पस डनट ह कर रह ह फर भ आम आदम क सलडर ...       0\n",
       "2  शर ए सवन शहबददन सहब स रशत कय لا إله إلا الله م...       0\n",
       "3                    askanshul आसमन कतब क नजयज औलद ह       1\n",
       "4  shikha इस कहत ह दगल पत जस सप क दम पर स क सफर क...       0"
      ]
     },
     "execution_count": 31,
     "metadata": {},
     "output_type": "execute_result"
    }
   ],
   "source": [
    "#converting to lowercase\n",
    "new_df[\"clean_text\"] = new_df[\"clean_text\"].str.lower()#.str.split()\n",
    "new_df.head(5)"
   ]
  },
  {
   "cell_type": "markdown",
   "metadata": {},
   "source": [
    "# removing stopwords"
   ]
  },
  {
   "cell_type": "code",
   "execution_count": 32,
   "metadata": {},
   "outputs": [
    {
     "name": "stderr",
     "output_type": "stream",
     "text": [
      "[nltk_data] Downloading package stopwords to\n",
      "[nltk_data]     C:\\Users\\win10\\AppData\\Roaming\\nltk_data...\n",
      "[nltk_data]   Package stopwords is already up-to-date!\n"
     ]
    },
    {
     "data": {
      "text/plain": [
       "True"
      ]
     },
     "execution_count": 32,
     "metadata": {},
     "output_type": "execute_result"
    }
   ],
   "source": [
    "nltk.download('stopwords')"
   ]
  },
  {
   "cell_type": "code",
   "execution_count": 33,
   "metadata": {},
   "outputs": [],
   "source": [
    "from nltk.corpus import stopwords\n",
    "stop = stopwords.words('english')"
   ]
  },
  {
   "cell_type": "code",
   "execution_count": 34,
   "metadata": {},
   "outputs": [
    {
     "data": {
      "text/plain": [
       "0       [r, u, r, j, e, w, l,  , h, n, u,  , e,  , h, ...\n",
       "1       [स, ब,  , ल, ग,  , इ, त, न,  , प, स,  , ड, न, ...\n",
       "2       [श, र,  , ए,  , स, व, न,  , श, ह, ब, द, द, न, ...\n",
       "3       [k, n, h, u, l,  , आ, स, म, न,  , क, त, ब,  , ...\n",
       "4       [h, k, h,  , इ, स,  , क, ह, त,  , ह,  , द, ग, ...\n",
       "                              ...                        \n",
       "4589    [स, व, न,  , क,  , प, र, व,  , स, स, द,  , म, ...\n",
       "4590    [व, र, ष,  , क,  , द, र, न,  , क, श, म, र,  , ...\n",
       "4591    [क, स, न,  , क,  , म, द,  , क,  , ध, ब, प, ट, ...\n",
       "4592    [r, v, h, k,  , n, e, w, l, u, n, r,  , b, h, ...\n",
       "4593    [ब, ह, र,  , क,  , ल, ग,  , इ, न,  , झ, ठ,  , ...\n",
       "Name: clean_text, Length: 4594, dtype: object"
      ]
     },
     "execution_count": 34,
     "metadata": {},
     "output_type": "execute_result"
    }
   ],
   "source": [
    "new_df['clean_text'].apply(lambda x: [item for item in x if item not in stop])"
   ]
  },
  {
   "cell_type": "code",
   "execution_count": 35,
   "metadata": {},
   "outputs": [
    {
     "data": {
      "text/html": [
       "<div>\n",
       "<style scoped>\n",
       "    .dataframe tbody tr th:only-of-type {\n",
       "        vertical-align: middle;\n",
       "    }\n",
       "\n",
       "    .dataframe tbody tr th {\n",
       "        vertical-align: top;\n",
       "    }\n",
       "\n",
       "    .dataframe thead th {\n",
       "        text-align: right;\n",
       "    }\n",
       "</style>\n",
       "<table border=\"1\" class=\"dataframe\">\n",
       "  <thead>\n",
       "    <tr style=\"text-align: right;\">\n",
       "      <th></th>\n",
       "      <th>clean_text</th>\n",
       "      <th>task_2</th>\n",
       "    </tr>\n",
       "  </thead>\n",
       "  <tbody>\n",
       "    <tr>\n",
       "      <th>0</th>\n",
       "      <td>rssurjewala hindu die hinduslivesmatter kindat...</td>\n",
       "      <td>0</td>\n",
       "    </tr>\n",
       "    <tr>\n",
       "      <th>1</th>\n",
       "      <td>सब लग इतन पस डनट ह कर रह ह फर भ आम आदम क सलडर ...</td>\n",
       "      <td>0</td>\n",
       "    </tr>\n",
       "    <tr>\n",
       "      <th>2</th>\n",
       "      <td>शर ए सवन शहबददन सहब स रशत कय لا إله إلا الله م...</td>\n",
       "      <td>0</td>\n",
       "    </tr>\n",
       "    <tr>\n",
       "      <th>3</th>\n",
       "      <td>askanshul आसमन कतब क नजयज औलद ह</td>\n",
       "      <td>1</td>\n",
       "    </tr>\n",
       "    <tr>\n",
       "      <th>4</th>\n",
       "      <td>shikha इस कहत ह दगल पत जस सप क दम पर स क सफर क...</td>\n",
       "      <td>0</td>\n",
       "    </tr>\n",
       "    <tr>\n",
       "      <th>5</th>\n",
       "      <td>sandeep news बहर क आम जनत क बहत ह नरजग ह कदर स...</td>\n",
       "      <td>2</td>\n",
       "    </tr>\n",
       "  </tbody>\n",
       "</table>\n",
       "</div>"
      ],
      "text/plain": [
       "                                          clean_text  task_2\n",
       "0  rssurjewala hindu die hinduslivesmatter kindat...       0\n",
       "1  सब लग इतन पस डनट ह कर रह ह फर भ आम आदम क सलडर ...       0\n",
       "2  शर ए सवन शहबददन सहब स रशत कय لا إله إلا الله م...       0\n",
       "3                    askanshul आसमन कतब क नजयज औलद ह       1\n",
       "4  shikha इस कहत ह दगल पत जस सप क दम पर स क सफर क...       0\n",
       "5  sandeep news बहर क आम जनत क बहत ह नरजग ह कदर स...       2"
      ]
     },
     "execution_count": 35,
     "metadata": {},
     "output_type": "execute_result"
    }
   ],
   "source": [
    "new_df.head(6)"
   ]
  },
  {
   "cell_type": "code",
   "execution_count": 36,
   "metadata": {},
   "outputs": [
    {
     "data": {
      "text/plain": [
       "(4594, 2)"
      ]
     },
     "execution_count": 36,
     "metadata": {},
     "output_type": "execute_result"
    }
   ],
   "source": [
    "new_df.shape"
   ]
  },
  {
   "cell_type": "code",
   "execution_count": 37,
   "metadata": {},
   "outputs": [
    {
     "data": {
      "text/plain": [
       "clean_text    0\n",
       "task_2        0\n",
       "dtype: int64"
      ]
     },
     "execution_count": 37,
     "metadata": {},
     "output_type": "execute_result"
    }
   ],
   "source": [
    "new_df.isnull().sum()"
   ]
  },
  {
   "cell_type": "code",
   "execution_count": 38,
   "metadata": {},
   "outputs": [
    {
     "data": {
      "text/html": [
       "<div>\n",
       "<style scoped>\n",
       "    .dataframe tbody tr th:only-of-type {\n",
       "        vertical-align: middle;\n",
       "    }\n",
       "\n",
       "    .dataframe tbody tr th {\n",
       "        vertical-align: top;\n",
       "    }\n",
       "\n",
       "    .dataframe thead th {\n",
       "        text-align: right;\n",
       "    }\n",
       "</style>\n",
       "<table border=\"1\" class=\"dataframe\">\n",
       "  <thead>\n",
       "    <tr style=\"text-align: right;\">\n",
       "      <th></th>\n",
       "      <th>clean_text</th>\n",
       "      <th>task_2</th>\n",
       "    </tr>\n",
       "  </thead>\n",
       "  <tbody>\n",
       "    <tr>\n",
       "      <th>0</th>\n",
       "      <td>rssurjewala hindu die hinduslivesmatter kindat...</td>\n",
       "      <td>0</td>\n",
       "    </tr>\n",
       "    <tr>\n",
       "      <th>1</th>\n",
       "      <td>सब लग इतन पस डनट ह कर रह ह फर भ आम आदम क सलडर ...</td>\n",
       "      <td>0</td>\n",
       "    </tr>\n",
       "    <tr>\n",
       "      <th>2</th>\n",
       "      <td>शर ए सवन शहबददन सहब स रशत कय لا إله إلا الله م...</td>\n",
       "      <td>0</td>\n",
       "    </tr>\n",
       "    <tr>\n",
       "      <th>3</th>\n",
       "      <td>askanshul आसमन कतब क नजयज औलद ह</td>\n",
       "      <td>1</td>\n",
       "    </tr>\n",
       "    <tr>\n",
       "      <th>4</th>\n",
       "      <td>shikha इस कहत ह दगल पत जस सप क दम पर स क सफर क...</td>\n",
       "      <td>0</td>\n",
       "    </tr>\n",
       "    <tr>\n",
       "      <th>5</th>\n",
       "      <td>sandeep news बहर क आम जनत क बहत ह नरजग ह कदर स...</td>\n",
       "      <td>2</td>\n",
       "    </tr>\n",
       "    <tr>\n",
       "      <th>6</th>\n",
       "      <td>यह तर असलयत ह क चर रज करग खत म लकन कभ भ उस सवक...</td>\n",
       "      <td>1</td>\n",
       "    </tr>\n",
       "  </tbody>\n",
       "</table>\n",
       "</div>"
      ],
      "text/plain": [
       "                                          clean_text  task_2\n",
       "0  rssurjewala hindu die hinduslivesmatter kindat...       0\n",
       "1  सब लग इतन पस डनट ह कर रह ह फर भ आम आदम क सलडर ...       0\n",
       "2  शर ए सवन शहबददन सहब स रशत कय لا إله إلا الله م...       0\n",
       "3                    askanshul आसमन कतब क नजयज औलद ह       1\n",
       "4  shikha इस कहत ह दगल पत जस सप क दम पर स क सफर क...       0\n",
       "5  sandeep news बहर क आम जनत क बहत ह नरजग ह कदर स...       2\n",
       "6  यह तर असलयत ह क चर रज करग खत म लकन कभ भ उस सवक...       1"
      ]
     },
     "execution_count": 38,
     "metadata": {},
     "output_type": "execute_result"
    }
   ],
   "source": [
    "new_df.head(7)"
   ]
  },
  {
   "cell_type": "markdown",
   "metadata": {},
   "source": [
    "# splitting data into test ad train"
   ]
  },
  {
   "cell_type": "code",
   "execution_count": 39,
   "metadata": {},
   "outputs": [
    {
     "name": "stdout",
     "output_type": "stream",
     "text": [
      "train shape :  (3675, 2)\n",
      "valid shape :  (919, 2)\n"
     ]
    }
   ],
   "source": [
    "from sklearn.model_selection import train_test_split\n",
    "\n",
    "train,valid = train_test_split(new_df,test_size = 0.2,random_state=0,stratify = new_df.task_2.values) #stratification means that the train_test_split method returns training and test subsets that have the same proportions of class labels as the input dataset.\n",
    "print(\"train shape : \", train.shape)\n",
    "print(\"valid shape : \", valid.shape)"
   ]
  },
  {
   "cell_type": "markdown",
   "metadata": {},
   "source": [
    "# Use Of Counter Vectorizer "
   ]
  },
  {
   "cell_type": "code",
   "execution_count": 40,
   "metadata": {},
   "outputs": [
    {
     "name": "stdout",
     "output_type": "stream",
     "text": [
      "X_train.shape :  (3675, 11628)\n",
      "X_train.shape :  (919, 11628)\n",
      "y_train.shape :  (3675,)\n",
      "y_valid.shape :  (919,)\n"
     ]
    }
   ],
   "source": [
    "from sklearn.feature_extraction.text import CountVectorizer\n",
    "from nltk.corpus import stopwords\n",
    "stop = list(stopwords.words('english'))\n",
    "vectorizer = CountVectorizer(decode_error = 'replace',stop_words = stop)\n",
    "\n",
    "X_train = vectorizer.fit_transform(train.clean_text.values)\n",
    "X_valid = vectorizer.transform(valid.clean_text.values)\n",
    "\n",
    "y_train = train.task_2.values\n",
    "y_valid = valid.task_2.values\n",
    "\n",
    "print(\"X_train.shape : \", X_train.shape)\n",
    "print(\"X_train.shape : \", X_valid.shape)\n",
    "print(\"y_train.shape : \", y_train.shape)\n",
    "print(\"y_valid.shape : \", y_valid.shape)"
   ]
  },
  {
   "cell_type": "markdown",
   "metadata": {},
   "source": [
    "# Naive Bayes Classifier \n"
   ]
  },
  {
   "cell_type": "code",
   "execution_count": 41,
   "metadata": {},
   "outputs": [
    {
     "name": "stdout",
     "output_type": "stream",
     "text": [
      "training accuracy Score    :  0.8598639455782313\n",
      "Validation accuracy Score :  0.6931447225244831\n",
      "              precision    recall  f1-score   support\n",
      "\n",
      "           0       0.93      0.74      0.82       798\n",
      "           1       0.29      0.47      0.36        81\n",
      "           2       0.08      0.23      0.12        39\n",
      "           3       0.02      1.00      0.05         1\n",
      "\n",
      "    accuracy                           0.69       919\n",
      "   macro avg       0.33      0.61      0.34       919\n",
      "weighted avg       0.84      0.69      0.75       919\n",
      "\n"
     ]
    }
   ],
   "source": [
    "from sklearn.naive_bayes import MultinomialNB\n",
    "\n",
    "naiveByes_clf = MultinomialNB()\n",
    "\n",
    "naiveByes_clf.fit(X_train,y_train)\n",
    "\n",
    "NB_prediction = naiveByes_clf.predict(X_valid)\n",
    "NB_accuracy = accuracy_score(y_valid,NB_prediction)\n",
    "print(\"training accuracy Score    : \",naiveByes_clf.score(X_train,y_train))\n",
    "print(\"Validation accuracy Score : \",NB_accuracy )\n",
    "print(classification_report(NB_prediction,y_valid))"
   ]
  },
  {
   "cell_type": "markdown",
   "metadata": {},
   "source": [
    "# Stochastic Gradient Descent-SGD Classifier"
   ]
  },
  {
   "cell_type": "code",
   "execution_count": 42,
   "metadata": {},
   "outputs": [
    {
     "name": "stdout",
     "output_type": "stream",
     "text": [
      "Training accuracy Score    :  0.9907482993197279\n",
      "Validation accuracy Score :  0.6811751904243744\n",
      "              precision    recall  f1-score   support\n",
      "\n",
      "           0       0.87      0.79      0.83       695\n",
      "           1       0.36      0.39      0.37       121\n",
      "           2       0.17      0.28      0.21        69\n",
      "           3       0.28      0.35      0.31        34\n",
      "\n",
      "    accuracy                           0.68       919\n",
      "   macro avg       0.42      0.45      0.43       919\n",
      "weighted avg       0.73      0.68      0.70       919\n",
      "\n"
     ]
    }
   ],
   "source": [
    "from sklearn.linear_model import SGDClassifier\n",
    "\n",
    "sgd_clf = SGDClassifier(loss = 'hinge', penalty = 'l2', random_state=0)\n",
    "\n",
    "sgd_clf.fit(X_train,y_train)\n",
    "\n",
    "sgd_prediction = sgd_clf.predict(X_valid)\n",
    "sgd_accuracy = accuracy_score(y_valid,sgd_prediction)\n",
    "print(\"Training accuracy Score    : \",sgd_clf.score(X_train,y_train))\n",
    "print(\"Validation accuracy Score : \",sgd_accuracy )\n",
    "print(classification_report(sgd_prediction,y_valid))"
   ]
  },
  {
   "cell_type": "markdown",
   "metadata": {},
   "source": [
    "# RANDOM FOREST CLASSIFIER "
   ]
  },
  {
   "cell_type": "code",
   "execution_count": 43,
   "metadata": {},
   "outputs": [
    {
     "name": "stdout",
     "output_type": "stream",
     "text": [
      "Training accuracy Score    :  0.9940136054421769\n",
      "Validation accuracy Score :  0.7029379760609358\n",
      "              precision    recall  f1-score   support\n",
      "\n",
      "           0       0.94      0.75      0.83       792\n",
      "           1       0.27      0.47      0.35        77\n",
      "           2       0.07      0.30      0.11        27\n",
      "           3       0.19      0.35      0.24        23\n",
      "\n",
      "    accuracy                           0.70       919\n",
      "   macro avg       0.37      0.47      0.38       919\n",
      "weighted avg       0.84      0.70      0.76       919\n",
      "\n"
     ]
    }
   ],
   "source": [
    "from sklearn.ensemble import RandomForestClassifier\n",
    "\n",
    "rf_clf = RandomForestClassifier()\n",
    "\n",
    "rf_clf.fit(X_train,y_train)\n",
    "\n",
    "rf_prediction = rf_clf.predict(X_valid)\n",
    "rf_accuracy = accuracy_score(y_valid,rf_prediction)\n",
    "print(\"Training accuracy Score    : \",rf_clf.score(X_train,y_train))\n",
    "print(\"Validation accuracy Score : \",rf_accuracy )\n",
    "print(classification_report(rf_prediction,y_valid))"
   ]
  },
  {
   "cell_type": "markdown",
   "metadata": {},
   "source": [
    "# Extreme Gradient Boosting "
   ]
  },
  {
   "cell_type": "code",
   "execution_count": 44,
   "metadata": {},
   "outputs": [
    {
     "name": "stderr",
     "output_type": "stream",
     "text": [
      "C:\\Users\\win10\\anaconda3\\lib\\site-packages\\xgboost\\sklearn.py:1146: UserWarning: The use of label encoder in XGBClassifier is deprecated and will be removed in a future release. To remove this warning, do the following: 1) Pass option use_label_encoder=False when constructing XGBClassifier object; and 2) Encode your labels (y) as integers starting with 0, i.e. 0, 1, 2, ..., [num_class - 1].\n",
      "  warnings.warn(label_encoder_deprecation_msg, UserWarning)\n"
     ]
    },
    {
     "name": "stdout",
     "output_type": "stream",
     "text": [
      "[09:39:15] WARNING: C:/Users/Administrator/workspace/xgboost-win64_release_1.4.0/src/learner.cc:1095: Starting in XGBoost 1.3.0, the default evaluation metric used with the objective 'multi:softprob' was changed from 'merror' to 'mlogloss'. Explicitly set eval_metric if you'd like to restore the old behavior.\n",
      "Training accuracy Score    :  0.9028571428571428\n",
      "Validation accuracy Score :  0.6953210010881393\n",
      "              precision    recall  f1-score   support\n",
      "\n",
      "           0       0.91      0.76      0.83       757\n",
      "           1       0.27      0.41      0.32        86\n",
      "           2       0.13      0.33      0.19        45\n",
      "           3       0.26      0.35      0.30        31\n",
      "\n",
      "    accuracy                           0.70       919\n",
      "   macro avg       0.39      0.46      0.41       919\n",
      "weighted avg       0.79      0.70      0.74       919\n",
      "\n"
     ]
    }
   ],
   "source": [
    "#takes huge amount of time to execute\n",
    "import xgboost as xgb\n",
    "\n",
    "xgboost_clf = xgb.XGBClassifier()\n",
    "\n",
    "xgboost_clf.fit(X_train, y_train)\n",
    "\n",
    "xgb_prediction = xgboost_clf.predict(X_valid)\n",
    "xgb_accuracy = accuracy_score(y_valid,xgb_prediction)\n",
    "print(\"Training accuracy Score    : \",xgboost_clf.score(X_train,y_train))\n",
    "print(\"Validation accuracy Score : \",xgb_accuracy )\n",
    "print(classification_report(xgb_prediction,y_valid))"
   ]
  },
  {
   "cell_type": "markdown",
   "metadata": {},
   "source": [
    "# Support vector machine"
   ]
  },
  {
   "cell_type": "code",
   "execution_count": 45,
   "metadata": {},
   "outputs": [
    {
     "name": "stdout",
     "output_type": "stream",
     "text": [
      "Training accuracy Score    :  0.866938775510204\n",
      "Validation accuracy Score :  0.7105549510337323\n",
      "              precision    recall  f1-score   support\n",
      "\n",
      "           0       0.95      0.74      0.83       814\n",
      "           1       0.34      0.50      0.41        90\n",
      "           2       0.04      0.29      0.06        14\n",
      "           3       0.02      1.00      0.05         1\n",
      "\n",
      "    accuracy                           0.71       919\n",
      "   macro avg       0.34      0.63      0.34       919\n",
      "weighted avg       0.88      0.71      0.78       919\n",
      "\n"
     ]
    }
   ],
   "source": [
    "from sklearn.svm import SVC\n",
    "\n",
    "svc = SVC(probability=True)\n",
    "\n",
    "svc.fit(X_train, y_train)\n",
    "\n",
    "svc_prediction = svc.predict(X_valid)\n",
    "svc_accuracy = accuracy_score(y_valid,svc_prediction)\n",
    "print(\"Training accuracy Score    : \",svc.score(X_train,y_train))\n",
    "print(\"Validation accuracy Score : \",svc_accuracy )\n",
    "print(classification_report(svc_prediction,y_valid))"
   ]
  },
  {
   "cell_type": "markdown",
   "metadata": {},
   "source": [
    "# Logistic Regression"
   ]
  },
  {
   "cell_type": "code",
   "execution_count": 46,
   "metadata": {},
   "outputs": [
    {
     "name": "stdout",
     "output_type": "stream",
     "text": [
      "Training accuracy Score    :  0.9836734693877551\n",
      "Validation accuracy Score :  0.720348204570185\n",
      "              precision    recall  f1-score   support\n",
      "\n",
      "           0       0.92      0.79      0.85       736\n",
      "           1       0.38      0.46      0.42       109\n",
      "           2       0.19      0.42      0.27        53\n",
      "           3       0.26      0.52      0.34        21\n",
      "\n",
      "    accuracy                           0.72       919\n",
      "   macro avg       0.44      0.55      0.47       919\n",
      "weighted avg       0.80      0.72      0.75       919\n",
      "\n"
     ]
    },
    {
     "name": "stderr",
     "output_type": "stream",
     "text": [
      "C:\\Users\\win10\\anaconda3\\lib\\site-packages\\sklearn\\linear_model\\_logistic.py:763: ConvergenceWarning: lbfgs failed to converge (status=1):\n",
      "STOP: TOTAL NO. of ITERATIONS REACHED LIMIT.\n",
      "\n",
      "Increase the number of iterations (max_iter) or scale the data as shown in:\n",
      "    https://scikit-learn.org/stable/modules/preprocessing.html\n",
      "Please also refer to the documentation for alternative solver options:\n",
      "    https://scikit-learn.org/stable/modules/linear_model.html#logistic-regression\n",
      "  n_iter_i = _check_optimize_result(\n"
     ]
    }
   ],
   "source": [
    "from sklearn.linear_model import LogisticRegression\n",
    "logreg = LogisticRegression()\n",
    "\n",
    "logreg.fit(X_train, y_train)\n",
    "\n",
    "logreg_prediction = logreg.predict(X_valid)\n",
    "logreg_accuracy = accuracy_score(y_valid,logreg_prediction)\n",
    "print(\"Training accuracy Score    : \",logreg.score(X_train,y_train))\n",
    "print(\"Validation accuracy Score : \",logreg_accuracy )\n",
    "print(classification_report(logreg_prediction,y_valid))"
   ]
  },
  {
   "cell_type": "markdown",
   "metadata": {},
   "source": [
    "# CATBOOST MODEL "
   ]
  },
  {
   "cell_type": "code",
   "execution_count": 47,
   "metadata": {},
   "outputs": [
    {
     "name": "stdout",
     "output_type": "stream",
     "text": [
      "Requirement already satisfied: catboost in c:\\users\\win10\\anaconda3\\lib\\site-packages (0.26.1)\n",
      "Requirement already satisfied: plotly in c:\\users\\win10\\anaconda3\\lib\\site-packages (from catboost) (5.2.1)\n",
      "Requirement already satisfied: graphviz in c:\\users\\win10\\anaconda3\\lib\\site-packages (from catboost) (0.17)\n",
      "Requirement already satisfied: six in c:\\users\\win10\\anaconda3\\lib\\site-packages (from catboost) (1.15.0)\n",
      "Requirement already satisfied: scipy in c:\\users\\win10\\anaconda3\\lib\\site-packages (from catboost) (1.5.2)\n",
      "Requirement already satisfied: pandas>=0.24.0 in c:\\users\\win10\\anaconda3\\lib\\site-packages (from catboost) (1.1.3)\n",
      "Requirement already satisfied: numpy>=1.16.0 in c:\\users\\win10\\anaconda3\\lib\\site-packages (from catboost) (1.19.2)\n",
      "Requirement already satisfied: matplotlib in c:\\users\\win10\\anaconda3\\lib\\site-packages (from catboost) (3.3.2)\n",
      "Requirement already satisfied: tenacity>=6.2.0 in c:\\users\\win10\\anaconda3\\lib\\site-packages (from plotly->catboost) (8.0.1)\n",
      "Requirement already satisfied: pytz>=2017.2 in c:\\users\\win10\\anaconda3\\lib\\site-packages (from pandas>=0.24.0->catboost) (2020.1)\n",
      "Requirement already satisfied: python-dateutil>=2.7.3 in c:\\users\\win10\\anaconda3\\lib\\site-packages (from pandas>=0.24.0->catboost) (2.8.1)\n",
      "Requirement already satisfied: pyparsing!=2.0.4,!=2.1.2,!=2.1.6,>=2.0.3 in c:\\users\\win10\\anaconda3\\lib\\site-packages (from matplotlib->catboost) (2.4.7)\n",
      "Requirement already satisfied: kiwisolver>=1.0.1 in c:\\users\\win10\\anaconda3\\lib\\site-packages (from matplotlib->catboost) (1.3.0)\n",
      "Requirement already satisfied: pillow>=6.2.0 in c:\\users\\win10\\anaconda3\\lib\\site-packages (from matplotlib->catboost) (8.0.1)\n",
      "Requirement already satisfied: certifi>=2020.06.20 in c:\\users\\win10\\anaconda3\\lib\\site-packages (from matplotlib->catboost) (2020.6.20)\n",
      "Requirement already satisfied: cycler>=0.10 in c:\\users\\win10\\anaconda3\\lib\\site-packages (from matplotlib->catboost) (0.10.0)\n",
      "Requirement already satisfied: ipywidgets in c:\\users\\win10\\anaconda3\\lib\\site-packages (7.5.1)\n",
      "Requirement already satisfied: nbformat>=4.2.0 in c:\\users\\win10\\anaconda3\\lib\\site-packages (from ipywidgets) (5.0.8)\n",
      "Requirement already satisfied: widgetsnbextension~=3.5.0 in c:\\users\\win10\\anaconda3\\lib\\site-packages (from ipywidgets) (3.5.1)\n",
      "Requirement already satisfied: ipykernel>=4.5.1 in c:\\users\\win10\\anaconda3\\lib\\site-packages (from ipywidgets) (5.3.4)\n",
      "Requirement already satisfied: traitlets>=4.3.1 in c:\\users\\win10\\anaconda3\\lib\\site-packages (from ipywidgets) (5.0.5)\n",
      "Requirement already satisfied: ipython>=4.0.0; python_version >= \"3.3\" in c:\\users\\win10\\anaconda3\\lib\\site-packages (from ipywidgets) (7.19.0)\n",
      "Requirement already satisfied: jsonschema!=2.5.0,>=2.4 in c:\\users\\win10\\anaconda3\\lib\\site-packages (from nbformat>=4.2.0->ipywidgets) (3.2.0)\n",
      "Requirement already satisfied: ipython-genutils in c:\\users\\win10\\anaconda3\\lib\\site-packages (from nbformat>=4.2.0->ipywidgets) (0.2.0)\n",
      "Requirement already satisfied: jupyter-core in c:\\users\\win10\\anaconda3\\lib\\site-packages (from nbformat>=4.2.0->ipywidgets) (4.6.3)\n",
      "Requirement already satisfied: notebook>=4.4.1 in c:\\users\\win10\\anaconda3\\lib\\site-packages (from widgetsnbextension~=3.5.0->ipywidgets) (6.1.4)\n",
      "Requirement already satisfied: tornado>=4.2 in c:\\users\\win10\\anaconda3\\lib\\site-packages (from ipykernel>=4.5.1->ipywidgets) (6.0.4)\n",
      "Requirement already satisfied: jupyter-client in c:\\users\\win10\\anaconda3\\lib\\site-packages (from ipykernel>=4.5.1->ipywidgets) (6.1.7)\n",
      "Requirement already satisfied: backcall in c:\\users\\win10\\anaconda3\\lib\\site-packages (from ipython>=4.0.0; python_version >= \"3.3\"->ipywidgets) (0.2.0)\n",
      "Requirement already satisfied: decorator in c:\\users\\win10\\anaconda3\\lib\\site-packages (from ipython>=4.0.0; python_version >= \"3.3\"->ipywidgets) (4.4.2)\n",
      "Requirement already satisfied: colorama; sys_platform == \"win32\" in c:\\users\\win10\\anaconda3\\lib\\site-packages (from ipython>=4.0.0; python_version >= \"3.3\"->ipywidgets) (0.4.4)\n",
      "Requirement already satisfied: setuptools>=18.5 in c:\\users\\win10\\anaconda3\\lib\\site-packages (from ipython>=4.0.0; python_version >= \"3.3\"->ipywidgets) (50.3.1.post20201107)\n",
      "Requirement already satisfied: pickleshare in c:\\users\\win10\\anaconda3\\lib\\site-packages (from ipython>=4.0.0; python_version >= \"3.3\"->ipywidgets) (0.7.5)\n",
      "Requirement already satisfied: pygments in c:\\users\\win10\\anaconda3\\lib\\site-packages (from ipython>=4.0.0; python_version >= \"3.3\"->ipywidgets) (2.7.2)\n",
      "Requirement already satisfied: prompt-toolkit!=3.0.0,!=3.0.1,<3.1.0,>=2.0.0 in c:\\users\\win10\\anaconda3\\lib\\site-packages (from ipython>=4.0.0; python_version >= \"3.3\"->ipywidgets) (3.0.8)\n",
      "Requirement already satisfied: jedi>=0.10 in c:\\users\\win10\\anaconda3\\lib\\site-packages (from ipython>=4.0.0; python_version >= \"3.3\"->ipywidgets) (0.17.1)\n",
      "Requirement already satisfied: six>=1.11.0 in c:\\users\\win10\\anaconda3\\lib\\site-packages (from jsonschema!=2.5.0,>=2.4->nbformat>=4.2.0->ipywidgets) (1.15.0)\n",
      "Requirement already satisfied: attrs>=17.4.0 in c:\\users\\win10\\anaconda3\\lib\\site-packages (from jsonschema!=2.5.0,>=2.4->nbformat>=4.2.0->ipywidgets) (20.3.0)\n",
      "Requirement already satisfied: pyrsistent>=0.14.0 in c:\\users\\win10\\anaconda3\\lib\\site-packages (from jsonschema!=2.5.0,>=2.4->nbformat>=4.2.0->ipywidgets) (0.17.3)\n",
      "Requirement already satisfied: pywin32>=1.0; sys_platform == \"win32\" in c:\\users\\win10\\anaconda3\\lib\\site-packages (from jupyter-core->nbformat>=4.2.0->ipywidgets) (227)\n",
      "Requirement already satisfied: pyzmq>=17 in c:\\users\\win10\\anaconda3\\lib\\site-packages (from notebook>=4.4.1->widgetsnbextension~=3.5.0->ipywidgets) (19.0.2)\n",
      "Requirement already satisfied: nbconvert in c:\\users\\win10\\anaconda3\\lib\\site-packages (from notebook>=4.4.1->widgetsnbextension~=3.5.0->ipywidgets) (6.0.7)\n",
      "Requirement already satisfied: argon2-cffi in c:\\users\\win10\\anaconda3\\lib\\site-packages (from notebook>=4.4.1->widgetsnbextension~=3.5.0->ipywidgets) (20.1.0)\n",
      "Requirement already satisfied: terminado>=0.8.3 in c:\\users\\win10\\anaconda3\\lib\\site-packages (from notebook>=4.4.1->widgetsnbextension~=3.5.0->ipywidgets) (0.9.1)\n",
      "Requirement already satisfied: jinja2 in c:\\users\\win10\\anaconda3\\lib\\site-packages (from notebook>=4.4.1->widgetsnbextension~=3.5.0->ipywidgets) (2.11.2)\n",
      "Requirement already satisfied: Send2Trash in c:\\users\\win10\\anaconda3\\lib\\site-packages (from notebook>=4.4.1->widgetsnbextension~=3.5.0->ipywidgets) (1.5.0)\n",
      "Requirement already satisfied: prometheus-client in c:\\users\\win10\\anaconda3\\lib\\site-packages (from notebook>=4.4.1->widgetsnbextension~=3.5.0->ipywidgets) (0.8.0)\n",
      "Requirement already satisfied: python-dateutil>=2.1 in c:\\users\\win10\\anaconda3\\lib\\site-packages (from jupyter-client->ipykernel>=4.5.1->ipywidgets) (2.8.1)\n",
      "Requirement already satisfied: wcwidth in c:\\users\\win10\\anaconda3\\lib\\site-packages (from prompt-toolkit!=3.0.0,!=3.0.1,<3.1.0,>=2.0.0->ipython>=4.0.0; python_version >= \"3.3\"->ipywidgets) (0.2.5)\n",
      "Requirement already satisfied: parso<0.8.0,>=0.7.0 in c:\\users\\win10\\anaconda3\\lib\\site-packages (from jedi>=0.10->ipython>=4.0.0; python_version >= \"3.3\"->ipywidgets) (0.7.0)\n",
      "Requirement already satisfied: jupyterlab-pygments in c:\\users\\win10\\anaconda3\\lib\\site-packages (from nbconvert->notebook>=4.4.1->widgetsnbextension~=3.5.0->ipywidgets) (0.1.2)\n",
      "Requirement already satisfied: mistune<2,>=0.8.1 in c:\\users\\win10\\anaconda3\\lib\\site-packages (from nbconvert->notebook>=4.4.1->widgetsnbextension~=3.5.0->ipywidgets) (0.8.4)\n",
      "Requirement already satisfied: nbclient<0.6.0,>=0.5.0 in c:\\users\\win10\\anaconda3\\lib\\site-packages (from nbconvert->notebook>=4.4.1->widgetsnbextension~=3.5.0->ipywidgets) (0.5.1)\n",
      "Requirement already satisfied: defusedxml in c:\\users\\win10\\anaconda3\\lib\\site-packages (from nbconvert->notebook>=4.4.1->widgetsnbextension~=3.5.0->ipywidgets) (0.6.0)\n",
      "Requirement already satisfied: pandocfilters>=1.4.1 in c:\\users\\win10\\anaconda3\\lib\\site-packages (from nbconvert->notebook>=4.4.1->widgetsnbextension~=3.5.0->ipywidgets) (1.4.3)\n",
      "Requirement already satisfied: entrypoints>=0.2.2 in c:\\users\\win10\\anaconda3\\lib\\site-packages (from nbconvert->notebook>=4.4.1->widgetsnbextension~=3.5.0->ipywidgets) (0.3)\n",
      "Requirement already satisfied: bleach in c:\\users\\win10\\anaconda3\\lib\\site-packages (from nbconvert->notebook>=4.4.1->widgetsnbextension~=3.5.0->ipywidgets) (3.2.1)\n",
      "Requirement already satisfied: testpath in c:\\users\\win10\\anaconda3\\lib\\site-packages (from nbconvert->notebook>=4.4.1->widgetsnbextension~=3.5.0->ipywidgets) (0.4.4)\n",
      "Requirement already satisfied: cffi>=1.0.0 in c:\\users\\win10\\anaconda3\\lib\\site-packages (from argon2-cffi->notebook>=4.4.1->widgetsnbextension~=3.5.0->ipywidgets) (1.14.3)\n",
      "Requirement already satisfied: pywinpty>=0.5 in c:\\users\\win10\\anaconda3\\lib\\site-packages (from terminado>=0.8.3->notebook>=4.4.1->widgetsnbextension~=3.5.0->ipywidgets) (0.5.7)\n",
      "Requirement already satisfied: MarkupSafe>=0.23 in c:\\users\\win10\\anaconda3\\lib\\site-packages (from jinja2->notebook>=4.4.1->widgetsnbextension~=3.5.0->ipywidgets) (1.1.1)\n",
      "Requirement already satisfied: nest-asyncio in c:\\users\\win10\\anaconda3\\lib\\site-packages (from nbclient<0.6.0,>=0.5.0->nbconvert->notebook>=4.4.1->widgetsnbextension~=3.5.0->ipywidgets) (1.4.2)\n",
      "Requirement already satisfied: async-generator in c:\\users\\win10\\anaconda3\\lib\\site-packages (from nbclient<0.6.0,>=0.5.0->nbconvert->notebook>=4.4.1->widgetsnbextension~=3.5.0->ipywidgets) (1.10)\n",
      "Requirement already satisfied: webencodings in c:\\users\\win10\\anaconda3\\lib\\site-packages (from bleach->nbconvert->notebook>=4.4.1->widgetsnbextension~=3.5.0->ipywidgets) (0.5.1)\n",
      "Requirement already satisfied: packaging in c:\\users\\win10\\anaconda3\\lib\\site-packages (from bleach->nbconvert->notebook>=4.4.1->widgetsnbextension~=3.5.0->ipywidgets) (20.4)\n",
      "Requirement already satisfied: pycparser in c:\\users\\win10\\anaconda3\\lib\\site-packages (from cffi>=1.0.0->argon2-cffi->notebook>=4.4.1->widgetsnbextension~=3.5.0->ipywidgets) (2.20)\n",
      "Requirement already satisfied: pyparsing>=2.0.2 in c:\\users\\win10\\anaconda3\\lib\\site-packages (from packaging->bleach->nbconvert->notebook>=4.4.1->widgetsnbextension~=3.5.0->ipywidgets) (2.4.7)\n"
     ]
    },
    {
     "name": "stderr",
     "output_type": "stream",
     "text": [
      "Enabling notebook extension jupyter-js-widgets/extension...\n",
      "      - Validating: ok\n"
     ]
    }
   ],
   "source": [
    "!pip install catboost\n",
    "!pip install ipywidgets\n",
    "!jupyter nbextension enable --py widgetsnbextension"
   ]
  },
  {
   "cell_type": "code",
   "execution_count": 48,
   "metadata": {},
   "outputs": [],
   "source": [
    "from catboost import CatBoostClassifier, Pool, cv\n",
    "from sklearn.metrics import accuracy_score"
   ]
  },
  {
   "cell_type": "code",
   "execution_count": 49,
   "metadata": {},
   "outputs": [
    {
     "name": "stdout",
     "output_type": "stream",
     "text": [
      "CatBoost model is fitted: True\n",
      "CatBoost model parameters:\n",
      "{}\n"
     ]
    }
   ],
   "source": [
    "clf2 = CatBoostClassifier()\n",
    "\n",
    "\n",
    "clf2.fit(X_train, y_train,  \n",
    "        eval_set=(X_valid, y_valid), \n",
    "        verbose=False\n",
    ")\n",
    "\n",
    "print('CatBoost model is fitted: ' + str(clf2.is_fitted()))\n",
    "print('CatBoost model parameters:')\n",
    "print(clf2.get_params())"
   ]
  },
  {
   "cell_type": "code",
   "execution_count": 50,
   "metadata": {},
   "outputs": [
    {
     "name": "stdout",
     "output_type": "stream",
     "text": [
      "Training accuracy Score    :  0.7948299319727891\n",
      "Validation accuracy Score :  0.720348204570185\n",
      "              precision    recall  f1-score   support\n",
      "\n",
      "           0       0.96      0.75      0.85       804\n",
      "           1       0.30      0.47      0.36        83\n",
      "           2       0.06      0.44      0.11        16\n",
      "           3       0.21      0.56      0.31        16\n",
      "\n",
      "    accuracy                           0.72       919\n",
      "   macro avg       0.38      0.56      0.41       919\n",
      "weighted avg       0.87      0.72      0.78       919\n",
      "\n"
     ]
    }
   ],
   "source": [
    "catboost_prediction = clf2.predict(X_valid)\n",
    "catboost_accuracy = accuracy_score(y_valid,catboost_prediction)\n",
    "print(\"Training accuracy Score    : \",clf2.score(X_train,y_train))\n",
    "print(\"Validation accuracy Score : \",catboost_accuracy )\n",
    "print(classification_report(catboost_prediction,y_valid))"
   ]
  },
  {
   "cell_type": "markdown",
   "metadata": {},
   "source": [
    "# All the multiclass models test accuracy "
   ]
  },
  {
   "cell_type": "code",
   "execution_count": 51,
   "metadata": {},
   "outputs": [
    {
     "data": {
      "text/html": [
       "<div>\n",
       "<style scoped>\n",
       "    .dataframe tbody tr th:only-of-type {\n",
       "        vertical-align: middle;\n",
       "    }\n",
       "\n",
       "    .dataframe tbody tr th {\n",
       "        vertical-align: top;\n",
       "    }\n",
       "\n",
       "    .dataframe thead th {\n",
       "        text-align: right;\n",
       "    }\n",
       "</style>\n",
       "<table border=\"1\" class=\"dataframe\">\n",
       "  <thead>\n",
       "    <tr style=\"text-align: right;\">\n",
       "      <th></th>\n",
       "      <th>Model</th>\n",
       "      <th>Test accuracy</th>\n",
       "    </tr>\n",
       "  </thead>\n",
       "  <tbody>\n",
       "    <tr>\n",
       "      <th>1</th>\n",
       "      <td>Logistic Regression</td>\n",
       "      <td>0.720348</td>\n",
       "    </tr>\n",
       "    <tr>\n",
       "      <th>6</th>\n",
       "      <td>CatBoost</td>\n",
       "      <td>0.720348</td>\n",
       "    </tr>\n",
       "    <tr>\n",
       "      <th>0</th>\n",
       "      <td>Support Vector Machines</td>\n",
       "      <td>0.710555</td>\n",
       "    </tr>\n",
       "    <tr>\n",
       "      <th>2</th>\n",
       "      <td>Random Forest</td>\n",
       "      <td>0.702938</td>\n",
       "    </tr>\n",
       "    <tr>\n",
       "      <th>5</th>\n",
       "      <td>XGBoost</td>\n",
       "      <td>0.695321</td>\n",
       "    </tr>\n",
       "    <tr>\n",
       "      <th>3</th>\n",
       "      <td>Naive Bayes</td>\n",
       "      <td>0.693145</td>\n",
       "    </tr>\n",
       "    <tr>\n",
       "      <th>4</th>\n",
       "      <td>Stochastic Gradient Decent</td>\n",
       "      <td>0.681175</td>\n",
       "    </tr>\n",
       "  </tbody>\n",
       "</table>\n",
       "</div>"
      ],
      "text/plain": [
       "                        Model  Test accuracy\n",
       "1         Logistic Regression       0.720348\n",
       "6                    CatBoost       0.720348\n",
       "0     Support Vector Machines       0.710555\n",
       "2               Random Forest       0.702938\n",
       "5                     XGBoost       0.695321\n",
       "3                 Naive Bayes       0.693145\n",
       "4  Stochastic Gradient Decent       0.681175"
      ]
     },
     "execution_count": 51,
     "metadata": {},
     "output_type": "execute_result"
    }
   ],
   "source": [
    "models = pd.DataFrame({\n",
    "    'Model': ['Support Vector Machines', 'Logistic Regression', \n",
    "              'Random Forest', 'Naive Bayes', \n",
    "              'Stochastic Gradient Decent', 'XGBoost','CatBoost'],\n",
    "    'Test accuracy': [svc_accuracy, logreg_accuracy, \n",
    "              rf_accuracy, NB_accuracy, \n",
    "              sgd_accuracy, xgb_accuracy,catboost_accuracy]})\n",
    "\n",
    "models.sort_values(by='Test accuracy', ascending=False)"
   ]
  },
  {
   "cell_type": "markdown",
   "metadata": {},
   "source": [
    "# Test"
   ]
  },
  {
   "cell_type": "code",
   "execution_count": 52,
   "metadata": {},
   "outputs": [],
   "source": [
    "#Testing it on new dataset with the best model\n",
    "from sklearn.feature_extraction.text import TfidfVectorizer\n",
    "df_test=pd.read_csv('HASOC_Hindi_2021_Test.csv')  #reading the data\n",
    "df_test['clean_text'] = df_test['text'].apply(lambda x: finalpreprocess(x)) #preprocess the data\n",
    "X_test=df_test['clean_text'] "
   ]
  },
  {
   "cell_type": "code",
   "execution_count": 53,
   "metadata": {},
   "outputs": [
    {
     "data": {
      "text/html": [
       "<div>\n",
       "<style scoped>\n",
       "    .dataframe tbody tr th:only-of-type {\n",
       "        vertical-align: middle;\n",
       "    }\n",
       "\n",
       "    .dataframe tbody tr th {\n",
       "        vertical-align: top;\n",
       "    }\n",
       "\n",
       "    .dataframe thead th {\n",
       "        text-align: right;\n",
       "    }\n",
       "</style>\n",
       "<table border=\"1\" class=\"dataframe\">\n",
       "  <thead>\n",
       "    <tr style=\"text-align: right;\">\n",
       "      <th></th>\n",
       "      <th>id</th>\n",
       "      <th>tweet_id</th>\n",
       "      <th>text</th>\n",
       "      <th>clean_text</th>\n",
       "    </tr>\n",
       "  </thead>\n",
       "  <tbody>\n",
       "    <tr>\n",
       "      <th>0</th>\n",
       "      <td>60c5d7495659ea5e55df0546</td>\n",
       "      <td>hi_hasoc_2021_5</td>\n",
       "      <td>@hemantmkpandya @news24tvchannel @Aloksharmaai...</td>\n",
       "      <td>hemantmkpandya news tvchannel aloksharmaaicc m...</td>\n",
       "    </tr>\n",
       "    <tr>\n",
       "      <th>1</th>\n",
       "      <td>60c5d7495659ea5e55df0591</td>\n",
       "      <td>hi_hasoc_2021_7</td>\n",
       "      <td>वोडाफोन ने एक कुत्ता पाला था बहुत फेमस हुआ   फ...</td>\n",
       "      <td>वडफन न एक कतत पल थ बहत फमस हआ फर मकश अबन क शक चढ</td>\n",
       "    </tr>\n",
       "    <tr>\n",
       "      <th>2</th>\n",
       "      <td>60c5d7495659ea5e55df0622</td>\n",
       "      <td>hi_hasoc_2021_12</td>\n",
       "      <td>घंटे दीमक ने जाकर 70 साल के मज़बूत पेड़ को 7 स...</td>\n",
       "      <td>घट दमक न जकर सल क मजबत पड क सल म खखल कर दय res...</td>\n",
       "    </tr>\n",
       "    <tr>\n",
       "      <th>3</th>\n",
       "      <td>60c5d7495659ea5e55df0666</td>\n",
       "      <td>hi_hasoc_2021_13</td>\n",
       "      <td>@dmfatehpur हमारे ग्राम पंचायत सिधांव जिला फते...</td>\n",
       "      <td>dmfatehpur हमर गरम पचयत सधव जल फतहपर उ पर म तल...</td>\n",
       "    </tr>\n",
       "    <tr>\n",
       "      <th>4</th>\n",
       "      <td>60c5d7495659ea5e55df067b</td>\n",
       "      <td>hi_hasoc_2021_15</td>\n",
       "      <td>यह मुझे चैन क्यों नहीं पड़ता एक ही शख़्स था जह...</td>\n",
       "      <td>यह मझ चन कय नह पडत एक ह शखस थ जहन म कय justice...</td>\n",
       "    </tr>\n",
       "    <tr>\n",
       "      <th>5</th>\n",
       "      <td>60c5d7495659ea5e55df0501</td>\n",
       "      <td>hi_hasoc_2021_17</td>\n",
       "      <td>फट्टू हैं bjp वाले #CruelMamata #BengalViolenc...</td>\n",
       "      <td>फटट ह bjp वल cruelmamata bengalviolence bengal...</td>\n",
       "    </tr>\n",
       "  </tbody>\n",
       "</table>\n",
       "</div>"
      ],
      "text/plain": [
       "                         id          tweet_id  \\\n",
       "0  60c5d7495659ea5e55df0546   hi_hasoc_2021_5   \n",
       "1  60c5d7495659ea5e55df0591   hi_hasoc_2021_7   \n",
       "2  60c5d7495659ea5e55df0622  hi_hasoc_2021_12   \n",
       "3  60c5d7495659ea5e55df0666  hi_hasoc_2021_13   \n",
       "4  60c5d7495659ea5e55df067b  hi_hasoc_2021_15   \n",
       "5  60c5d7495659ea5e55df0501  hi_hasoc_2021_17   \n",
       "\n",
       "                                                text  \\\n",
       "0  @hemantmkpandya @news24tvchannel @Aloksharmaai...   \n",
       "1  वोडाफोन ने एक कुत्ता पाला था बहुत फेमस हुआ   फ...   \n",
       "2  घंटे दीमक ने जाकर 70 साल के मज़बूत पेड़ को 7 स...   \n",
       "3  @dmfatehpur हमारे ग्राम पंचायत सिधांव जिला फते...   \n",
       "4  यह मुझे चैन क्यों नहीं पड़ता एक ही शख़्स था जह...   \n",
       "5  फट्टू हैं bjp वाले #CruelMamata #BengalViolenc...   \n",
       "\n",
       "                                          clean_text  \n",
       "0  hemantmkpandya news tvchannel aloksharmaaicc m...  \n",
       "1   वडफन न एक कतत पल थ बहत फमस हआ फर मकश अबन क शक चढ  \n",
       "2  घट दमक न जकर सल क मजबत पड क सल म खखल कर दय res...  \n",
       "3  dmfatehpur हमर गरम पचयत सधव जल फतहपर उ पर म तल...  \n",
       "4  यह मझ चन कय नह पडत एक ह शखस थ जहन म कय justice...  \n",
       "5  फटट ह bjp वल cruelmamata bengalviolence bengal...  "
      ]
     },
     "execution_count": 53,
     "metadata": {},
     "output_type": "execute_result"
    }
   ],
   "source": [
    "df_test.head(6)"
   ]
  },
  {
   "cell_type": "code",
   "execution_count": 54,
   "metadata": {},
   "outputs": [
    {
     "name": "stdout",
     "output_type": "stream",
     "text": [
      "                         id          tweet_id  \\\n",
      "0  60c5d7495659ea5e55df0546   hi_hasoc_2021_5   \n",
      "1  60c5d7495659ea5e55df0591   hi_hasoc_2021_7   \n",
      "2  60c5d7495659ea5e55df0622  hi_hasoc_2021_12   \n",
      "3  60c5d7495659ea5e55df0666  hi_hasoc_2021_13   \n",
      "4  60c5d7495659ea5e55df067b  hi_hasoc_2021_15   \n",
      "\n",
      "                                                text  \\\n",
      "0  @hemantmkpandya @news24tvchannel @Aloksharmaai...   \n",
      "1  वोडाफोन ने एक कुत्ता पाला था बहुत फेमस हुआ   फ...   \n",
      "2  घंटे दीमक ने जाकर 70 साल के मज़बूत पेड़ को 7 स...   \n",
      "3  @dmfatehpur हमारे ग्राम पंचायत सिधांव जिला फते...   \n",
      "4  यह मुझे चैन क्यों नहीं पड़ता एक ही शख़्स था जह...   \n",
      "\n",
      "                                          clean_text  predict_prob  task_2  \n",
      "0  hemantmkpandya news tvchannel aloksharmaaicc m...      0.485414       1  \n",
      "1   वडफन न एक कतत पल थ बहत फमस हआ फर मकश अबन क शक चढ      0.384081       0  \n",
      "2  घट दमक न जकर सल क मजबत पड क सल म खखल कर दय res...      0.057330       0  \n",
      "3  dmfatehpur हमर गरम पचयत सधव जल फतहपर उ पर म तल...      0.111282       0  \n",
      "4  यह मझ चन कय नह पडत एक ह शखस थ जहन म कय justice...      0.020153       0  \n"
     ]
    }
   ],
   "source": [
    "#CATBOOST\n",
    "X_vector = vectorizer.transform(X_test) #converting X_test to vector\n",
    "y_predict = clf2.predict(X_vector)      #use the trained model on X_vector\n",
    "y_prob = clf2.predict_proba(X_vector)[:,1]\n",
    "df_test['predict_prob']= y_prob\n",
    "df_test['task_2']= y_predict\n",
    "print(df_test.head())\n",
    "final=df_test[['tweet_id','task_2']].reset_index(drop=True)\n",
    "final.to_csv('submission7.csv')"
   ]
  },
  {
   "cell_type": "code",
   "execution_count": 55,
   "metadata": {},
   "outputs": [
    {
     "name": "stdout",
     "output_type": "stream",
     "text": [
      "                         id          tweet_id  \\\n",
      "0  60c5d7495659ea5e55df0546   hi_hasoc_2021_5   \n",
      "1  60c5d7495659ea5e55df0591   hi_hasoc_2021_7   \n",
      "2  60c5d7495659ea5e55df0622  hi_hasoc_2021_12   \n",
      "3  60c5d7495659ea5e55df0666  hi_hasoc_2021_13   \n",
      "4  60c5d7495659ea5e55df067b  hi_hasoc_2021_15   \n",
      "\n",
      "                                                text  \\\n",
      "0  @hemantmkpandya @news24tvchannel @Aloksharmaai...   \n",
      "1  वोडाफोन ने एक कुत्ता पाला था बहुत फेमस हुआ   फ...   \n",
      "2  घंटे दीमक ने जाकर 70 साल के मज़बूत पेड़ को 7 स...   \n",
      "3  @dmfatehpur हमारे ग्राम पंचायत सिधांव जिला फते...   \n",
      "4  यह मुझे चैन क्यों नहीं पड़ता एक ही शख़्स था जह...   \n",
      "\n",
      "                                          clean_text  predict_prob  task_2  \n",
      "0  hemantmkpandya news tvchannel aloksharmaaicc m...      0.330975       0  \n",
      "1   वडफन न एक कतत पल थ बहत फमस हआ फर मकश अबन क शक चढ      0.527005       1  \n",
      "2  घट दमक न जकर सल क मजबत पड क सल म खखल कर दय res...      0.153448       0  \n",
      "3  dmfatehpur हमर गरम पचयत सधव जल फतहपर उ पर म तल...      0.397156       0  \n",
      "4  यह मझ चन कय नह पडत एक ह शखस थ जहन म कय justice...      0.008085       0  \n"
     ]
    }
   ],
   "source": [
    "#LOGISTIC REGRESSION\n",
    "y_predict = logreg.predict(X_vector)      #use the trained model on X_vector\n",
    "y_prob = logreg.predict_proba(X_vector)[:,1]\n",
    "df_test['predict_prob']= y_prob\n",
    "df_test['task_2']= y_predict\n",
    "print(df_test.head())\n",
    "final=df_test[['tweet_id','task_2']].reset_index(drop=True)\n",
    "final.to_csv('submission8.csv')"
   ]
  },
  {
   "cell_type": "code",
   "execution_count": 56,
   "metadata": {},
   "outputs": [
    {
     "name": "stdout",
     "output_type": "stream",
     "text": [
      "                         id          tweet_id  \\\n",
      "0  60c5d7495659ea5e55df0546   hi_hasoc_2021_5   \n",
      "1  60c5d7495659ea5e55df0591   hi_hasoc_2021_7   \n",
      "2  60c5d7495659ea5e55df0622  hi_hasoc_2021_12   \n",
      "3  60c5d7495659ea5e55df0666  hi_hasoc_2021_13   \n",
      "4  60c5d7495659ea5e55df067b  hi_hasoc_2021_15   \n",
      "\n",
      "                                                text  \\\n",
      "0  @hemantmkpandya @news24tvchannel @Aloksharmaai...   \n",
      "1  वोडाफोन ने एक कुत्ता पाला था बहुत फेमस हुआ   फ...   \n",
      "2  घंटे दीमक ने जाकर 70 साल के मज़बूत पेड़ को 7 स...   \n",
      "3  @dmfatehpur हमारे ग्राम पंचायत सिधांव जिला फते...   \n",
      "4  यह मुझे चैन क्यों नहीं पड़ता एक ही शख़्स था जह...   \n",
      "\n",
      "                                          clean_text  predict_prob  task_2  \n",
      "0  hemantmkpandya news tvchannel aloksharmaaicc m...          0.44       0  \n",
      "1   वडफन न एक कतत पल थ बहत फमस हआ फर मकश अबन क शक चढ          0.32       3  \n",
      "2  घट दमक न जकर सल क मजबत पड क सल म खखल कर दय res...          0.05       0  \n",
      "3  dmfatehpur हमर गरम पचयत सधव जल फतहपर उ पर म तल...          0.31       0  \n",
      "4  यह मझ चन कय नह पडत एक ह शखस थ जहन म कय justice...          0.00       0  \n"
     ]
    }
   ],
   "source": [
    "#RANDOM FOREST\n",
    "y_predict = rf_clf.predict(X_vector)      #use the trained model on X_vector\n",
    "y_prob = rf_clf.predict_proba(X_vector)[:,1]\n",
    "df_test['predict_prob']= y_prob\n",
    "df_test['task_2']= y_predict\n",
    "print(df_test.head())\n",
    "final=df_test[['tweet_id','task_2']].reset_index(drop=True)\n",
    "final.to_csv('randomf.csv')"
   ]
  },
  {
   "cell_type": "code",
   "execution_count": 57,
   "metadata": {},
   "outputs": [
    {
     "name": "stdout",
     "output_type": "stream",
     "text": [
      "                         id          tweet_id  \\\n",
      "0  60c5d7495659ea5e55df0546   hi_hasoc_2021_5   \n",
      "1  60c5d7495659ea5e55df0591   hi_hasoc_2021_7   \n",
      "2  60c5d7495659ea5e55df0622  hi_hasoc_2021_12   \n",
      "3  60c5d7495659ea5e55df0666  hi_hasoc_2021_13   \n",
      "4  60c5d7495659ea5e55df067b  hi_hasoc_2021_15   \n",
      "\n",
      "                                                text  \\\n",
      "0  @hemantmkpandya @news24tvchannel @Aloksharmaai...   \n",
      "1  वोडाफोन ने एक कुत्ता पाला था बहुत फेमस हुआ   फ...   \n",
      "2  घंटे दीमक ने जाकर 70 साल के मज़बूत पेड़ को 7 स...   \n",
      "3  @dmfatehpur हमारे ग्राम पंचायत सिधांव जिला फते...   \n",
      "4  यह मुझे चैन क्यों नहीं पड़ता एक ही शख़्स था जह...   \n",
      "\n",
      "                                          clean_text  predict_prob  task_2  \n",
      "0  hemantmkpandya news tvchannel aloksharmaaicc m...      0.812852       1  \n",
      "1   वडफन न एक कतत पल थ बहत फमस हआ फर मकश अबन क शक चढ      0.373036       0  \n",
      "2  घट दमक न जकर सल क मजबत पड क सल म खखल कर दय res...      0.010191       0  \n",
      "3  dmfatehpur हमर गरम पचयत सधव जल फतहपर उ पर म तल...      0.000913       0  \n",
      "4  यह मझ चन कय नह पडत एक ह शखस थ जहन म कय justice...      0.000028       0  \n"
     ]
    }
   ],
   "source": [
    "#NAIVE BAYES\n",
    "y_predict = naiveByes_clf.predict(X_vector)      #use the trained model on X_vector\n",
    "y_prob = naiveByes_clf.predict_proba(X_vector)[:,1]\n",
    "df_test['predict_prob']= y_prob\n",
    "df_test['task_2']= y_predict\n",
    "print(df_test.head())\n",
    "final=df_test[['tweet_id','task_2']].reset_index(drop=True)\n",
    "final.to_csv('naiveb.csv')"
   ]
  },
  {
   "cell_type": "code",
   "execution_count": 58,
   "metadata": {},
   "outputs": [
    {
     "name": "stdout",
     "output_type": "stream",
     "text": [
      "                         id          tweet_id  \\\n",
      "0  60c5d7495659ea5e55df0546   hi_hasoc_2021_5   \n",
      "1  60c5d7495659ea5e55df0591   hi_hasoc_2021_7   \n",
      "2  60c5d7495659ea5e55df0622  hi_hasoc_2021_12   \n",
      "3  60c5d7495659ea5e55df0666  hi_hasoc_2021_13   \n",
      "4  60c5d7495659ea5e55df067b  hi_hasoc_2021_15   \n",
      "\n",
      "                                                text  \\\n",
      "0  @hemantmkpandya @news24tvchannel @Aloksharmaai...   \n",
      "1  वोडाफोन ने एक कुत्ता पाला था बहुत फेमस हुआ   फ...   \n",
      "2  घंटे दीमक ने जाकर 70 साल के मज़बूत पेड़ को 7 स...   \n",
      "3  @dmfatehpur हमारे ग्राम पंचायत सिधांव जिला फते...   \n",
      "4  यह मुझे चैन क्यों नहीं पड़ता एक ही शख़्स था जह...   \n",
      "\n",
      "                                          clean_text  predict_prob  task_2  \n",
      "0  hemantmkpandya news tvchannel aloksharmaaicc m...      0.542603       1  \n",
      "1   वडफन न एक कतत पल थ बहत फमस हआ फर मकश अबन क शक चढ      0.480937       1  \n",
      "2  घट दमक न जकर सल क मजबत पड क सल म खखल कर दय res...      0.082911       0  \n",
      "3  dmfatehpur हमर गरम पचयत सधव जल फतहपर उ पर म तल...      0.262309       0  \n",
      "4  यह मझ चन कय नह पडत एक ह शखस थ जहन म कय justice...      0.030492       0  \n"
     ]
    }
   ],
   "source": [
    "#XGBOOST\n",
    "y_predict = xgboost_clf.predict(X_vector)      #use the trained model on X_vector\n",
    "y_prob = xgboost_clf.predict_proba(X_vector)[:,1]\n",
    "df_test['predict_prob']= y_prob\n",
    "df_test['task_2']= y_predict\n",
    "print(df_test.head())\n",
    "final=df_test[['tweet_id','task_2']].reset_index(drop=True)\n",
    "final.to_csv('xg.csv')"
   ]
  },
  {
   "cell_type": "code",
   "execution_count": 59,
   "metadata": {},
   "outputs": [
    {
     "name": "stdout",
     "output_type": "stream",
     "text": [
      "                         id          tweet_id  \\\n",
      "0  60c5d7495659ea5e55df0546   hi_hasoc_2021_5   \n",
      "1  60c5d7495659ea5e55df0591   hi_hasoc_2021_7   \n",
      "2  60c5d7495659ea5e55df0622  hi_hasoc_2021_12   \n",
      "3  60c5d7495659ea5e55df0666  hi_hasoc_2021_13   \n",
      "4  60c5d7495659ea5e55df067b  hi_hasoc_2021_15   \n",
      "\n",
      "                                                text  \\\n",
      "0  @hemantmkpandya @news24tvchannel @Aloksharmaai...   \n",
      "1  वोडाफोन ने एक कुत्ता पाला था बहुत फेमस हुआ   फ...   \n",
      "2  घंटे दीमक ने जाकर 70 साल के मज़बूत पेड़ को 7 स...   \n",
      "3  @dmfatehpur हमारे ग्राम पंचायत सिधांव जिला फते...   \n",
      "4  यह मुझे चैन क्यों नहीं पड़ता एक ही शख़्स था जह...   \n",
      "\n",
      "                                          clean_text  predict_prob  task_2  \n",
      "0  hemantmkpandya news tvchannel aloksharmaaicc m...      0.772971       1  \n",
      "1   वडफन न एक कतत पल थ बहत फमस हआ फर मकश अबन क शक चढ      0.481685       1  \n",
      "2  घट दमक न जकर सल क मजबत पड क सल म खखल कर दय res...      0.100522       0  \n",
      "3  dmfatehpur हमर गरम पचयत सधव जल फतहपर उ पर म तल...      0.094917       0  \n",
      "4  यह मझ चन कय नह पडत एक ह शखस थ जहन म कय justice...      0.026607       0  \n"
     ]
    }
   ],
   "source": [
    "#SUPPORT VECTOR MACHINE\n",
    "y_predict = svc.predict(X_vector)      #use the trained model on X_vector\n",
    "y_prob = svc.predict_proba(X_vector)[:,1]\n",
    "df_test['predict_prob']= y_prob\n",
    "df_test['task_2']= y_predict\n",
    "print(df_test.head())\n",
    "final=df_test[['tweet_id','task_2']].reset_index(drop=True)\n",
    "final.to_csv('svm2.csv')"
   ]
  },
  {
   "cell_type": "code",
   "execution_count": null,
   "metadata": {},
   "outputs": [],
   "source": []
  },
  {
   "cell_type": "code",
   "execution_count": null,
   "metadata": {},
   "outputs": [],
   "source": []
  },
  {
   "cell_type": "code",
   "execution_count": null,
   "metadata": {},
   "outputs": [],
   "source": []
  },
  {
   "cell_type": "code",
   "execution_count": null,
   "metadata": {},
   "outputs": [],
   "source": []
  }
 ],
 "metadata": {
  "kernelspec": {
   "display_name": "Python 3",
   "language": "python",
   "name": "python3"
  },
  "language_info": {
   "codemirror_mode": {
    "name": "ipython",
    "version": 3
   },
   "file_extension": ".py",
   "mimetype": "text/x-python",
   "name": "python",
   "nbconvert_exporter": "python",
   "pygments_lexer": "ipython3",
   "version": "3.8.5"
  }
 },
 "nbformat": 4,
 "nbformat_minor": 4
}
